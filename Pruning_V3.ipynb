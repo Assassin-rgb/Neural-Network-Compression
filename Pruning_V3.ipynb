{
  "nbformat": 4,
  "nbformat_minor": 0,
  "metadata": {
    "accelerator": "GPU",
    "colab": {
      "name": "Pruning_V3.ipynb",
      "provenance": [],
      "collapsed_sections": [
        "i1_UyaYherMo",
        "IXZCMJu-s0xf",
        "UF5cXKwxc2mZ",
        "BnSK_srGc5sz",
        "q_Spz6ttbBa8",
        "WusryuiSW0sT"
      ]
    },
    "kernelspec": {
      "display_name": "Python 3",
      "name": "python3"
    },
    "language_info": {
      "name": "python"
    },
    "widgets": {
      "application/vnd.jupyter.widget-state+json": {
        "be847fbc37514297b259c27fe6891903": {
          "model_module": "@jupyter-widgets/controls",
          "model_name": "HBoxModel",
          "model_module_version": "1.5.0",
          "state": {
            "_view_name": "HBoxView",
            "_dom_classes": [],
            "_model_name": "HBoxModel",
            "_view_module": "@jupyter-widgets/controls",
            "_model_module_version": "1.5.0",
            "_view_count": null,
            "_view_module_version": "1.5.0",
            "box_style": "",
            "layout": "IPY_MODEL_85a80f353ecd4f5199c86a5332b38938",
            "_model_module": "@jupyter-widgets/controls",
            "children": [
              "IPY_MODEL_a0cdfcbda08541ffb75f9de5310b2d35",
              "IPY_MODEL_2c7273f3326e44beae4bb1f94e7be689",
              "IPY_MODEL_715709a07e584bcfbc66b5539bb5dec5"
            ]
          }
        },
        "85a80f353ecd4f5199c86a5332b38938": {
          "model_module": "@jupyter-widgets/base",
          "model_name": "LayoutModel",
          "model_module_version": "1.2.0",
          "state": {
            "_view_name": "LayoutView",
            "grid_template_rows": null,
            "right": null,
            "justify_content": null,
            "_view_module": "@jupyter-widgets/base",
            "overflow": null,
            "_model_module_version": "1.2.0",
            "_view_count": null,
            "flex_flow": null,
            "width": null,
            "min_width": null,
            "border": null,
            "align_items": null,
            "bottom": null,
            "_model_module": "@jupyter-widgets/base",
            "top": null,
            "grid_column": null,
            "overflow_y": null,
            "overflow_x": null,
            "grid_auto_flow": null,
            "grid_area": null,
            "grid_template_columns": null,
            "flex": null,
            "_model_name": "LayoutModel",
            "justify_items": null,
            "grid_row": null,
            "max_height": null,
            "align_content": null,
            "visibility": null,
            "align_self": null,
            "height": null,
            "min_height": null,
            "padding": null,
            "grid_auto_rows": null,
            "grid_gap": null,
            "max_width": null,
            "order": null,
            "_view_module_version": "1.2.0",
            "grid_template_areas": null,
            "object_position": null,
            "object_fit": null,
            "grid_auto_columns": null,
            "margin": null,
            "display": null,
            "left": null
          }
        },
        "a0cdfcbda08541ffb75f9de5310b2d35": {
          "model_module": "@jupyter-widgets/controls",
          "model_name": "HTMLModel",
          "model_module_version": "1.5.0",
          "state": {
            "_view_name": "HTMLView",
            "style": "IPY_MODEL_8a802b93f73e4022a58a1d2622e6e33e",
            "_dom_classes": [],
            "description": "",
            "_model_name": "HTMLModel",
            "placeholder": "​",
            "_view_module": "@jupyter-widgets/controls",
            "_model_module_version": "1.5.0",
            "value": "",
            "_view_count": null,
            "_view_module_version": "1.5.0",
            "description_tooltip": null,
            "_model_module": "@jupyter-widgets/controls",
            "layout": "IPY_MODEL_e331f893d29b4f90a86389690ccac651"
          }
        },
        "2c7273f3326e44beae4bb1f94e7be689": {
          "model_module": "@jupyter-widgets/controls",
          "model_name": "FloatProgressModel",
          "model_module_version": "1.5.0",
          "state": {
            "_view_name": "ProgressView",
            "style": "IPY_MODEL_b9688f8229eb438298b68843cecdde78",
            "_dom_classes": [],
            "description": "",
            "_model_name": "FloatProgressModel",
            "bar_style": "success",
            "max": 169001437,
            "_view_module": "@jupyter-widgets/controls",
            "_model_module_version": "1.5.0",
            "value": 169001437,
            "_view_count": null,
            "_view_module_version": "1.5.0",
            "orientation": "horizontal",
            "min": 0,
            "description_tooltip": null,
            "_model_module": "@jupyter-widgets/controls",
            "layout": "IPY_MODEL_4b860b12f1874ae28ec4445403044bb7"
          }
        },
        "715709a07e584bcfbc66b5539bb5dec5": {
          "model_module": "@jupyter-widgets/controls",
          "model_name": "HTMLModel",
          "model_module_version": "1.5.0",
          "state": {
            "_view_name": "HTMLView",
            "style": "IPY_MODEL_360509e2f0464ae1867fda06be145480",
            "_dom_classes": [],
            "description": "",
            "_model_name": "HTMLModel",
            "placeholder": "​",
            "_view_module": "@jupyter-widgets/controls",
            "_model_module_version": "1.5.0",
            "value": " 169001984/? [00:03&lt;00:00, 49714447.04it/s]",
            "_view_count": null,
            "_view_module_version": "1.5.0",
            "description_tooltip": null,
            "_model_module": "@jupyter-widgets/controls",
            "layout": "IPY_MODEL_8a53aeef6214440aab3afddf004113ab"
          }
        },
        "8a802b93f73e4022a58a1d2622e6e33e": {
          "model_module": "@jupyter-widgets/controls",
          "model_name": "DescriptionStyleModel",
          "model_module_version": "1.5.0",
          "state": {
            "_view_name": "StyleView",
            "_model_name": "DescriptionStyleModel",
            "description_width": "",
            "_view_module": "@jupyter-widgets/base",
            "_model_module_version": "1.5.0",
            "_view_count": null,
            "_view_module_version": "1.2.0",
            "_model_module": "@jupyter-widgets/controls"
          }
        },
        "e331f893d29b4f90a86389690ccac651": {
          "model_module": "@jupyter-widgets/base",
          "model_name": "LayoutModel",
          "model_module_version": "1.2.0",
          "state": {
            "_view_name": "LayoutView",
            "grid_template_rows": null,
            "right": null,
            "justify_content": null,
            "_view_module": "@jupyter-widgets/base",
            "overflow": null,
            "_model_module_version": "1.2.0",
            "_view_count": null,
            "flex_flow": null,
            "width": null,
            "min_width": null,
            "border": null,
            "align_items": null,
            "bottom": null,
            "_model_module": "@jupyter-widgets/base",
            "top": null,
            "grid_column": null,
            "overflow_y": null,
            "overflow_x": null,
            "grid_auto_flow": null,
            "grid_area": null,
            "grid_template_columns": null,
            "flex": null,
            "_model_name": "LayoutModel",
            "justify_items": null,
            "grid_row": null,
            "max_height": null,
            "align_content": null,
            "visibility": null,
            "align_self": null,
            "height": null,
            "min_height": null,
            "padding": null,
            "grid_auto_rows": null,
            "grid_gap": null,
            "max_width": null,
            "order": null,
            "_view_module_version": "1.2.0",
            "grid_template_areas": null,
            "object_position": null,
            "object_fit": null,
            "grid_auto_columns": null,
            "margin": null,
            "display": null,
            "left": null
          }
        },
        "b9688f8229eb438298b68843cecdde78": {
          "model_module": "@jupyter-widgets/controls",
          "model_name": "ProgressStyleModel",
          "model_module_version": "1.5.0",
          "state": {
            "_view_name": "StyleView",
            "_model_name": "ProgressStyleModel",
            "description_width": "",
            "_view_module": "@jupyter-widgets/base",
            "_model_module_version": "1.5.0",
            "_view_count": null,
            "_view_module_version": "1.2.0",
            "bar_color": null,
            "_model_module": "@jupyter-widgets/controls"
          }
        },
        "4b860b12f1874ae28ec4445403044bb7": {
          "model_module": "@jupyter-widgets/base",
          "model_name": "LayoutModel",
          "model_module_version": "1.2.0",
          "state": {
            "_view_name": "LayoutView",
            "grid_template_rows": null,
            "right": null,
            "justify_content": null,
            "_view_module": "@jupyter-widgets/base",
            "overflow": null,
            "_model_module_version": "1.2.0",
            "_view_count": null,
            "flex_flow": null,
            "width": null,
            "min_width": null,
            "border": null,
            "align_items": null,
            "bottom": null,
            "_model_module": "@jupyter-widgets/base",
            "top": null,
            "grid_column": null,
            "overflow_y": null,
            "overflow_x": null,
            "grid_auto_flow": null,
            "grid_area": null,
            "grid_template_columns": null,
            "flex": null,
            "_model_name": "LayoutModel",
            "justify_items": null,
            "grid_row": null,
            "max_height": null,
            "align_content": null,
            "visibility": null,
            "align_self": null,
            "height": null,
            "min_height": null,
            "padding": null,
            "grid_auto_rows": null,
            "grid_gap": null,
            "max_width": null,
            "order": null,
            "_view_module_version": "1.2.0",
            "grid_template_areas": null,
            "object_position": null,
            "object_fit": null,
            "grid_auto_columns": null,
            "margin": null,
            "display": null,
            "left": null
          }
        },
        "360509e2f0464ae1867fda06be145480": {
          "model_module": "@jupyter-widgets/controls",
          "model_name": "DescriptionStyleModel",
          "model_module_version": "1.5.0",
          "state": {
            "_view_name": "StyleView",
            "_model_name": "DescriptionStyleModel",
            "description_width": "",
            "_view_module": "@jupyter-widgets/base",
            "_model_module_version": "1.5.0",
            "_view_count": null,
            "_view_module_version": "1.2.0",
            "_model_module": "@jupyter-widgets/controls"
          }
        },
        "8a53aeef6214440aab3afddf004113ab": {
          "model_module": "@jupyter-widgets/base",
          "model_name": "LayoutModel",
          "model_module_version": "1.2.0",
          "state": {
            "_view_name": "LayoutView",
            "grid_template_rows": null,
            "right": null,
            "justify_content": null,
            "_view_module": "@jupyter-widgets/base",
            "overflow": null,
            "_model_module_version": "1.2.0",
            "_view_count": null,
            "flex_flow": null,
            "width": null,
            "min_width": null,
            "border": null,
            "align_items": null,
            "bottom": null,
            "_model_module": "@jupyter-widgets/base",
            "top": null,
            "grid_column": null,
            "overflow_y": null,
            "overflow_x": null,
            "grid_auto_flow": null,
            "grid_area": null,
            "grid_template_columns": null,
            "flex": null,
            "_model_name": "LayoutModel",
            "justify_items": null,
            "grid_row": null,
            "max_height": null,
            "align_content": null,
            "visibility": null,
            "align_self": null,
            "height": null,
            "min_height": null,
            "padding": null,
            "grid_auto_rows": null,
            "grid_gap": null,
            "max_width": null,
            "order": null,
            "_view_module_version": "1.2.0",
            "grid_template_areas": null,
            "object_position": null,
            "object_fit": null,
            "grid_auto_columns": null,
            "margin": null,
            "display": null,
            "left": null
          }
        }
      }
    }
  },
  "cells": [
    {
      "cell_type": "markdown",
      "metadata": {
        "id": "i1_UyaYherMo"
      },
      "source": [
        "# Import Library"
      ]
    },
    {
      "cell_type": "code",
      "metadata": {
        "colab": {
          "base_uri": "https://localhost:8080/"
        },
        "id": "KbGX_Okzb5y3",
        "outputId": "a8058275-a282-4195-9529-6e9d16020ddb"
      },
      "source": [
        "!pip install ipython-autotime"
      ],
      "execution_count": 2,
      "outputs": [
        {
          "output_type": "stream",
          "name": "stdout",
          "text": [
            "Collecting ipython-autotime\n",
            "  Downloading ipython_autotime-0.3.1-py2.py3-none-any.whl (6.8 kB)\n",
            "Requirement already satisfied: ipython in /usr/local/lib/python3.7/dist-packages (from ipython-autotime) (5.5.0)\n",
            "Requirement already satisfied: setuptools>=18.5 in /usr/local/lib/python3.7/dist-packages (from ipython->ipython-autotime) (57.4.0)\n",
            "Requirement already satisfied: traitlets>=4.2 in /usr/local/lib/python3.7/dist-packages (from ipython->ipython-autotime) (5.1.0)\n",
            "Requirement already satisfied: decorator in /usr/local/lib/python3.7/dist-packages (from ipython->ipython-autotime) (4.4.2)\n",
            "Requirement already satisfied: prompt-toolkit<2.0.0,>=1.0.4 in /usr/local/lib/python3.7/dist-packages (from ipython->ipython-autotime) (1.0.18)\n",
            "Requirement already satisfied: pygments in /usr/local/lib/python3.7/dist-packages (from ipython->ipython-autotime) (2.6.1)\n",
            "Requirement already satisfied: pexpect in /usr/local/lib/python3.7/dist-packages (from ipython->ipython-autotime) (4.8.0)\n",
            "Requirement already satisfied: simplegeneric>0.8 in /usr/local/lib/python3.7/dist-packages (from ipython->ipython-autotime) (0.8.1)\n",
            "Requirement already satisfied: pickleshare in /usr/local/lib/python3.7/dist-packages (from ipython->ipython-autotime) (0.7.5)\n",
            "Requirement already satisfied: six>=1.9.0 in /usr/local/lib/python3.7/dist-packages (from prompt-toolkit<2.0.0,>=1.0.4->ipython->ipython-autotime) (1.15.0)\n",
            "Requirement already satisfied: wcwidth in /usr/local/lib/python3.7/dist-packages (from prompt-toolkit<2.0.0,>=1.0.4->ipython->ipython-autotime) (0.2.5)\n",
            "Requirement already satisfied: ptyprocess>=0.5 in /usr/local/lib/python3.7/dist-packages (from pexpect->ipython->ipython-autotime) (0.7.0)\n",
            "Installing collected packages: ipython-autotime\n",
            "Successfully installed ipython-autotime-0.3.1\n"
          ]
        }
      ]
    },
    {
      "cell_type": "code",
      "metadata": {
        "colab": {
          "base_uri": "https://localhost:8080/"
        },
        "id": "Row9Vdu7Xo5w",
        "outputId": "03f24317-6999-435a-f30e-b910e6a02aca"
      },
      "source": [
        "!pip install torch_pruning"
      ],
      "execution_count": 3,
      "outputs": [
        {
          "output_type": "stream",
          "name": "stdout",
          "text": [
            "Collecting torch_pruning\n",
            "  Downloading torch_pruning-0.2.7-py3-none-any.whl (14 kB)\n",
            "Requirement already satisfied: torch in /usr/local/lib/python3.7/dist-packages (from torch_pruning) (1.9.0+cu102)\n",
            "Requirement already satisfied: typing-extensions in /usr/local/lib/python3.7/dist-packages (from torch->torch_pruning) (3.7.4.3)\n",
            "Installing collected packages: torch-pruning\n",
            "Successfully installed torch-pruning-0.2.7\n"
          ]
        }
      ]
    },
    {
      "cell_type": "code",
      "metadata": {
        "colab": {
          "base_uri": "https://localhost:8080/"
        },
        "id": "g6ZxiTs1cGGW",
        "outputId": "2b11d10c-f30c-4f46-abce-e43c08b069f9"
      },
      "source": [
        "import numpy as np\n",
        "import matplotlib.pyplot as plt\n",
        "import torch\n",
        "import torch.nn as nn\n",
        "from torch.utils.data import DataLoader\n",
        "from torchvision import models,transforms,datasets\n",
        "import torch.nn.utils.prune as prune\n",
        "from copy import deepcopy\n",
        "import torch_pruning as tp\n",
        "\n",
        "%load_ext autotime"
      ],
      "execution_count": 4,
      "outputs": [
        {
          "output_type": "stream",
          "name": "stdout",
          "text": [
            "time: 84.4 µs (started: 2021-09-20 07:59:09 +00:00)\n"
          ]
        }
      ]
    },
    {
      "cell_type": "code",
      "metadata": {
        "colab": {
          "base_uri": "https://localhost:8080/"
        },
        "id": "6VGYy7LKeKIr",
        "outputId": "ed6ea132-8635-466f-854a-33fe7f6cbe59"
      },
      "source": [
        "num_classes = 100\n",
        "batch_size = 64"
      ],
      "execution_count": 5,
      "outputs": [
        {
          "output_type": "stream",
          "name": "stdout",
          "text": [
            "time: 914 µs (started: 2021-09-20 07:59:09 +00:00)\n"
          ]
        }
      ]
    },
    {
      "cell_type": "code",
      "metadata": {
        "colab": {
          "base_uri": "https://localhost:8080/"
        },
        "id": "nwyHLnPtdcIP",
        "outputId": "87ddaffa-dfcc-47e6-ac03-8c8d6a6c9b9f"
      },
      "source": [
        "device = torch.device('cuda' if torch.cuda.is_available() else 'cpu')\n",
        "print(device)"
      ],
      "execution_count": 6,
      "outputs": [
        {
          "output_type": "stream",
          "name": "stdout",
          "text": [
            "cuda\n",
            "time: 82.5 ms (started: 2021-09-20 07:59:09 +00:00)\n"
          ]
        }
      ]
    },
    {
      "cell_type": "markdown",
      "metadata": {
        "id": "IXZCMJu-s0xf"
      },
      "source": [
        "# Important Functions"
      ]
    },
    {
      "cell_type": "code",
      "metadata": {
        "colab": {
          "base_uri": "https://localhost:8080/"
        },
        "id": "_3uShyiPeGI7",
        "outputId": "710da3f1-44fd-4c04-ff0e-130c77b4aa78"
      },
      "source": [
        "def get_total_parameters(model):\n",
        "    return sum(p.numel() for p in model.parameters() if p.requires_grad)\n",
        "\n",
        "\n",
        "def get_pruned_parameters(pruned_model):\n",
        "    params = 0\n",
        "    for param in pruned_model.parameters():\n",
        "        if param is not None:\n",
        "            params += torch.nonzero(param).size(0)\n",
        "    return params"
      ],
      "execution_count": 7,
      "outputs": [
        {
          "output_type": "stream",
          "name": "stdout",
          "text": [
            "time: 5.14 ms (started: 2021-09-20 07:59:09 +00:00)\n"
          ]
        }
      ]
    },
    {
      "cell_type": "code",
      "metadata": {
        "colab": {
          "base_uri": "https://localhost:8080/"
        },
        "id": "huG_LHkaXYXx",
        "outputId": "c3675636-22d9-403e-ed7b-144deb59e925"
      },
      "source": [
        "def measure_module_sparsity(module, weight=True, bias=False, use_mask=False):\n",
        "    num_zeros = 0\n",
        "    num_elements = 0\n",
        "    if use_mask == True:\n",
        "        for buffer_name, buffer in module.named_buffers():\n",
        "            if \"weight_mask\" in buffer_name and weight == True:\n",
        "                num_zeros += torch.sum(buffer == 0).item()\n",
        "                num_elements += buffer.nelement()\n",
        "            if \"bias_mask\" in buffer_name and bias == True:\n",
        "                num_zeros += torch.sum(buffer == 0).item()\n",
        "                num_elements += buffer.nelement()\n",
        "    else:\n",
        "        for param_name, param in module.named_parameters():\n",
        "            if \"weight\" in param_name and weight == True:\n",
        "                num_zeros += torch.sum(param == 0).item()\n",
        "                num_elements += param.nelement()\n",
        "            if \"bias\" in param_name and bias == True:\n",
        "                num_zeros += torch.sum(param == 0).item()\n",
        "                num_elements += param.nelement()\n",
        "\n",
        "    sparsity = num_zeros / num_elements\n",
        "\n",
        "    return num_zeros, num_elements, sparsity"
      ],
      "execution_count": 8,
      "outputs": [
        {
          "output_type": "stream",
          "name": "stdout",
          "text": [
            "time: 19.2 ms (started: 2021-09-20 07:59:10 +00:00)\n"
          ]
        }
      ]
    },
    {
      "cell_type": "code",
      "metadata": {
        "colab": {
          "base_uri": "https://localhost:8080/"
        },
        "id": "ZrwAHE5je3zj",
        "outputId": "87769d98-7ceb-4d05-ca8d-4e58d4774362"
      },
      "source": [
        "def measure_global_sparsity(model,\n",
        "                            weight=True,\n",
        "                            bias=False,\n",
        "                            conv2d_use_mask=False,\n",
        "                            linear_use_mask=False):\n",
        "\n",
        "    num_zeros = 0\n",
        "    num_elements = 0\n",
        "\n",
        "    for module_name, module in model.named_modules():\n",
        "\n",
        "        if isinstance(module, torch.nn.Conv2d):\n",
        "\n",
        "            module_num_zeros, module_num_elements, _ = measure_module_sparsity(\n",
        "                module, weight=weight, bias=bias, use_mask=conv2d_use_mask)\n",
        "            num_zeros += module_num_zeros\n",
        "            num_elements += module_num_elements\n",
        "\n",
        "        elif isinstance(module, torch.nn.Linear):\n",
        "\n",
        "            module_num_zeros, module_num_elements, _ = measure_module_sparsity(\n",
        "                module, weight=weight, bias=bias, use_mask=linear_use_mask)\n",
        "            num_zeros += module_num_zeros\n",
        "            num_elements += module_num_elements\n",
        "\n",
        "    sparsity = num_zeros / num_elements\n",
        "\n",
        "    return num_zeros, num_elements, sparsity"
      ],
      "execution_count": 9,
      "outputs": [
        {
          "output_type": "stream",
          "name": "stdout",
          "text": [
            "time: 14.6 ms (started: 2021-09-20 07:59:10 +00:00)\n"
          ]
        }
      ]
    },
    {
      "cell_type": "code",
      "metadata": {
        "colab": {
          "base_uri": "https://localhost:8080/"
        },
        "id": "QQwrIpKDZWE6",
        "outputId": "a0a5f8c9-3a35-4857-99cf-a2bbf5db4fe5"
      },
      "source": [
        "def remove_parameters(model):\n",
        "    for module_name, module in model.named_modules():\n",
        "        if isinstance(module, torch.nn.Conv2d):\n",
        "            try:\n",
        "                prune.remove(module, \"weight\")\n",
        "            except:\n",
        "                pass\n",
        "            try:\n",
        "                prune.remove(module, \"bias\")\n",
        "            except:\n",
        "                pass\n",
        "        elif isinstance(module, torch.nn.Linear):\n",
        "            try:\n",
        "                prune.remove(module, \"weight\")\n",
        "            except:\n",
        "                pass\n",
        "            try:\n",
        "                prune.remove(module, \"bias\")\n",
        "            except:\n",
        "                pass\n",
        "    return model"
      ],
      "execution_count": 10,
      "outputs": [
        {
          "output_type": "stream",
          "name": "stdout",
          "text": [
            "time: 10.1 ms (started: 2021-09-20 07:59:10 +00:00)\n"
          ]
        }
      ]
    },
    {
      "cell_type": "code",
      "metadata": {
        "colab": {
          "base_uri": "https://localhost:8080/"
        },
        "id": "wgJyj6r0tjFq",
        "outputId": "4b87491f-e3f8-444b-93aa-4b7492f58955"
      },
      "source": [
        "def fit(model, dataset, optimizer, criterion):\n",
        "  #Set model to training mode\n",
        "  model.train()\n",
        "  #Iterate over data\n",
        "  for data, targets in dataset:\n",
        "    data = data.to(device)\n",
        "    targets = targets.to(device)\n",
        "    #Reset the gradients\n",
        "    optimizer.zero_grad()\n",
        "    # Generate predictions\n",
        "    out = model(data)\n",
        "    # Calculate loss\n",
        "    loss = criterion(out, targets)\n",
        "    # Backpropagation\n",
        "    loss.backward()\n",
        "    # Update model parameters\n",
        "    optimizer.step()"
      ],
      "execution_count": 11,
      "outputs": [
        {
          "output_type": "stream",
          "name": "stdout",
          "text": [
            "time: 12 ms (started: 2021-09-20 07:59:10 +00:00)\n"
          ]
        }
      ]
    },
    {
      "cell_type": "code",
      "metadata": {
        "colab": {
          "base_uri": "https://localhost:8080/"
        },
        "id": "iRZSs3SNdYGm",
        "outputId": "5d5301b7-6734-4258-fbde-082c5dbfb835"
      },
      "source": [
        "def evaluate(model, dataloader):\n",
        "  model.eval()\n",
        "  acc = 0\n",
        "  loss = []\n",
        "  for data, targets in dataloader:\n",
        "    data = data.to(device)\n",
        "    targets = targets.to(device)\n",
        "    out = model(data)\n",
        "    #Get loss\n",
        "    l = criterion(out, targets)\n",
        "    loss.append(l.item())\n",
        "    #Get index of class label\n",
        "    _,preds = torch.max(out.data,1)\n",
        "    #Get accuracy\n",
        "    acc += torch.sum(preds == targets).item()\n",
        "\n",
        "  return 100*acc/len(dataloader.dataset), np.mean(np.array(loss))"
      ],
      "execution_count": 12,
      "outputs": [
        {
          "output_type": "stream",
          "name": "stdout",
          "text": [
            "time: 9.5 ms (started: 2021-09-20 07:59:10 +00:00)\n"
          ]
        }
      ]
    },
    {
      "cell_type": "code",
      "metadata": {
        "colab": {
          "base_uri": "https://localhost:8080/"
        },
        "id": "EAt4s81pw5KW",
        "outputId": "07814ac8-d486-4715-ef1e-5530cb6b27f1"
      },
      "source": [
        "def unstructured_global_pruning(model, amount):\n",
        "  pruning_model = deepcopy(model)\n",
        "  pruning_model = pruning_model.to(device)\n",
        "\n",
        "  parameters_to_prune = []\n",
        "  for module_name, module in pruning_model.named_modules():\n",
        "      if isinstance(module, torch.nn.Conv2d) or isinstance(module, torch.nn.Linear):\n",
        "          parameters_to_prune.append((module, \"weight\"))\n",
        "  parameters_to_prune = parameters_to_prune[:-1]\n",
        "\n",
        "  prune.global_unstructured(\n",
        "      parameters = parameters_to_prune,\n",
        "      pruning_method = prune.L1Unstructured,\n",
        "      amount = amount)\n",
        "\n",
        "  pruning_model = remove_parameters(model = pruning_model)\n",
        "\n",
        "  return pruning_model"
      ],
      "execution_count": 13,
      "outputs": [
        {
          "output_type": "stream",
          "name": "stdout",
          "text": [
            "time: 10.8 ms (started: 2021-09-20 07:59:10 +00:00)\n"
          ]
        }
      ]
    },
    {
      "cell_type": "code",
      "metadata": {
        "colab": {
          "base_uri": "https://localhost:8080/"
        },
        "id": "wxemDv7Mw68v",
        "outputId": "54d5a3bf-de5e-4a6c-f83e-56f9209c25b3"
      },
      "source": [
        "def structured_pruning(model, sparsity_layer):\n",
        "  prune_model = deepcopy(model)\n",
        "  prune_model = prune_model.to(device)\n",
        "\n",
        "  prunable_module_type = (nn.Conv2d, nn.Linear)\n",
        "  prunable_modules = [ m for m in prune_model.modules() if isinstance(m, prunable_module_type) ]\n",
        "  prunable_modules = prunable_modules[:-1]\n",
        "\n",
        "  strategy = tp.strategy.L1Strategy()\n",
        "  DG = tp.DependencyGraph().build_dependency(prune_model, example_inputs = torch.randn(1,3,64,64))\n",
        "\n",
        "  i = 0\n",
        "  for layer_to_prune in prunable_modules:\n",
        "    if isinstance( layer_to_prune, nn.Conv2d ):\n",
        "        prune_fn = tp.prune_conv\n",
        "    elif isinstance(layer_to_prune, nn.Linear):\n",
        "        prune_fn = tp.prune_linear\n",
        "    \n",
        "    pruning_idxs = strategy(layer_to_prune.weight, amount = sparsity_layer[i])\n",
        "    plan = DG.get_pruning_plan( layer_to_prune, prune_fn, pruning_idxs)\n",
        "\n",
        "    i += 1\n",
        "\n",
        "    plan.exec()\n",
        "  \n",
        "  return prune_model"
      ],
      "execution_count": 14,
      "outputs": [
        {
          "output_type": "stream",
          "name": "stdout",
          "text": [
            "time: 24.9 ms (started: 2021-09-20 07:59:10 +00:00)\n"
          ]
        }
      ]
    },
    {
      "cell_type": "markdown",
      "metadata": {
        "id": "UF5cXKwxc2mZ"
      },
      "source": [
        "# Import Data"
      ]
    },
    {
      "cell_type": "code",
      "metadata": {
        "colab": {
          "base_uri": "https://localhost:8080/",
          "height": 0,
          "referenced_widgets": [
            "be847fbc37514297b259c27fe6891903",
            "85a80f353ecd4f5199c86a5332b38938",
            "a0cdfcbda08541ffb75f9de5310b2d35",
            "2c7273f3326e44beae4bb1f94e7be689",
            "715709a07e584bcfbc66b5539bb5dec5",
            "8a802b93f73e4022a58a1d2622e6e33e",
            "e331f893d29b4f90a86389690ccac651",
            "b9688f8229eb438298b68843cecdde78",
            "4b860b12f1874ae28ec4445403044bb7",
            "360509e2f0464ae1867fda06be145480",
            "8a53aeef6214440aab3afddf004113ab"
          ]
        },
        "id": "lHYlQYfStda_",
        "outputId": "ccfafde8-fca0-4cb2-8d66-7474d9f7ddc5"
      },
      "source": [
        "train_transform = transforms.Compose([transforms.Resize(64),\n",
        "                                   transforms.RandomHorizontalFlip(),\n",
        "                                   transforms.RandomRotation(15),\n",
        "                                   transforms.ToTensor(),\n",
        "                                   transforms.Normalize((0.48,0.4593,0.4155),(0.2774,0.2794,0.2794))])\n",
        "\n",
        "train_set = datasets.CIFAR100(root = \"CIFAR100\", train = True, download = True, transform = train_transform)"
      ],
      "execution_count": 15,
      "outputs": [
        {
          "output_type": "stream",
          "name": "stdout",
          "text": [
            "Downloading https://www.cs.toronto.edu/~kriz/cifar-100-python.tar.gz to CIFAR100/cifar-100-python.tar.gz\n"
          ]
        },
        {
          "output_type": "display_data",
          "data": {
            "application/vnd.jupyter.widget-view+json": {
              "model_id": "be847fbc37514297b259c27fe6891903",
              "version_minor": 0,
              "version_major": 2
            },
            "text/plain": [
              "  0%|          | 0/169001437 [00:00<?, ?it/s]"
            ]
          },
          "metadata": {}
        },
        {
          "output_type": "stream",
          "name": "stdout",
          "text": [
            "Extracting CIFAR100/cifar-100-python.tar.gz to CIFAR100\n",
            "time: 6.81 s (started: 2021-09-20 07:59:10 +00:00)\n"
          ]
        }
      ]
    },
    {
      "cell_type": "code",
      "metadata": {
        "colab": {
          "base_uri": "https://localhost:8080/"
        },
        "id": "brD9lhn7cwKy",
        "outputId": "5977923b-7e6b-4945-a770-99ab784a4b6c"
      },
      "source": [
        "test_transform = transforms.Compose([transforms.Resize(64),\n",
        "                                  transforms.ToTensor(),\n",
        "                                  transforms.Normalize((0.48,0.4593,0.4155),(0.2774,0.2794,0.2794))])\n",
        "\n",
        "test_set = datasets.CIFAR100(root = \"CIFAR100\", train = False, download = True, transform = test_transform)"
      ],
      "execution_count": 16,
      "outputs": [
        {
          "output_type": "stream",
          "name": "stdout",
          "text": [
            "Files already downloaded and verified\n",
            "time: 902 ms (started: 2021-09-20 07:59:17 +00:00)\n"
          ]
        }
      ]
    },
    {
      "cell_type": "code",
      "metadata": {
        "colab": {
          "base_uri": "https://localhost:8080/"
        },
        "id": "wP2R-821dqQZ",
        "outputId": "e380ff04-ef77-487a-b2ab-20da4a4366b7"
      },
      "source": [
        "train_dataloader = DataLoader(train_set, batch_size = batch_size, shuffle = True)\n",
        "test_dataloader = DataLoader(test_set, batch_size = batch_size)"
      ],
      "execution_count": 17,
      "outputs": [
        {
          "output_type": "stream",
          "name": "stdout",
          "text": [
            "time: 2.4 ms (started: 2021-09-20 07:59:17 +00:00)\n"
          ]
        }
      ]
    },
    {
      "cell_type": "code",
      "metadata": {
        "colab": {
          "base_uri": "https://localhost:8080/"
        },
        "id": "2ZrNyPVStxNw",
        "outputId": "20badb37-6ca1-4e66-eb74-86f94bab5dcd"
      },
      "source": [
        "criterion = nn.CrossEntropyLoss()"
      ],
      "execution_count": 18,
      "outputs": [
        {
          "output_type": "stream",
          "name": "stdout",
          "text": [
            "time: 4.13 ms (started: 2021-09-20 07:59:17 +00:00)\n"
          ]
        }
      ]
    },
    {
      "cell_type": "markdown",
      "metadata": {
        "id": "BnSK_srGc5sz"
      },
      "source": [
        "# Import Model to be Pruned"
      ]
    },
    {
      "cell_type": "code",
      "metadata": {
        "colab": {
          "base_uri": "https://localhost:8080/"
        },
        "id": "GjAXLxMTcdds",
        "outputId": "d5c8ac81-8b57-4125-c514-0916274d155c"
      },
      "source": [
        "model = torch.load('/content/drive/MyDrive/Sai/PrunedModel_V2.pt')"
      ],
      "execution_count": null,
      "outputs": [
        {
          "output_type": "stream",
          "name": "stdout",
          "text": [
            "time: 9.89 s (started: 2021-09-20 03:34:01 +00:00)\n"
          ]
        }
      ]
    },
    {
      "cell_type": "code",
      "metadata": {
        "colab": {
          "base_uri": "https://localhost:8080/"
        },
        "id": "HM_6N0mThlB2",
        "outputId": "b664c983-8652-451f-f6e3-7c43fe8d4b1d"
      },
      "source": [
        "print(model)"
      ],
      "execution_count": null,
      "outputs": [
        {
          "output_type": "stream",
          "name": "stdout",
          "text": [
            "VGG(\n",
            "  (features): Sequential(\n",
            "    (0): Conv2d(3, 63, kernel_size=(3, 3), stride=(1, 1), padding=(1, 1))\n",
            "    (1): ReLU(inplace=True)\n",
            "    (2): Conv2d(63, 51, kernel_size=(3, 3), stride=(1, 1), padding=(1, 1))\n",
            "    (3): ReLU(inplace=True)\n",
            "    (4): MaxPool2d(kernel_size=2, stride=2, padding=0, dilation=1, ceil_mode=False)\n",
            "    (5): Conv2d(51, 101, kernel_size=(3, 3), stride=(1, 1), padding=(1, 1))\n",
            "    (6): ReLU(inplace=True)\n",
            "    (7): Conv2d(101, 95, kernel_size=(3, 3), stride=(1, 1), padding=(1, 1))\n",
            "    (8): ReLU(inplace=True)\n",
            "    (9): MaxPool2d(kernel_size=2, stride=2, padding=0, dilation=1, ceil_mode=False)\n",
            "    (10): Conv2d(95, 176, kernel_size=(3, 3), stride=(1, 1), padding=(1, 1))\n",
            "    (11): ReLU(inplace=True)\n",
            "    (12): Conv2d(176, 159, kernel_size=(3, 3), stride=(1, 1), padding=(1, 1))\n",
            "    (13): ReLU(inplace=True)\n",
            "    (14): Conv2d(159, 166, kernel_size=(3, 3), stride=(1, 1), padding=(1, 1))\n",
            "    (15): ReLU(inplace=True)\n",
            "    (16): MaxPool2d(kernel_size=2, stride=2, padding=0, dilation=1, ceil_mode=False)\n",
            "    (17): Conv2d(166, 298, kernel_size=(3, 3), stride=(1, 1), padding=(1, 1))\n",
            "    (18): ReLU(inplace=True)\n",
            "    (19): Conv2d(298, 249, kernel_size=(3, 3), stride=(1, 1), padding=(1, 1))\n",
            "    (20): ReLU(inplace=True)\n",
            "    (21): Conv2d(249, 245, kernel_size=(3, 3), stride=(1, 1), padding=(1, 1))\n",
            "    (22): ReLU(inplace=True)\n",
            "    (23): MaxPool2d(kernel_size=2, stride=2, padding=0, dilation=1, ceil_mode=False)\n",
            "    (24): Conv2d(245, 243, kernel_size=(3, 3), stride=(1, 1), padding=(1, 1))\n",
            "    (25): ReLU(inplace=True)\n",
            "    (26): Conv2d(243, 233, kernel_size=(3, 3), stride=(1, 1), padding=(1, 1))\n",
            "    (27): ReLU(inplace=True)\n",
            "    (28): Conv2d(233, 210, kernel_size=(3, 3), stride=(1, 1), padding=(1, 1))\n",
            "    (29): ReLU(inplace=True)\n",
            "    (30): MaxPool2d(kernel_size=2, stride=2, padding=0, dilation=1, ceil_mode=False)\n",
            "  )\n",
            "  (avgpool): AdaptiveAvgPool2d(output_size=(7, 7))\n",
            "  (classifier): Sequential(\n",
            "    (0): Linear(in_features=10290, out_features=87, bias=True)\n",
            "    (1): ReLU(inplace=True)\n",
            "    (2): Dropout(p=0.5, inplace=False)\n",
            "    (3): Linear(in_features=87, out_features=1181, bias=True)\n",
            "    (4): ReLU(inplace=True)\n",
            "    (5): Dropout(p=0.5, inplace=False)\n",
            "    (6): Linear(in_features=1181, out_features=100, bias=True)\n",
            "  )\n",
            ")\n",
            "time: 1.6 ms (started: 2021-09-20 03:34:11 +00:00)\n"
          ]
        }
      ]
    },
    {
      "cell_type": "markdown",
      "metadata": {
        "id": "q_Spz6ttbBa8"
      },
      "source": [
        "# Unstructured Pruning"
      ]
    },
    {
      "cell_type": "code",
      "metadata": {
        "colab": {
          "base_uri": "https://localhost:8080/"
        },
        "id": "0Z3kdi6SiCj0",
        "outputId": "2c83453a-0b61-4822-811a-40e6aaca77b5"
      },
      "source": [
        "ustp_model = unstructured_global_pruning(model, 0.3)"
      ],
      "execution_count": null,
      "outputs": [
        {
          "output_type": "stream",
          "name": "stdout",
          "text": [
            "time: 422 ms (started: 2021-09-20 03:34:11 +00:00)\n"
          ]
        }
      ]
    },
    {
      "cell_type": "code",
      "metadata": {
        "colab": {
          "base_uri": "https://localhost:8080/"
        },
        "id": "cOMgxIUI58Vb",
        "outputId": "2b6b1677-c6a2-4021-ce9d-03c3609d1934"
      },
      "source": [
        "acc, loss = evaluate(ustp_model, test_dataloader)\n",
        "print('Accuracy : ',acc , '\\tLoss : ', loss)"
      ],
      "execution_count": null,
      "outputs": [
        {
          "output_type": "stream",
          "name": "stderr",
          "text": [
            "/usr/local/lib/python3.7/dist-packages/torch/nn/functional.py:718: UserWarning: Named tensors and all their associated APIs are an experimental feature and subject to change. Please do not use them for anything important until they are released as stable. (Triggered internally at  /pytorch/c10/core/TensorImpl.h:1156.)\n",
            "  return torch.max_pool2d(input, kernel_size, stride, padding, dilation, ceil_mode)\n"
          ]
        },
        {
          "output_type": "stream",
          "name": "stdout",
          "text": [
            "Accuracy :  72.95 \tLoss :  1.0824515999882085\n",
            "time: 11.9 s (started: 2021-09-20 03:34:11 +00:00)\n"
          ]
        }
      ]
    },
    {
      "cell_type": "code",
      "metadata": {
        "colab": {
          "base_uri": "https://localhost:8080/"
        },
        "id": "6vxBPg2xoE9c",
        "outputId": "2de6350f-dbd1-4a4a-b29b-2fc085bc41ac"
      },
      "source": [
        "num_zeros, num_elements, sparsity = measure_global_sparsity(\n",
        "            ustp_model,\n",
        "            weight=True,\n",
        "            bias=False,\n",
        "            conv2d_use_mask=False,\n",
        "            linear_use_mask=False)\n",
        "\n",
        "print(\"Global Sparsity:\")\n",
        "print(\"{:.2f}\".format(sparsity))"
      ],
      "execution_count": null,
      "outputs": [
        {
          "output_type": "stream",
          "name": "stdout",
          "text": [
            "Global Sparsity:\n",
            "0.29\n",
            "time: 7.55 ms (started: 2021-09-20 03:34:23 +00:00)\n"
          ]
        }
      ]
    },
    {
      "cell_type": "code",
      "metadata": {
        "colab": {
          "base_uri": "https://localhost:8080/"
        },
        "id": "6_kxpO_NYh1L",
        "outputId": "0b9bf2db-89c7-4ee1-b763-41dac177bfcf"
      },
      "source": [
        "sparsity_layer = []\n",
        "i = 0\n",
        "for module_name, module in ustp_model.named_modules():\n",
        "  if isinstance(module, torch.nn.Conv2d) or isinstance(module, torch.nn.Linear):\n",
        "    num_zeros, num_elements, sparsity = measure_module_sparsity(module, weight=True, bias=False, use_mask=False)\n",
        "    print('Layer', i , num_zeros, num_elements, sparsity)\n",
        "    sparsity_layer.append(sparsity)\n",
        "    i+= 1"
      ],
      "execution_count": null,
      "outputs": [
        {
          "output_type": "stream",
          "name": "stdout",
          "text": [
            "Layer 0 26 1701 0.015285126396237508\n",
            "Layer 1 2911 28917 0.10066742746481308\n",
            "Layer 2 4070 46359 0.08779309303479367\n",
            "Layer 3 9182 86355 0.10632852758960107\n",
            "Layer 4 20062 150480 0.13332004253056884\n",
            "Layer 5 41999 251856 0.16675798869195096\n",
            "Layer 6 35759 237546 0.1505350542631743\n",
            "Layer 7 80301 445212 0.18036575833535484\n",
            "Layer 8 152107 667818 0.2277671461386186\n",
            "Layer 9 120759 549045 0.21994372046007157\n",
            "Layer 10 130232 535815 0.24305403917396862\n",
            "Layer 11 137134 509571 0.2691165706054701\n",
            "Layer 12 124564 440370 0.2828621386561301\n",
            "Layer 13 606203 895230 0.6771477720809177\n",
            "Layer 14 19398 102747 0.18879383339659553\n",
            "Layer 15 0 118100 0.0\n",
            "time: 18.1 ms (started: 2021-09-20 03:34:23 +00:00)\n"
          ]
        }
      ]
    },
    {
      "cell_type": "code",
      "metadata": {
        "colab": {
          "base_uri": "https://localhost:8080/"
        },
        "id": "ONNvvMsxouET",
        "outputId": "6657ecb8-86e6-415c-bf4f-4b4648821fe0"
      },
      "source": [
        "sparsity_layer = [ max(round(round(i,2)-0.01,2),0) for i in sparsity_layer]\n",
        "sparsity_layer"
      ],
      "execution_count": null,
      "outputs": [
        {
          "output_type": "execute_result",
          "data": {
            "text/plain": [
              "[0.01,\n",
              " 0.09,\n",
              " 0.08,\n",
              " 0.1,\n",
              " 0.12,\n",
              " 0.16,\n",
              " 0.14,\n",
              " 0.17,\n",
              " 0.22,\n",
              " 0.21,\n",
              " 0.23,\n",
              " 0.26,\n",
              " 0.27,\n",
              " 0.67,\n",
              " 0.18,\n",
              " 0]"
            ]
          },
          "metadata": {},
          "execution_count": 25
        },
        {
          "output_type": "stream",
          "name": "stdout",
          "text": [
            "time: 11.8 ms (started: 2021-09-20 03:34:23 +00:00)\n"
          ]
        }
      ]
    },
    {
      "cell_type": "markdown",
      "metadata": {
        "id": "WusryuiSW0sT"
      },
      "source": [
        "# Structured Pruning"
      ]
    },
    {
      "cell_type": "code",
      "metadata": {
        "colab": {
          "base_uri": "https://localhost:8080/"
        },
        "id": "3XewNQW8X21O",
        "outputId": "099483c7-3f3b-419f-a4a0-f3c555fd8c5a"
      },
      "source": [
        "stp_model = structured_pruning(ustp_model, sparsity_layer)"
      ],
      "execution_count": null,
      "outputs": [
        {
          "output_type": "stream",
          "name": "stdout",
          "text": [
            "time: 306 ms (started: 2021-09-20 03:34:23 +00:00)\n"
          ]
        }
      ]
    },
    {
      "cell_type": "code",
      "metadata": {
        "colab": {
          "base_uri": "https://localhost:8080/"
        },
        "id": "jlNrqlQpXRP-",
        "outputId": "a004c518-b314-4da9-8667-cd1fcdf081c3"
      },
      "source": [
        "tp.utils.count_params(stp_model)"
      ],
      "execution_count": null,
      "outputs": [
        {
          "output_type": "execute_result",
          "data": {
            "text/plain": [
              "2921463"
            ]
          },
          "metadata": {},
          "execution_count": 27
        },
        {
          "output_type": "stream",
          "name": "stdout",
          "text": [
            "time: 7.72 ms (started: 2021-09-20 03:34:24 +00:00)\n"
          ]
        }
      ]
    },
    {
      "cell_type": "code",
      "metadata": {
        "colab": {
          "base_uri": "https://localhost:8080/"
        },
        "id": "WrmxkvD3XVbB",
        "outputId": "7557eeeb-68d1-46df-eb20-5c17574361bd"
      },
      "source": [
        "print(stp_model)"
      ],
      "execution_count": null,
      "outputs": [
        {
          "output_type": "stream",
          "name": "stdout",
          "text": [
            "VGG(\n",
            "  (features): Sequential(\n",
            "    (0): Conv2d(3, 63, kernel_size=(3, 3), stride=(1, 1), padding=(1, 1))\n",
            "    (1): ReLU(inplace=True)\n",
            "    (2): Conv2d(63, 47, kernel_size=(3, 3), stride=(1, 1), padding=(1, 1))\n",
            "    (3): ReLU(inplace=True)\n",
            "    (4): MaxPool2d(kernel_size=2, stride=2, padding=0, dilation=1, ceil_mode=False)\n",
            "    (5): Conv2d(47, 93, kernel_size=(3, 3), stride=(1, 1), padding=(1, 1))\n",
            "    (6): ReLU(inplace=True)\n",
            "    (7): Conv2d(93, 86, kernel_size=(3, 3), stride=(1, 1), padding=(1, 1))\n",
            "    (8): ReLU(inplace=True)\n",
            "    (9): MaxPool2d(kernel_size=2, stride=2, padding=0, dilation=1, ceil_mode=False)\n",
            "    (10): Conv2d(86, 155, kernel_size=(3, 3), stride=(1, 1), padding=(1, 1))\n",
            "    (11): ReLU(inplace=True)\n",
            "    (12): Conv2d(155, 134, kernel_size=(3, 3), stride=(1, 1), padding=(1, 1))\n",
            "    (13): ReLU(inplace=True)\n",
            "    (14): Conv2d(134, 143, kernel_size=(3, 3), stride=(1, 1), padding=(1, 1))\n",
            "    (15): ReLU(inplace=True)\n",
            "    (16): MaxPool2d(kernel_size=2, stride=2, padding=0, dilation=1, ceil_mode=False)\n",
            "    (17): Conv2d(143, 248, kernel_size=(3, 3), stride=(1, 1), padding=(1, 1))\n",
            "    (18): ReLU(inplace=True)\n",
            "    (19): Conv2d(248, 195, kernel_size=(3, 3), stride=(1, 1), padding=(1, 1))\n",
            "    (20): ReLU(inplace=True)\n",
            "    (21): Conv2d(195, 194, kernel_size=(3, 3), stride=(1, 1), padding=(1, 1))\n",
            "    (22): ReLU(inplace=True)\n",
            "    (23): MaxPool2d(kernel_size=2, stride=2, padding=0, dilation=1, ceil_mode=False)\n",
            "    (24): Conv2d(194, 188, kernel_size=(3, 3), stride=(1, 1), padding=(1, 1))\n",
            "    (25): ReLU(inplace=True)\n",
            "    (26): Conv2d(188, 173, kernel_size=(3, 3), stride=(1, 1), padding=(1, 1))\n",
            "    (27): ReLU(inplace=True)\n",
            "    (28): Conv2d(173, 154, kernel_size=(3, 3), stride=(1, 1), padding=(1, 1))\n",
            "    (29): ReLU(inplace=True)\n",
            "    (30): MaxPool2d(kernel_size=2, stride=2, padding=0, dilation=1, ceil_mode=False)\n",
            "  )\n",
            "  (avgpool): AdaptiveAvgPool2d(output_size=(7, 7))\n",
            "  (classifier): Sequential(\n",
            "    (0): Linear(in_features=7546, out_features=29, bias=True)\n",
            "    (1): ReLU(inplace=True)\n",
            "    (2): Dropout(p=0.5, inplace=False)\n",
            "    (3): Linear(in_features=29, out_features=969, bias=True)\n",
            "    (4): ReLU(inplace=True)\n",
            "    (5): Dropout(p=0.5, inplace=False)\n",
            "    (6): Linear(in_features=969, out_features=100, bias=True)\n",
            "  )\n",
            ")\n",
            "time: 2.09 ms (started: 2021-09-20 03:34:24 +00:00)\n"
          ]
        }
      ]
    },
    {
      "cell_type": "code",
      "metadata": {
        "colab": {
          "base_uri": "https://localhost:8080/"
        },
        "id": "MrzP-UEFjYdc",
        "outputId": "b1e76b92-e330-4d56-88c9-e435a7b3e9f0"
      },
      "source": [
        "stp_model = stp_model.to(device)\n",
        "acc, loss = evaluate(stp_model, test_dataloader)\n",
        "print('Accuracy : ',acc , '\\tLoss : ', loss)"
      ],
      "execution_count": null,
      "outputs": [
        {
          "output_type": "stream",
          "name": "stdout",
          "text": [
            "Accuracy :  27.13 \tLoss :  3.699010852036203\n",
            "time: 10.7 s (started: 2021-09-20 03:34:24 +00:00)\n"
          ]
        }
      ]
    },
    {
      "cell_type": "markdown",
      "metadata": {
        "id": "rMZXk1PhaxaP"
      },
      "source": [
        "# Fine Tuning"
      ]
    },
    {
      "cell_type": "code",
      "metadata": {
        "id": "uBWA6KHyveuk",
        "colab": {
          "base_uri": "https://localhost:8080/"
        },
        "outputId": "574f2883-6826-4b43-82dd-81ba85ded62d"
      },
      "source": [
        "sgd_optimizer = torch.optim.SGD(stp_model.parameters(), lr = 0.001, momentum = 0.9)\n",
        "epochs = 10\n",
        "stp_model = stp_model.to(device)\n",
        "\n",
        "for epoch in range(epochs):\n",
        "  #Fit model\n",
        "  fit(stp_model, train_dataloader, sgd_optimizer, criterion)\n",
        "\n",
        "  #Train validation\n",
        "  trn_acc, trn_lss = evaluate(stp_model, train_dataloader)\n",
        "\n",
        "  #Test validation\n",
        "  tst_acc, tst_lss = evaluate(stp_model, test_dataloader)\n",
        "\n",
        "  print(f'Epoch:{epoch+1:2.0f}\\t Train_Loss:{trn_lss:2.4f}\\t Train_Acc:{trn_acc:2.4f}\\t Test_Loss:{tst_lss:2.4f}\\t Test_Acc:{tst_acc:2.4f}')"
      ],
      "execution_count": null,
      "outputs": [
        {
          "output_type": "stream",
          "name": "stdout",
          "text": [
            "Epoch: 1\t Train_Loss:1.1268\t Train_Acc:70.8960\t Test_Loss:1.4153\t Test_Acc:61.8900\n",
            "Epoch: 2\t Train_Loss:0.9984\t Train_Acc:75.0400\t Test_Loss:1.3162\t Test_Acc:64.9500\n",
            "Epoch: 3\t Train_Loss:0.9259\t Train_Acc:75.7380\t Test_Loss:1.3045\t Test_Acc:64.9200\n",
            "Epoch: 4\t Train_Loss:0.8981\t Train_Acc:76.2620\t Test_Loss:1.2949\t Test_Acc:66.0100\n",
            "Epoch: 5\t Train_Loss:0.8581\t Train_Acc:77.6020\t Test_Loss:1.2821\t Test_Acc:66.2300\n",
            "Epoch: 6\t Train_Loss:0.8341\t Train_Acc:78.3780\t Test_Loss:1.2872\t Test_Acc:66.5500\n",
            "Epoch: 7\t Train_Loss:0.7925\t Train_Acc:78.7560\t Test_Loss:1.2962\t Test_Acc:66.0800\n",
            "Epoch: 8\t Train_Loss:0.7616\t Train_Acc:80.2640\t Test_Loss:1.2416\t Test_Acc:67.8000\n",
            "Epoch: 9\t Train_Loss:0.7793\t Train_Acc:79.5740\t Test_Loss:1.2917\t Test_Acc:66.7600\n",
            "Epoch:10\t Train_Loss:0.7283\t Train_Acc:81.3200\t Test_Loss:1.2439\t Test_Acc:67.6900\n",
            "time: 28min 46s (started: 2021-09-20 03:34:46 +00:00)\n"
          ]
        }
      ]
    },
    {
      "cell_type": "code",
      "metadata": {
        "colab": {
          "base_uri": "https://localhost:8080/"
        },
        "id": "CYAMzjzfo6t_",
        "outputId": "5bb6f527-3b92-4f4b-a4b1-98bc11c068cd"
      },
      "source": [
        "sgd_optimizer = torch.optim.SGD(stp_model.parameters(), lr = 0.001, momentum = 0.9)\n",
        "epochs = 10\n",
        "stp_model = stp_model.to(device)\n",
        "\n",
        "for epoch in range(epochs):\n",
        "  #Fit model\n",
        "  fit(stp_model, train_dataloader, sgd_optimizer, criterion)\n",
        "\n",
        "  #Train validation\n",
        "  trn_acc, trn_lss = evaluate(stp_model, train_dataloader)\n",
        "\n",
        "  #Test validation\n",
        "  tst_acc, tst_lss = evaluate(stp_model, test_dataloader)\n",
        "\n",
        "  print(f'Epoch:{epoch+11:2.0f}\\t Train_Loss:{trn_lss:2.4f}\\t Train_Acc:{trn_acc:2.4f}\\t Test_Loss:{tst_lss:2.4f}\\t Test_Acc:{tst_acc:2.4f}')"
      ],
      "execution_count": null,
      "outputs": [
        {
          "output_type": "stream",
          "name": "stdout",
          "text": [
            "Epoch:11\t Train_Loss:0.6775\t Train_Acc:81.9980\t Test_Loss:1.2298\t Test_Acc:68.1400\n",
            "Epoch:12\t Train_Loss:0.6716\t Train_Acc:82.2080\t Test_Loss:1.2375\t Test_Acc:68.0900\n",
            "Epoch:13\t Train_Loss:0.6982\t Train_Acc:82.1140\t Test_Loss:1.2631\t Test_Acc:67.9400\n",
            "Epoch:14\t Train_Loss:0.6540\t Train_Acc:83.0020\t Test_Loss:1.2878\t Test_Acc:67.4400\n",
            "Epoch:15\t Train_Loss:0.6475\t Train_Acc:83.0520\t Test_Loss:1.2876\t Test_Acc:67.9400\n",
            "Epoch:16\t Train_Loss:0.6360\t Train_Acc:83.8620\t Test_Loss:1.2658\t Test_Acc:68.5400\n",
            "Epoch:17\t Train_Loss:0.5882\t Train_Acc:85.1840\t Test_Loss:1.2471\t Test_Acc:69.2500\n",
            "Epoch:18\t Train_Loss:0.5807\t Train_Acc:84.9120\t Test_Loss:1.2453\t Test_Acc:68.8000\n",
            "Epoch:19\t Train_Loss:0.5917\t Train_Acc:85.0360\t Test_Loss:1.3006\t Test_Acc:68.6700\n",
            "Epoch:20\t Train_Loss:0.5530\t Train_Acc:85.8000\t Test_Loss:1.3027\t Test_Acc:68.2400\n",
            "time: 28min 47s (started: 2021-09-20 04:04:59 +00:00)\n"
          ]
        }
      ]
    },
    {
      "cell_type": "code",
      "metadata": {
        "colab": {
          "base_uri": "https://localhost:8080/"
        },
        "id": "10sYImCRtJmS",
        "outputId": "b71f5f0d-b9b0-4549-e67c-4327d6f1cd58"
      },
      "source": [
        "sgd_optimizer = torch.optim.SGD(stp_model.parameters(), lr = 0.0001, momentum = 0.9)\n",
        "epochs = 10\n",
        "stp_model = stp_model.to(device)\n",
        "\n",
        "for epoch in range(epochs):\n",
        "  #Fit model\n",
        "  fit(stp_model, train_dataloader, sgd_optimizer, criterion)\n",
        "\n",
        "  #Train validation\n",
        "  trn_acc, trn_lss = evaluate(stp_model, train_dataloader)\n",
        "\n",
        "  #Test validation\n",
        "  tst_acc, tst_lss = evaluate(stp_model, test_dataloader)\n",
        "\n",
        "  print(f'Epoch:{epoch+21:2.0f}\\t Train_Loss:{trn_lss:2.4f}\\t Train_Acc:{trn_acc:2.4f}\\t Test_Loss:{tst_lss:2.4f}\\t Test_Acc:{tst_acc:2.4f}')"
      ],
      "execution_count": null,
      "outputs": [
        {
          "output_type": "stream",
          "name": "stdout",
          "text": [
            "Epoch:21\t Train_Loss:0.4130\t Train_Acc:89.6100\t Test_Loss:1.1706\t Test_Acc:71.1800\n",
            "Epoch:22\t Train_Loss:0.3907\t Train_Acc:90.0520\t Test_Loss:1.1719\t Test_Acc:71.2400\n",
            "Epoch:23\t Train_Loss:0.3789\t Train_Acc:90.4460\t Test_Loss:1.1699\t Test_Acc:71.8500\n",
            "Epoch:24\t Train_Loss:0.3711\t Train_Acc:90.4500\t Test_Loss:1.1764\t Test_Acc:71.8200\n",
            "Epoch:25\t Train_Loss:0.3660\t Train_Acc:90.5540\t Test_Loss:1.1789\t Test_Acc:71.6600\n",
            "Epoch:26\t Train_Loss:0.3616\t Train_Acc:90.7740\t Test_Loss:1.1824\t Test_Acc:71.7700\n",
            "Epoch:27\t Train_Loss:0.3496\t Train_Acc:91.1840\t Test_Loss:1.1786\t Test_Acc:71.8300\n",
            "Epoch:28\t Train_Loss:0.3436\t Train_Acc:91.0280\t Test_Loss:1.1836\t Test_Acc:71.7100\n",
            "Epoch:29\t Train_Loss:0.3431\t Train_Acc:91.1860\t Test_Loss:1.1813\t Test_Acc:71.7800\n",
            "Epoch:30\t Train_Loss:0.3356\t Train_Acc:91.5020\t Test_Loss:1.1885\t Test_Acc:71.8200\n",
            "time: 28min 51s (started: 2021-09-20 04:34:55 +00:00)\n"
          ]
        }
      ]
    },
    {
      "cell_type": "code",
      "metadata": {
        "colab": {
          "base_uri": "https://localhost:8080/"
        },
        "id": "CqCoNrqwH8Tm",
        "outputId": "36c6fb53-c453-4b6c-eeec-e878e6d7af1e"
      },
      "source": [
        "sgd_optimizer = torch.optim.SGD(stp_model.parameters(), lr = 0.00001, momentum = 0.9)\n",
        "epochs = 5\n",
        "stp_model = stp_model.to(device)\n",
        "\n",
        "for epoch in range(epochs):\n",
        "  #Fit model\n",
        "  fit(stp_model, train_dataloader, sgd_optimizer, criterion)\n",
        "\n",
        "  #Train validation\n",
        "  trn_acc, trn_lss = evaluate(stp_model, train_dataloader)\n",
        "\n",
        "  #Test validation\n",
        "  tst_acc, tst_lss = evaluate(stp_model, test_dataloader)\n",
        "\n",
        "  print(f'Epoch:{epoch+31:2.0f}\\t Train_Loss:{trn_lss:2.4f}\\t Train_Acc:{trn_acc:2.4f}\\t Test_Loss:{tst_lss:2.4f}\\t Test_Acc:{tst_acc:2.4f}')"
      ],
      "execution_count": 22,
      "outputs": [
        {
          "output_type": "stream",
          "name": "stdout",
          "text": [
            "Epoch:31\t Train_Loss:0.3311\t Train_Acc:91.7280\t Test_Loss:1.1821\t Test_Acc:71.9600\n",
            "Epoch:32\t Train_Loss:0.3286\t Train_Acc:91.6280\t Test_Loss:1.1844\t Test_Acc:71.9800\n",
            "Epoch:33\t Train_Loss:0.3265\t Train_Acc:91.7120\t Test_Loss:1.1825\t Test_Acc:72.0900\n",
            "Epoch:34\t Train_Loss:0.3252\t Train_Acc:91.7360\t Test_Loss:1.1808\t Test_Acc:72.1400\n",
            "Epoch:35\t Train_Loss:0.3250\t Train_Acc:91.6940\t Test_Loss:1.1816\t Test_Acc:72.1400\n",
            "time: 14min 26s (started: 2021-09-20 08:00:43 +00:00)\n"
          ]
        }
      ]
    },
    {
      "cell_type": "markdown",
      "metadata": {
        "id": "SXcpPwuh8M4x"
      },
      "source": [
        "# Testing"
      ]
    },
    {
      "cell_type": "code",
      "metadata": {
        "id": "L_maO7dZ8PgB",
        "colab": {
          "base_uri": "https://localhost:8080/"
        },
        "outputId": "7e2bc722-cf47-48aa-ac3a-6f5563015ea8"
      },
      "source": [
        "acc, loss = evaluate(stp_model, test_dataloader)\n",
        "print('Accuracy : ',acc , '\\tLoss : ', loss)"
      ],
      "execution_count": 23,
      "outputs": [
        {
          "output_type": "stream",
          "name": "stdout",
          "text": [
            "Accuracy :  72.14 \tLoss :  1.181633984017524\n",
            "time: 11.1 s (started: 2021-09-20 08:16:09 +00:00)\n"
          ]
        }
      ]
    },
    {
      "cell_type": "markdown",
      "metadata": {
        "id": "cWto6VCu2DDz"
      },
      "source": [
        "# Save Pruned Model"
      ]
    },
    {
      "cell_type": "code",
      "metadata": {
        "id": "VYdb1xC82Cfs",
        "colab": {
          "base_uri": "https://localhost:8080/"
        },
        "outputId": "ee64d099-017f-466d-f2f4-46cb9e4c142b"
      },
      "source": [
        "torch.save(stp_model, 'PrunedModel_V3.pt')"
      ],
      "execution_count": 24,
      "outputs": [
        {
          "output_type": "stream",
          "name": "stdout",
          "text": [
            "time: 37.7 ms (started: 2021-09-20 08:16:21 +00:00)\n"
          ]
        }
      ]
    }
  ]
}