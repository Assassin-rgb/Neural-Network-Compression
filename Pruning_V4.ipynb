{
  "nbformat": 4,
  "nbformat_minor": 0,
  "metadata": {
    "accelerator": "GPU",
    "colab": {
      "name": "Pruning_V4.ipynb",
      "provenance": [],
      "collapsed_sections": [
        "i1_UyaYherMo",
        "IXZCMJu-s0xf",
        "UF5cXKwxc2mZ"
      ]
    },
    "kernelspec": {
      "display_name": "Python 3",
      "name": "python3"
    },
    "language_info": {
      "name": "python"
    },
    "widgets": {
      "application/vnd.jupyter.widget-state+json": {
        "7bf0e9571fb84465a05c0e48566499a4": {
          "model_module": "@jupyter-widgets/controls",
          "model_name": "HBoxModel",
          "model_module_version": "1.5.0",
          "state": {
            "_view_name": "HBoxView",
            "_dom_classes": [],
            "_model_name": "HBoxModel",
            "_view_module": "@jupyter-widgets/controls",
            "_model_module_version": "1.5.0",
            "_view_count": null,
            "_view_module_version": "1.5.0",
            "box_style": "",
            "layout": "IPY_MODEL_24541767a4484b0fb1a049563322114b",
            "_model_module": "@jupyter-widgets/controls",
            "children": [
              "IPY_MODEL_412fccf4de7c408998655011ba51c967",
              "IPY_MODEL_608e20ee1c5f4bea8f49f01cee2212c2",
              "IPY_MODEL_2583a15354ef4ea2bc4d3747f968bd49"
            ]
          }
        },
        "24541767a4484b0fb1a049563322114b": {
          "model_module": "@jupyter-widgets/base",
          "model_name": "LayoutModel",
          "model_module_version": "1.2.0",
          "state": {
            "_view_name": "LayoutView",
            "grid_template_rows": null,
            "right": null,
            "justify_content": null,
            "_view_module": "@jupyter-widgets/base",
            "overflow": null,
            "_model_module_version": "1.2.0",
            "_view_count": null,
            "flex_flow": null,
            "width": null,
            "min_width": null,
            "border": null,
            "align_items": null,
            "bottom": null,
            "_model_module": "@jupyter-widgets/base",
            "top": null,
            "grid_column": null,
            "overflow_y": null,
            "overflow_x": null,
            "grid_auto_flow": null,
            "grid_area": null,
            "grid_template_columns": null,
            "flex": null,
            "_model_name": "LayoutModel",
            "justify_items": null,
            "grid_row": null,
            "max_height": null,
            "align_content": null,
            "visibility": null,
            "align_self": null,
            "height": null,
            "min_height": null,
            "padding": null,
            "grid_auto_rows": null,
            "grid_gap": null,
            "max_width": null,
            "order": null,
            "_view_module_version": "1.2.0",
            "grid_template_areas": null,
            "object_position": null,
            "object_fit": null,
            "grid_auto_columns": null,
            "margin": null,
            "display": null,
            "left": null
          }
        },
        "412fccf4de7c408998655011ba51c967": {
          "model_module": "@jupyter-widgets/controls",
          "model_name": "HTMLModel",
          "model_module_version": "1.5.0",
          "state": {
            "_view_name": "HTMLView",
            "style": "IPY_MODEL_c0fc35762f664a26aefd687304f2e8e8",
            "_dom_classes": [],
            "description": "",
            "_model_name": "HTMLModel",
            "placeholder": "​",
            "_view_module": "@jupyter-widgets/controls",
            "_model_module_version": "1.5.0",
            "value": "",
            "_view_count": null,
            "_view_module_version": "1.5.0",
            "description_tooltip": null,
            "_model_module": "@jupyter-widgets/controls",
            "layout": "IPY_MODEL_b7857f543f7f461eadcb706babd63ad9"
          }
        },
        "608e20ee1c5f4bea8f49f01cee2212c2": {
          "model_module": "@jupyter-widgets/controls",
          "model_name": "FloatProgressModel",
          "model_module_version": "1.5.0",
          "state": {
            "_view_name": "ProgressView",
            "style": "IPY_MODEL_e6c4d56945d34b5cac1abcebcd4a8576",
            "_dom_classes": [],
            "description": "",
            "_model_name": "FloatProgressModel",
            "bar_style": "success",
            "max": 169001437,
            "_view_module": "@jupyter-widgets/controls",
            "_model_module_version": "1.5.0",
            "value": 169001437,
            "_view_count": null,
            "_view_module_version": "1.5.0",
            "orientation": "horizontal",
            "min": 0,
            "description_tooltip": null,
            "_model_module": "@jupyter-widgets/controls",
            "layout": "IPY_MODEL_5d0fc2e2d06c4d80a20fbb2a4327ecc2"
          }
        },
        "2583a15354ef4ea2bc4d3747f968bd49": {
          "model_module": "@jupyter-widgets/controls",
          "model_name": "HTMLModel",
          "model_module_version": "1.5.0",
          "state": {
            "_view_name": "HTMLView",
            "style": "IPY_MODEL_33558529b0454f639249bf4ee8e467bd",
            "_dom_classes": [],
            "description": "",
            "_model_name": "HTMLModel",
            "placeholder": "​",
            "_view_module": "@jupyter-widgets/controls",
            "_model_module_version": "1.5.0",
            "value": " 169001984/? [00:03&lt;00:00, 33639512.14it/s]",
            "_view_count": null,
            "_view_module_version": "1.5.0",
            "description_tooltip": null,
            "_model_module": "@jupyter-widgets/controls",
            "layout": "IPY_MODEL_f35cbcc0dada470bb2d53df58c83386b"
          }
        },
        "c0fc35762f664a26aefd687304f2e8e8": {
          "model_module": "@jupyter-widgets/controls",
          "model_name": "DescriptionStyleModel",
          "model_module_version": "1.5.0",
          "state": {
            "_view_name": "StyleView",
            "_model_name": "DescriptionStyleModel",
            "description_width": "",
            "_view_module": "@jupyter-widgets/base",
            "_model_module_version": "1.5.0",
            "_view_count": null,
            "_view_module_version": "1.2.0",
            "_model_module": "@jupyter-widgets/controls"
          }
        },
        "b7857f543f7f461eadcb706babd63ad9": {
          "model_module": "@jupyter-widgets/base",
          "model_name": "LayoutModel",
          "model_module_version": "1.2.0",
          "state": {
            "_view_name": "LayoutView",
            "grid_template_rows": null,
            "right": null,
            "justify_content": null,
            "_view_module": "@jupyter-widgets/base",
            "overflow": null,
            "_model_module_version": "1.2.0",
            "_view_count": null,
            "flex_flow": null,
            "width": null,
            "min_width": null,
            "border": null,
            "align_items": null,
            "bottom": null,
            "_model_module": "@jupyter-widgets/base",
            "top": null,
            "grid_column": null,
            "overflow_y": null,
            "overflow_x": null,
            "grid_auto_flow": null,
            "grid_area": null,
            "grid_template_columns": null,
            "flex": null,
            "_model_name": "LayoutModel",
            "justify_items": null,
            "grid_row": null,
            "max_height": null,
            "align_content": null,
            "visibility": null,
            "align_self": null,
            "height": null,
            "min_height": null,
            "padding": null,
            "grid_auto_rows": null,
            "grid_gap": null,
            "max_width": null,
            "order": null,
            "_view_module_version": "1.2.0",
            "grid_template_areas": null,
            "object_position": null,
            "object_fit": null,
            "grid_auto_columns": null,
            "margin": null,
            "display": null,
            "left": null
          }
        },
        "e6c4d56945d34b5cac1abcebcd4a8576": {
          "model_module": "@jupyter-widgets/controls",
          "model_name": "ProgressStyleModel",
          "model_module_version": "1.5.0",
          "state": {
            "_view_name": "StyleView",
            "_model_name": "ProgressStyleModel",
            "description_width": "",
            "_view_module": "@jupyter-widgets/base",
            "_model_module_version": "1.5.0",
            "_view_count": null,
            "_view_module_version": "1.2.0",
            "bar_color": null,
            "_model_module": "@jupyter-widgets/controls"
          }
        },
        "5d0fc2e2d06c4d80a20fbb2a4327ecc2": {
          "model_module": "@jupyter-widgets/base",
          "model_name": "LayoutModel",
          "model_module_version": "1.2.0",
          "state": {
            "_view_name": "LayoutView",
            "grid_template_rows": null,
            "right": null,
            "justify_content": null,
            "_view_module": "@jupyter-widgets/base",
            "overflow": null,
            "_model_module_version": "1.2.0",
            "_view_count": null,
            "flex_flow": null,
            "width": null,
            "min_width": null,
            "border": null,
            "align_items": null,
            "bottom": null,
            "_model_module": "@jupyter-widgets/base",
            "top": null,
            "grid_column": null,
            "overflow_y": null,
            "overflow_x": null,
            "grid_auto_flow": null,
            "grid_area": null,
            "grid_template_columns": null,
            "flex": null,
            "_model_name": "LayoutModel",
            "justify_items": null,
            "grid_row": null,
            "max_height": null,
            "align_content": null,
            "visibility": null,
            "align_self": null,
            "height": null,
            "min_height": null,
            "padding": null,
            "grid_auto_rows": null,
            "grid_gap": null,
            "max_width": null,
            "order": null,
            "_view_module_version": "1.2.0",
            "grid_template_areas": null,
            "object_position": null,
            "object_fit": null,
            "grid_auto_columns": null,
            "margin": null,
            "display": null,
            "left": null
          }
        },
        "33558529b0454f639249bf4ee8e467bd": {
          "model_module": "@jupyter-widgets/controls",
          "model_name": "DescriptionStyleModel",
          "model_module_version": "1.5.0",
          "state": {
            "_view_name": "StyleView",
            "_model_name": "DescriptionStyleModel",
            "description_width": "",
            "_view_module": "@jupyter-widgets/base",
            "_model_module_version": "1.5.0",
            "_view_count": null,
            "_view_module_version": "1.2.0",
            "_model_module": "@jupyter-widgets/controls"
          }
        },
        "f35cbcc0dada470bb2d53df58c83386b": {
          "model_module": "@jupyter-widgets/base",
          "model_name": "LayoutModel",
          "model_module_version": "1.2.0",
          "state": {
            "_view_name": "LayoutView",
            "grid_template_rows": null,
            "right": null,
            "justify_content": null,
            "_view_module": "@jupyter-widgets/base",
            "overflow": null,
            "_model_module_version": "1.2.0",
            "_view_count": null,
            "flex_flow": null,
            "width": null,
            "min_width": null,
            "border": null,
            "align_items": null,
            "bottom": null,
            "_model_module": "@jupyter-widgets/base",
            "top": null,
            "grid_column": null,
            "overflow_y": null,
            "overflow_x": null,
            "grid_auto_flow": null,
            "grid_area": null,
            "grid_template_columns": null,
            "flex": null,
            "_model_name": "LayoutModel",
            "justify_items": null,
            "grid_row": null,
            "max_height": null,
            "align_content": null,
            "visibility": null,
            "align_self": null,
            "height": null,
            "min_height": null,
            "padding": null,
            "grid_auto_rows": null,
            "grid_gap": null,
            "max_width": null,
            "order": null,
            "_view_module_version": "1.2.0",
            "grid_template_areas": null,
            "object_position": null,
            "object_fit": null,
            "grid_auto_columns": null,
            "margin": null,
            "display": null,
            "left": null
          }
        }
      }
    }
  },
  "cells": [
    {
      "cell_type": "markdown",
      "metadata": {
        "id": "i1_UyaYherMo"
      },
      "source": [
        "# Import Library"
      ]
    },
    {
      "cell_type": "code",
      "metadata": {
        "colab": {
          "base_uri": "https://localhost:8080/"
        },
        "id": "KbGX_Okzb5y3",
        "outputId": "717c61b2-d024-4342-be23-2420f32eb9ba"
      },
      "source": [
        "!pip install ipython-autotime"
      ],
      "execution_count": 2,
      "outputs": [
        {
          "output_type": "stream",
          "name": "stdout",
          "text": [
            "Collecting ipython-autotime\n",
            "  Downloading ipython_autotime-0.3.1-py2.py3-none-any.whl (6.8 kB)\n",
            "Requirement already satisfied: ipython in /usr/local/lib/python3.7/dist-packages (from ipython-autotime) (5.5.0)\n",
            "Requirement already satisfied: setuptools>=18.5 in /usr/local/lib/python3.7/dist-packages (from ipython->ipython-autotime) (57.4.0)\n",
            "Requirement already satisfied: pygments in /usr/local/lib/python3.7/dist-packages (from ipython->ipython-autotime) (2.6.1)\n",
            "Requirement already satisfied: pickleshare in /usr/local/lib/python3.7/dist-packages (from ipython->ipython-autotime) (0.7.5)\n",
            "Requirement already satisfied: decorator in /usr/local/lib/python3.7/dist-packages (from ipython->ipython-autotime) (4.4.2)\n",
            "Requirement already satisfied: prompt-toolkit<2.0.0,>=1.0.4 in /usr/local/lib/python3.7/dist-packages (from ipython->ipython-autotime) (1.0.18)\n",
            "Requirement already satisfied: pexpect in /usr/local/lib/python3.7/dist-packages (from ipython->ipython-autotime) (4.8.0)\n",
            "Requirement already satisfied: traitlets>=4.2 in /usr/local/lib/python3.7/dist-packages (from ipython->ipython-autotime) (5.1.0)\n",
            "Requirement already satisfied: simplegeneric>0.8 in /usr/local/lib/python3.7/dist-packages (from ipython->ipython-autotime) (0.8.1)\n",
            "Requirement already satisfied: wcwidth in /usr/local/lib/python3.7/dist-packages (from prompt-toolkit<2.0.0,>=1.0.4->ipython->ipython-autotime) (0.2.5)\n",
            "Requirement already satisfied: six>=1.9.0 in /usr/local/lib/python3.7/dist-packages (from prompt-toolkit<2.0.0,>=1.0.4->ipython->ipython-autotime) (1.15.0)\n",
            "Requirement already satisfied: ptyprocess>=0.5 in /usr/local/lib/python3.7/dist-packages (from pexpect->ipython->ipython-autotime) (0.7.0)\n",
            "Installing collected packages: ipython-autotime\n",
            "Successfully installed ipython-autotime-0.3.1\n"
          ]
        }
      ]
    },
    {
      "cell_type": "code",
      "metadata": {
        "colab": {
          "base_uri": "https://localhost:8080/"
        },
        "id": "Row9Vdu7Xo5w",
        "outputId": "82ee3bb1-ab6a-46b9-aff7-ec5d7e051756"
      },
      "source": [
        "!pip install torch_pruning"
      ],
      "execution_count": 3,
      "outputs": [
        {
          "output_type": "stream",
          "name": "stdout",
          "text": [
            "Collecting torch_pruning\n",
            "  Downloading torch_pruning-0.2.7-py3-none-any.whl (14 kB)\n",
            "Requirement already satisfied: torch in /usr/local/lib/python3.7/dist-packages (from torch_pruning) (1.9.0+cu102)\n",
            "Requirement already satisfied: typing-extensions in /usr/local/lib/python3.7/dist-packages (from torch->torch_pruning) (3.7.4.3)\n",
            "Installing collected packages: torch-pruning\n",
            "Successfully installed torch-pruning-0.2.7\n"
          ]
        }
      ]
    },
    {
      "cell_type": "code",
      "metadata": {
        "colab": {
          "base_uri": "https://localhost:8080/"
        },
        "id": "g6ZxiTs1cGGW",
        "outputId": "3a9c927e-0de1-4a13-fd36-64b370489371"
      },
      "source": [
        "import numpy as np\n",
        "import matplotlib.pyplot as plt\n",
        "import torch\n",
        "import torch.nn as nn\n",
        "from torch.utils.data import DataLoader\n",
        "from torchvision import models,transforms,datasets\n",
        "import torch.nn.utils.prune as prune\n",
        "from copy import deepcopy\n",
        "import torch_pruning as tp\n",
        "\n",
        "%load_ext autotime"
      ],
      "execution_count": 4,
      "outputs": [
        {
          "output_type": "stream",
          "name": "stdout",
          "text": [
            "time: 88.8 µs (started: 2021-09-20 20:39:46 +00:00)\n"
          ]
        }
      ]
    },
    {
      "cell_type": "code",
      "metadata": {
        "colab": {
          "base_uri": "https://localhost:8080/"
        },
        "id": "6VGYy7LKeKIr",
        "outputId": "ea9bb583-96b6-44b1-adea-d9b2f0172f46"
      },
      "source": [
        "num_classes = 100\n",
        "batch_size = 64"
      ],
      "execution_count": 5,
      "outputs": [
        {
          "output_type": "stream",
          "name": "stdout",
          "text": [
            "time: 3.16 ms (started: 2021-09-20 20:39:46 +00:00)\n"
          ]
        }
      ]
    },
    {
      "cell_type": "code",
      "metadata": {
        "colab": {
          "base_uri": "https://localhost:8080/"
        },
        "id": "nwyHLnPtdcIP",
        "outputId": "4c6e2208-5005-41ce-a650-333f53b25417"
      },
      "source": [
        "device = torch.device('cuda' if torch.cuda.is_available() else 'cpu')\n",
        "print(device)"
      ],
      "execution_count": 6,
      "outputs": [
        {
          "output_type": "stream",
          "name": "stdout",
          "text": [
            "cuda\n",
            "time: 69.1 ms (started: 2021-09-20 20:39:46 +00:00)\n"
          ]
        }
      ]
    },
    {
      "cell_type": "code",
      "metadata": {
        "colab": {
          "base_uri": "https://localhost:8080/"
        },
        "id": "1UcdfWIy7O1u",
        "outputId": "3245061b-ef85-4dd4-8424-b4b2f3c190d9"
      },
      "source": [
        "from google.colab import drive\n",
        "drive.mount('/content/drive')"
      ],
      "execution_count": 7,
      "outputs": [
        {
          "output_type": "stream",
          "name": "stdout",
          "text": [
            "Drive already mounted at /content/drive; to attempt to forcibly remount, call drive.mount(\"/content/drive\", force_remount=True).\n",
            "time: 2.98 ms (started: 2021-09-20 20:39:46 +00:00)\n"
          ]
        }
      ]
    },
    {
      "cell_type": "markdown",
      "metadata": {
        "id": "IXZCMJu-s0xf"
      },
      "source": [
        "# Important Functions"
      ]
    },
    {
      "cell_type": "code",
      "metadata": {
        "colab": {
          "base_uri": "https://localhost:8080/"
        },
        "id": "_3uShyiPeGI7",
        "outputId": "96b7cdf2-24d2-4e8c-9246-b2a02b0ced28"
      },
      "source": [
        "def get_total_parameters(model):\n",
        "    return sum(p.numel() for p in model.parameters() if p.requires_grad)\n",
        "\n",
        "\n",
        "def get_pruned_parameters(pruned_model):\n",
        "    params = 0\n",
        "    for param in pruned_model.parameters():\n",
        "        if param is not None:\n",
        "            params += torch.nonzero(param).size(0)\n",
        "    return params"
      ],
      "execution_count": 8,
      "outputs": [
        {
          "output_type": "stream",
          "name": "stdout",
          "text": [
            "time: 7.46 ms (started: 2021-09-20 20:39:46 +00:00)\n"
          ]
        }
      ]
    },
    {
      "cell_type": "code",
      "metadata": {
        "colab": {
          "base_uri": "https://localhost:8080/"
        },
        "id": "huG_LHkaXYXx",
        "outputId": "97126892-d1ea-4869-c1ba-eeb8c75ce512"
      },
      "source": [
        "def measure_module_sparsity(module, weight=True, bias=False, use_mask=False):\n",
        "    num_zeros = 0\n",
        "    num_elements = 0\n",
        "    if use_mask == True:\n",
        "        for buffer_name, buffer in module.named_buffers():\n",
        "            if \"weight_mask\" in buffer_name and weight == True:\n",
        "                num_zeros += torch.sum(buffer == 0).item()\n",
        "                num_elements += buffer.nelement()\n",
        "            if \"bias_mask\" in buffer_name and bias == True:\n",
        "                num_zeros += torch.sum(buffer == 0).item()\n",
        "                num_elements += buffer.nelement()\n",
        "    else:\n",
        "        for param_name, param in module.named_parameters():\n",
        "            if \"weight\" in param_name and weight == True:\n",
        "                num_zeros += torch.sum(param == 0).item()\n",
        "                num_elements += param.nelement()\n",
        "            if \"bias\" in param_name and bias == True:\n",
        "                num_zeros += torch.sum(param == 0).item()\n",
        "                num_elements += param.nelement()\n",
        "\n",
        "    sparsity = num_zeros / num_elements\n",
        "\n",
        "    return num_zeros, num_elements, sparsity"
      ],
      "execution_count": 9,
      "outputs": [
        {
          "output_type": "stream",
          "name": "stdout",
          "text": [
            "time: 19.7 ms (started: 2021-09-20 20:39:46 +00:00)\n"
          ]
        }
      ]
    },
    {
      "cell_type": "code",
      "metadata": {
        "colab": {
          "base_uri": "https://localhost:8080/"
        },
        "id": "ZrwAHE5je3zj",
        "outputId": "2e1dc0d3-0972-4f11-a2a6-dc5704d08c28"
      },
      "source": [
        "def measure_global_sparsity(model,\n",
        "                            weight=True,\n",
        "                            bias=False,\n",
        "                            conv2d_use_mask=False,\n",
        "                            linear_use_mask=False):\n",
        "\n",
        "    num_zeros = 0\n",
        "    num_elements = 0\n",
        "\n",
        "    for module_name, module in model.named_modules():\n",
        "\n",
        "        if isinstance(module, torch.nn.Conv2d):\n",
        "\n",
        "            module_num_zeros, module_num_elements, _ = measure_module_sparsity(\n",
        "                module, weight=weight, bias=bias, use_mask=conv2d_use_mask)\n",
        "            num_zeros += module_num_zeros\n",
        "            num_elements += module_num_elements\n",
        "\n",
        "        elif isinstance(module, torch.nn.Linear):\n",
        "\n",
        "            module_num_zeros, module_num_elements, _ = measure_module_sparsity(\n",
        "                module, weight=weight, bias=bias, use_mask=linear_use_mask)\n",
        "            num_zeros += module_num_zeros\n",
        "            num_elements += module_num_elements\n",
        "\n",
        "    sparsity = num_zeros / num_elements\n",
        "\n",
        "    return num_zeros, num_elements, sparsity"
      ],
      "execution_count": 10,
      "outputs": [
        {
          "output_type": "stream",
          "name": "stdout",
          "text": [
            "time: 12.4 ms (started: 2021-09-20 20:39:46 +00:00)\n"
          ]
        }
      ]
    },
    {
      "cell_type": "code",
      "metadata": {
        "colab": {
          "base_uri": "https://localhost:8080/"
        },
        "id": "QQwrIpKDZWE6",
        "outputId": "a59c6b65-5e2f-4811-e1d7-e7e7dafca1e4"
      },
      "source": [
        "def remove_parameters(model):\n",
        "    for module_name, module in model.named_modules():\n",
        "        if isinstance(module, torch.nn.Conv2d):\n",
        "            try:\n",
        "                prune.remove(module, \"weight\")\n",
        "            except:\n",
        "                pass\n",
        "            try:\n",
        "                prune.remove(module, \"bias\")\n",
        "            except:\n",
        "                pass\n",
        "        elif isinstance(module, torch.nn.Linear):\n",
        "            try:\n",
        "                prune.remove(module, \"weight\")\n",
        "            except:\n",
        "                pass\n",
        "            try:\n",
        "                prune.remove(module, \"bias\")\n",
        "            except:\n",
        "                pass\n",
        "    return model"
      ],
      "execution_count": 11,
      "outputs": [
        {
          "output_type": "stream",
          "name": "stdout",
          "text": [
            "time: 17.8 ms (started: 2021-09-20 20:39:46 +00:00)\n"
          ]
        }
      ]
    },
    {
      "cell_type": "code",
      "metadata": {
        "colab": {
          "base_uri": "https://localhost:8080/"
        },
        "id": "wgJyj6r0tjFq",
        "outputId": "de9b19e9-8729-4ab4-9697-69481540f8ef"
      },
      "source": [
        "def fit(model, dataset, optimizer, criterion):\n",
        "  #Set model to training mode\n",
        "  model.train()\n",
        "  #Iterate over data\n",
        "  for data, targets in dataset:\n",
        "    data = data.to(device)\n",
        "    targets = targets.to(device)\n",
        "    #Reset the gradients\n",
        "    optimizer.zero_grad()\n",
        "    # Generate predictions\n",
        "    out = model(data)\n",
        "    # Calculate loss\n",
        "    loss = criterion(out, targets)\n",
        "    # Backpropagation\n",
        "    loss.backward()\n",
        "    # Update model parameters\n",
        "    optimizer.step()"
      ],
      "execution_count": 12,
      "outputs": [
        {
          "output_type": "stream",
          "name": "stdout",
          "text": [
            "time: 11.9 ms (started: 2021-09-20 20:39:46 +00:00)\n"
          ]
        }
      ]
    },
    {
      "cell_type": "code",
      "metadata": {
        "colab": {
          "base_uri": "https://localhost:8080/"
        },
        "id": "iRZSs3SNdYGm",
        "outputId": "0dcdc10f-9bdd-4f12-98db-67d54e02e5ff"
      },
      "source": [
        "def evaluate(model, dataloader):\n",
        "  model.eval()\n",
        "  acc = 0\n",
        "  loss = []\n",
        "  for data, targets in dataloader:\n",
        "    data = data.to(device)\n",
        "    targets = targets.to(device)\n",
        "    out = model(data)\n",
        "    #Get loss\n",
        "    l = criterion(out, targets)\n",
        "    loss.append(l.item())\n",
        "    #Get index of class label\n",
        "    _,preds = torch.max(out.data,1)\n",
        "    #Get accuracy\n",
        "    acc += torch.sum(preds == targets).item()\n",
        "\n",
        "  return 100*acc/len(dataloader.dataset), np.mean(np.array(loss))"
      ],
      "execution_count": 13,
      "outputs": [
        {
          "output_type": "stream",
          "name": "stdout",
          "text": [
            "time: 12.5 ms (started: 2021-09-20 20:39:46 +00:00)\n"
          ]
        }
      ]
    },
    {
      "cell_type": "code",
      "metadata": {
        "colab": {
          "base_uri": "https://localhost:8080/"
        },
        "id": "EAt4s81pw5KW",
        "outputId": "29f18826-6177-4f24-d66c-bf0775000c72"
      },
      "source": [
        "def unstructured_global_pruning(model, amount):\n",
        "  pruning_model = deepcopy(model)\n",
        "  pruning_model = pruning_model.to(device)\n",
        "\n",
        "  parameters_to_prune = []\n",
        "  for module_name, module in pruning_model.named_modules():\n",
        "      if isinstance(module, torch.nn.Conv2d) or isinstance(module, torch.nn.Linear):\n",
        "          parameters_to_prune.append((module, \"weight\"))\n",
        "  parameters_to_prune = parameters_to_prune[:-1]\n",
        "\n",
        "  prune.global_unstructured(\n",
        "      parameters = parameters_to_prune,\n",
        "      pruning_method = prune.L1Unstructured,\n",
        "      amount = amount)\n",
        "\n",
        "  pruning_model = remove_parameters(model = pruning_model)\n",
        "\n",
        "  return pruning_model"
      ],
      "execution_count": 14,
      "outputs": [
        {
          "output_type": "stream",
          "name": "stdout",
          "text": [
            "time: 13.2 ms (started: 2021-09-20 20:39:46 +00:00)\n"
          ]
        }
      ]
    },
    {
      "cell_type": "code",
      "metadata": {
        "colab": {
          "base_uri": "https://localhost:8080/"
        },
        "id": "wxemDv7Mw68v",
        "outputId": "3cfbfe0c-63f5-47b3-c446-29d47e00928d"
      },
      "source": [
        "def structured_pruning(model, sparsity_layer):\n",
        "  prune_model = deepcopy(model)\n",
        "  prune_model = prune_model.to(device)\n",
        "\n",
        "  prunable_module_type = (nn.Conv2d, nn.Linear)\n",
        "  prunable_modules = [ m for m in prune_model.modules() if isinstance(m, prunable_module_type) ]\n",
        "  prunable_modules = prunable_modules[:-1]\n",
        "\n",
        "  strategy = tp.strategy.L1Strategy()\n",
        "  DG = tp.DependencyGraph().build_dependency(prune_model, example_inputs = torch.randn(1,3,64,64))\n",
        "\n",
        "  i = 0\n",
        "  for layer_to_prune in prunable_modules:\n",
        "    if isinstance( layer_to_prune, nn.Conv2d ):\n",
        "        prune_fn = tp.prune_conv\n",
        "    elif isinstance(layer_to_prune, nn.Linear):\n",
        "        prune_fn = tp.prune_linear\n",
        "    \n",
        "    pruning_idxs = strategy(layer_to_prune.weight, amount = sparsity_layer[i])\n",
        "    plan = DG.get_pruning_plan( layer_to_prune, prune_fn, pruning_idxs)\n",
        "\n",
        "    i += 1\n",
        "\n",
        "    plan.exec()\n",
        "  \n",
        "  return prune_model"
      ],
      "execution_count": 15,
      "outputs": [
        {
          "output_type": "stream",
          "name": "stdout",
          "text": [
            "time: 40.8 ms (started: 2021-09-20 20:39:46 +00:00)\n"
          ]
        }
      ]
    },
    {
      "cell_type": "markdown",
      "metadata": {
        "id": "UF5cXKwxc2mZ"
      },
      "source": [
        "# Import Data"
      ]
    },
    {
      "cell_type": "code",
      "metadata": {
        "colab": {
          "base_uri": "https://localhost:8080/",
          "height": 0,
          "referenced_widgets": [
            "7bf0e9571fb84465a05c0e48566499a4",
            "24541767a4484b0fb1a049563322114b",
            "412fccf4de7c408998655011ba51c967",
            "608e20ee1c5f4bea8f49f01cee2212c2",
            "2583a15354ef4ea2bc4d3747f968bd49",
            "c0fc35762f664a26aefd687304f2e8e8",
            "b7857f543f7f461eadcb706babd63ad9",
            "e6c4d56945d34b5cac1abcebcd4a8576",
            "5d0fc2e2d06c4d80a20fbb2a4327ecc2",
            "33558529b0454f639249bf4ee8e467bd",
            "f35cbcc0dada470bb2d53df58c83386b"
          ]
        },
        "id": "lHYlQYfStda_",
        "outputId": "16ebfe93-63a4-4821-dab4-20152479e889"
      },
      "source": [
        "train_transform = transforms.Compose([transforms.Resize(64),\n",
        "                                   transforms.RandomHorizontalFlip(),\n",
        "                                   transforms.RandomRotation(15),\n",
        "                                   transforms.ToTensor(),\n",
        "                                   transforms.Normalize((0.48,0.4593,0.4155),(0.2774,0.2794,0.2794))])\n",
        "\n",
        "train_set = datasets.CIFAR100(root = \"CIFAR100\", train = True, download = True, transform = train_transform)"
      ],
      "execution_count": 16,
      "outputs": [
        {
          "output_type": "stream",
          "name": "stdout",
          "text": [
            "Downloading https://www.cs.toronto.edu/~kriz/cifar-100-python.tar.gz to CIFAR100/cifar-100-python.tar.gz\n"
          ]
        },
        {
          "output_type": "display_data",
          "data": {
            "application/vnd.jupyter.widget-view+json": {
              "model_id": "7bf0e9571fb84465a05c0e48566499a4",
              "version_minor": 0,
              "version_major": 2
            },
            "text/plain": [
              "  0%|          | 0/169001437 [00:00<?, ?it/s]"
            ]
          },
          "metadata": {}
        },
        {
          "output_type": "stream",
          "name": "stdout",
          "text": [
            "Extracting CIFAR100/cifar-100-python.tar.gz to CIFAR100\n",
            "time: 6.98 s (started: 2021-09-20 20:39:46 +00:00)\n"
          ]
        }
      ]
    },
    {
      "cell_type": "code",
      "metadata": {
        "colab": {
          "base_uri": "https://localhost:8080/"
        },
        "id": "brD9lhn7cwKy",
        "outputId": "5a283ad2-23a8-45b1-b043-e8ad3fb43c52"
      },
      "source": [
        "test_transform = transforms.Compose([transforms.Resize(64),\n",
        "                                  transforms.ToTensor(),\n",
        "                                  transforms.Normalize((0.48,0.4593,0.4155),(0.2774,0.2794,0.2794))])\n",
        "\n",
        "test_set = datasets.CIFAR100(root = \"CIFAR100\", train = False, download = True, transform = test_transform)"
      ],
      "execution_count": 17,
      "outputs": [
        {
          "output_type": "stream",
          "name": "stdout",
          "text": [
            "Files already downloaded and verified\n",
            "time: 942 ms (started: 2021-09-20 20:39:53 +00:00)\n"
          ]
        }
      ]
    },
    {
      "cell_type": "code",
      "metadata": {
        "colab": {
          "base_uri": "https://localhost:8080/"
        },
        "id": "wP2R-821dqQZ",
        "outputId": "a7fa302c-1f5d-40ec-9347-4a323369985b"
      },
      "source": [
        "train_dataloader = DataLoader(train_set, batch_size = batch_size, shuffle = True)\n",
        "test_dataloader = DataLoader(test_set, batch_size = batch_size)"
      ],
      "execution_count": 18,
      "outputs": [
        {
          "output_type": "stream",
          "name": "stdout",
          "text": [
            "time: 2.56 ms (started: 2021-09-20 20:39:54 +00:00)\n"
          ]
        }
      ]
    },
    {
      "cell_type": "code",
      "metadata": {
        "colab": {
          "base_uri": "https://localhost:8080/"
        },
        "id": "2ZrNyPVStxNw",
        "outputId": "25acdd51-7501-46ba-a43c-5bd9fad8b487"
      },
      "source": [
        "criterion = nn.CrossEntropyLoss()"
      ],
      "execution_count": 19,
      "outputs": [
        {
          "output_type": "stream",
          "name": "stdout",
          "text": [
            "time: 1.85 ms (started: 2021-09-20 20:39:54 +00:00)\n"
          ]
        }
      ]
    },
    {
      "cell_type": "markdown",
      "metadata": {
        "id": "BnSK_srGc5sz"
      },
      "source": [
        "# Import Model to be Pruned"
      ]
    },
    {
      "cell_type": "code",
      "metadata": {
        "colab": {
          "base_uri": "https://localhost:8080/"
        },
        "id": "GjAXLxMTcdds",
        "outputId": "8e1e3145-984b-4528-d5d4-355a2d606baa"
      },
      "source": [
        "model = torch.load('/content/drive/MyDrive/CV Systems/Project1/Pruning/V3/PrunedModel_V3.pt')"
      ],
      "execution_count": 20,
      "outputs": [
        {
          "output_type": "stream",
          "name": "stdout",
          "text": [
            "time: 9.68 s (started: 2021-09-20 20:39:54 +00:00)\n"
          ]
        }
      ]
    },
    {
      "cell_type": "code",
      "metadata": {
        "colab": {
          "base_uri": "https://localhost:8080/"
        },
        "id": "HM_6N0mThlB2",
        "outputId": "5e673fe8-82e9-43db-95fb-646f3f50a5d1"
      },
      "source": [
        "print(model)"
      ],
      "execution_count": 21,
      "outputs": [
        {
          "output_type": "stream",
          "name": "stdout",
          "text": [
            "VGG(\n",
            "  (features): Sequential(\n",
            "    (0): Conv2d(3, 63, kernel_size=(3, 3), stride=(1, 1), padding=(1, 1))\n",
            "    (1): ReLU(inplace=True)\n",
            "    (2): Conv2d(63, 47, kernel_size=(3, 3), stride=(1, 1), padding=(1, 1))\n",
            "    (3): ReLU(inplace=True)\n",
            "    (4): MaxPool2d(kernel_size=2, stride=2, padding=0, dilation=1, ceil_mode=False)\n",
            "    (5): Conv2d(47, 93, kernel_size=(3, 3), stride=(1, 1), padding=(1, 1))\n",
            "    (6): ReLU(inplace=True)\n",
            "    (7): Conv2d(93, 86, kernel_size=(3, 3), stride=(1, 1), padding=(1, 1))\n",
            "    (8): ReLU(inplace=True)\n",
            "    (9): MaxPool2d(kernel_size=2, stride=2, padding=0, dilation=1, ceil_mode=False)\n",
            "    (10): Conv2d(86, 155, kernel_size=(3, 3), stride=(1, 1), padding=(1, 1))\n",
            "    (11): ReLU(inplace=True)\n",
            "    (12): Conv2d(155, 134, kernel_size=(3, 3), stride=(1, 1), padding=(1, 1))\n",
            "    (13): ReLU(inplace=True)\n",
            "    (14): Conv2d(134, 143, kernel_size=(3, 3), stride=(1, 1), padding=(1, 1))\n",
            "    (15): ReLU(inplace=True)\n",
            "    (16): MaxPool2d(kernel_size=2, stride=2, padding=0, dilation=1, ceil_mode=False)\n",
            "    (17): Conv2d(143, 248, kernel_size=(3, 3), stride=(1, 1), padding=(1, 1))\n",
            "    (18): ReLU(inplace=True)\n",
            "    (19): Conv2d(248, 195, kernel_size=(3, 3), stride=(1, 1), padding=(1, 1))\n",
            "    (20): ReLU(inplace=True)\n",
            "    (21): Conv2d(195, 194, kernel_size=(3, 3), stride=(1, 1), padding=(1, 1))\n",
            "    (22): ReLU(inplace=True)\n",
            "    (23): MaxPool2d(kernel_size=2, stride=2, padding=0, dilation=1, ceil_mode=False)\n",
            "    (24): Conv2d(194, 188, kernel_size=(3, 3), stride=(1, 1), padding=(1, 1))\n",
            "    (25): ReLU(inplace=True)\n",
            "    (26): Conv2d(188, 173, kernel_size=(3, 3), stride=(1, 1), padding=(1, 1))\n",
            "    (27): ReLU(inplace=True)\n",
            "    (28): Conv2d(173, 154, kernel_size=(3, 3), stride=(1, 1), padding=(1, 1))\n",
            "    (29): ReLU(inplace=True)\n",
            "    (30): MaxPool2d(kernel_size=2, stride=2, padding=0, dilation=1, ceil_mode=False)\n",
            "  )\n",
            "  (avgpool): AdaptiveAvgPool2d(output_size=(7, 7))\n",
            "  (classifier): Sequential(\n",
            "    (0): Linear(in_features=7546, out_features=29, bias=True)\n",
            "    (1): ReLU(inplace=True)\n",
            "    (2): Dropout(p=0.5, inplace=False)\n",
            "    (3): Linear(in_features=29, out_features=969, bias=True)\n",
            "    (4): ReLU(inplace=True)\n",
            "    (5): Dropout(p=0.5, inplace=False)\n",
            "    (6): Linear(in_features=969, out_features=100, bias=True)\n",
            "  )\n",
            ")\n",
            "time: 1.75 ms (started: 2021-09-20 20:40:04 +00:00)\n"
          ]
        }
      ]
    },
    {
      "cell_type": "markdown",
      "metadata": {
        "id": "q_Spz6ttbBa8"
      },
      "source": [
        "# Unstructured Pruning"
      ]
    },
    {
      "cell_type": "code",
      "metadata": {
        "colab": {
          "base_uri": "https://localhost:8080/"
        },
        "id": "0Z3kdi6SiCj0",
        "outputId": "a8b67e69-008c-41be-a775-2168662c83d8"
      },
      "source": [
        "ustp_model = unstructured_global_pruning(model, 0.2)"
      ],
      "execution_count": 39,
      "outputs": [
        {
          "output_type": "stream",
          "name": "stdout",
          "text": [
            "time: 157 ms (started: 2021-09-20 22:16:09 +00:00)\n"
          ]
        }
      ]
    },
    {
      "cell_type": "code",
      "metadata": {
        "colab": {
          "base_uri": "https://localhost:8080/"
        },
        "id": "cOMgxIUI58Vb",
        "outputId": "f3355305-d5ee-4093-8a89-7433966b05ea"
      },
      "source": [
        "acc, loss = evaluate(ustp_model, test_dataloader)\n",
        "print('Accuracy : ',acc , '\\tLoss : ', loss)"
      ],
      "execution_count": 40,
      "outputs": [
        {
          "output_type": "stream",
          "name": "stdout",
          "text": [
            "Accuracy :  72.02 \tLoss :  1.1774694274185569\n",
            "time: 11.2 s (started: 2021-09-20 22:16:11 +00:00)\n"
          ]
        }
      ]
    },
    {
      "cell_type": "code",
      "metadata": {
        "colab": {
          "base_uri": "https://localhost:8080/"
        },
        "id": "6vxBPg2xoE9c",
        "outputId": "f42c70c6-317a-4bfa-9004-b0a58f74898b"
      },
      "source": [
        "num_zeros, num_elements, sparsity = measure_global_sparsity(\n",
        "            ustp_model,\n",
        "            weight=True,\n",
        "            bias=False,\n",
        "            conv2d_use_mask=False,\n",
        "            linear_use_mask=False)\n",
        "\n",
        "print(\"Global Sparsity:\")\n",
        "print(\"{:.2f}\".format(sparsity))"
      ],
      "execution_count": 41,
      "outputs": [
        {
          "output_type": "stream",
          "name": "stdout",
          "text": [
            "Global Sparsity:\n",
            "0.19\n",
            "time: 12 ms (started: 2021-09-20 22:16:25 +00:00)\n"
          ]
        }
      ]
    },
    {
      "cell_type": "code",
      "metadata": {
        "colab": {
          "base_uri": "https://localhost:8080/"
        },
        "id": "6_kxpO_NYh1L",
        "outputId": "7d1da0a1-0058-4031-bebd-641b06bc1d58"
      },
      "source": [
        "sparsity_layer = []\n",
        "i = 0\n",
        "for module_name, module in ustp_model.named_modules():\n",
        "  if isinstance(module, torch.nn.Conv2d) or isinstance(module, torch.nn.Linear):\n",
        "    num_zeros, num_elements, sparsity = measure_module_sparsity(module, weight=True, bias=False, use_mask=False)\n",
        "    print('Layer', i , num_zeros, num_elements, sparsity)\n",
        "    sparsity_layer.append(sparsity)\n",
        "    i+= 1"
      ],
      "execution_count": 42,
      "outputs": [
        {
          "output_type": "stream",
          "name": "stdout",
          "text": [
            "Layer 0 31 1701 0.018224573780129337\n",
            "Layer 1 2813 26649 0.10555743179856655\n",
            "Layer 2 3495 39339 0.08884313276900785\n",
            "Layer 3 7529 71982 0.10459559334278014\n",
            "Layer 4 15212 119970 0.12679836625823124\n",
            "Layer 5 28666 186930 0.15335152196009202\n",
            "Layer 6 23506 172458 0.13629985271776315\n",
            "Layer 7 51347 319176 0.160873624583302\n",
            "Layer 8 84601 435240 0.19437781453910485\n",
            "Layer 9 63407 340470 0.18623373571827181\n",
            "Layer 10 67499 328248 0.20563415466354706\n",
            "Layer 11 67268 292716 0.22980636521406414\n",
            "Layer 12 55918 239778 0.23320738349640083\n",
            "Layer 13 88863 218834 0.40607492437189835\n",
            "Layer 14 4163 28101 0.1481441941567916\n",
            "Layer 15 0 96900 0.0\n",
            "time: 31.9 ms (started: 2021-09-20 22:16:27 +00:00)\n"
          ]
        }
      ]
    },
    {
      "cell_type": "code",
      "metadata": {
        "colab": {
          "base_uri": "https://localhost:8080/"
        },
        "id": "ONNvvMsxouET",
        "outputId": "d8f419e8-a205-4e37-bc3d-7bd6ab140bf5"
      },
      "source": [
        "sparsity_layer = [ max(round(round(i,2)-0.01,2),0) for i in sparsity_layer]\n",
        "sparsity_layer"
      ],
      "execution_count": 43,
      "outputs": [
        {
          "output_type": "execute_result",
          "data": {
            "text/plain": [
              "[0.01,\n",
              " 0.1,\n",
              " 0.08,\n",
              " 0.09,\n",
              " 0.12,\n",
              " 0.14,\n",
              " 0.13,\n",
              " 0.15,\n",
              " 0.18,\n",
              " 0.18,\n",
              " 0.2,\n",
              " 0.22,\n",
              " 0.22,\n",
              " 0.4,\n",
              " 0.14,\n",
              " 0]"
            ]
          },
          "metadata": {},
          "execution_count": 43
        },
        {
          "output_type": "stream",
          "name": "stdout",
          "text": [
            "time: 6.61 ms (started: 2021-09-20 22:16:29 +00:00)\n"
          ]
        }
      ]
    },
    {
      "cell_type": "markdown",
      "metadata": {
        "id": "WusryuiSW0sT"
      },
      "source": [
        "# Structured Pruning"
      ]
    },
    {
      "cell_type": "code",
      "metadata": {
        "colab": {
          "base_uri": "https://localhost:8080/"
        },
        "id": "3XewNQW8X21O",
        "outputId": "66154572-2948-4288-c09d-84256bb6621d"
      },
      "source": [
        "stp_model = structured_pruning(ustp_model, sparsity_layer)"
      ],
      "execution_count": 44,
      "outputs": [
        {
          "output_type": "stream",
          "name": "stdout",
          "text": [
            "time: 87.9 ms (started: 2021-09-20 22:16:33 +00:00)\n"
          ]
        }
      ]
    },
    {
      "cell_type": "code",
      "metadata": {
        "colab": {
          "base_uri": "https://localhost:8080/"
        },
        "id": "jlNrqlQpXRP-",
        "outputId": "6cda79a7-e1c4-423a-9907-0d0a3fc7ca34"
      },
      "source": [
        "tp.utils.count_params(stp_model)"
      ],
      "execution_count": 45,
      "outputs": [
        {
          "output_type": "execute_result",
          "data": {
            "text/plain": [
              "2018653"
            ]
          },
          "metadata": {},
          "execution_count": 45
        },
        {
          "output_type": "stream",
          "name": "stdout",
          "text": [
            "time: 4.4 ms (started: 2021-09-20 22:16:35 +00:00)\n"
          ]
        }
      ]
    },
    {
      "cell_type": "code",
      "metadata": {
        "colab": {
          "base_uri": "https://localhost:8080/"
        },
        "id": "WrmxkvD3XVbB",
        "outputId": "58afa64e-2294-41e7-fb9c-a83e710ebbd7"
      },
      "source": [
        "print(stp_model)"
      ],
      "execution_count": 46,
      "outputs": [
        {
          "output_type": "stream",
          "name": "stdout",
          "text": [
            "VGG(\n",
            "  (features): Sequential(\n",
            "    (0): Conv2d(3, 63, kernel_size=(3, 3), stride=(1, 1), padding=(1, 1))\n",
            "    (1): ReLU(inplace=True)\n",
            "    (2): Conv2d(63, 43, kernel_size=(3, 3), stride=(1, 1), padding=(1, 1))\n",
            "    (3): ReLU(inplace=True)\n",
            "    (4): MaxPool2d(kernel_size=2, stride=2, padding=0, dilation=1, ceil_mode=False)\n",
            "    (5): Conv2d(43, 86, kernel_size=(3, 3), stride=(1, 1), padding=(1, 1))\n",
            "    (6): ReLU(inplace=True)\n",
            "    (7): Conv2d(86, 79, kernel_size=(3, 3), stride=(1, 1), padding=(1, 1))\n",
            "    (8): ReLU(inplace=True)\n",
            "    (9): MaxPool2d(kernel_size=2, stride=2, padding=0, dilation=1, ceil_mode=False)\n",
            "    (10): Conv2d(79, 137, kernel_size=(3, 3), stride=(1, 1), padding=(1, 1))\n",
            "    (11): ReLU(inplace=True)\n",
            "    (12): Conv2d(137, 116, kernel_size=(3, 3), stride=(1, 1), padding=(1, 1))\n",
            "    (13): ReLU(inplace=True)\n",
            "    (14): Conv2d(116, 125, kernel_size=(3, 3), stride=(1, 1), padding=(1, 1))\n",
            "    (15): ReLU(inplace=True)\n",
            "    (16): MaxPool2d(kernel_size=2, stride=2, padding=0, dilation=1, ceil_mode=False)\n",
            "    (17): Conv2d(125, 211, kernel_size=(3, 3), stride=(1, 1), padding=(1, 1))\n",
            "    (18): ReLU(inplace=True)\n",
            "    (19): Conv2d(211, 160, kernel_size=(3, 3), stride=(1, 1), padding=(1, 1))\n",
            "    (20): ReLU(inplace=True)\n",
            "    (21): Conv2d(160, 160, kernel_size=(3, 3), stride=(1, 1), padding=(1, 1))\n",
            "    (22): ReLU(inplace=True)\n",
            "    (23): MaxPool2d(kernel_size=2, stride=2, padding=0, dilation=1, ceil_mode=False)\n",
            "    (24): Conv2d(160, 151, kernel_size=(3, 3), stride=(1, 1), padding=(1, 1))\n",
            "    (25): ReLU(inplace=True)\n",
            "    (26): Conv2d(151, 135, kernel_size=(3, 3), stride=(1, 1), padding=(1, 1))\n",
            "    (27): ReLU(inplace=True)\n",
            "    (28): Conv2d(135, 121, kernel_size=(3, 3), stride=(1, 1), padding=(1, 1))\n",
            "    (29): ReLU(inplace=True)\n",
            "    (30): MaxPool2d(kernel_size=2, stride=2, padding=0, dilation=1, ceil_mode=False)\n",
            "  )\n",
            "  (avgpool): AdaptiveAvgPool2d(output_size=(7, 7))\n",
            "  (classifier): Sequential(\n",
            "    (0): Linear(in_features=5929, out_features=18, bias=True)\n",
            "    (1): ReLU(inplace=True)\n",
            "    (2): Dropout(p=0.5, inplace=False)\n",
            "    (3): Linear(in_features=18, out_features=834, bias=True)\n",
            "    (4): ReLU(inplace=True)\n",
            "    (5): Dropout(p=0.5, inplace=False)\n",
            "    (6): Linear(in_features=834, out_features=100, bias=True)\n",
            "  )\n",
            ")\n",
            "time: 3.22 ms (started: 2021-09-20 22:16:36 +00:00)\n"
          ]
        }
      ]
    },
    {
      "cell_type": "code",
      "metadata": {
        "colab": {
          "base_uri": "https://localhost:8080/"
        },
        "id": "MrzP-UEFjYdc",
        "outputId": "9e75847b-d8e0-45c5-f889-c2d18d886014"
      },
      "source": [
        "stp_model = stp_model.to(device)\n",
        "acc, loss = evaluate(stp_model, test_dataloader)\n",
        "print('Accuracy : ',acc , '\\tLoss : ', loss)"
      ],
      "execution_count": 47,
      "outputs": [
        {
          "output_type": "stream",
          "name": "stdout",
          "text": [
            "Accuracy :  33.81 \tLoss :  3.2660441337877018\n",
            "time: 10.4 s (started: 2021-09-20 22:16:41 +00:00)\n"
          ]
        }
      ]
    },
    {
      "cell_type": "markdown",
      "metadata": {
        "id": "rMZXk1PhaxaP"
      },
      "source": [
        "# Fine Tuning"
      ]
    },
    {
      "cell_type": "code",
      "metadata": {
        "id": "uBWA6KHyveuk",
        "colab": {
          "base_uri": "https://localhost:8080/"
        },
        "outputId": "eed4a415-97a6-4ba6-ba7b-0a95eae962cb"
      },
      "source": [
        "sgd_optimizer = torch.optim.SGD(stp_model.parameters(), lr = 0.001, momentum = 0.9)\n",
        "epochs = 10\n",
        "stp_model = stp_model.to(device)\n",
        "\n",
        "for epoch in range(epochs):\n",
        "  #Fit model\n",
        "  fit(stp_model, train_dataloader, sgd_optimizer, criterion)\n",
        "\n",
        "  #Train validation\n",
        "  trn_acc, trn_lss = evaluate(stp_model, train_dataloader)\n",
        "\n",
        "  #Test validation\n",
        "  tst_acc, tst_lss = evaluate(stp_model, test_dataloader)\n",
        "\n",
        "  print(f'Epoch:{epoch+1:2.0f}\\t Train_Loss:{trn_lss:2.4f}\\t Train_Acc:{trn_acc:2.4f}\\t Test_Loss:{tst_lss:2.4f}\\t Test_Acc:{tst_acc:2.4f}')"
      ],
      "execution_count": 48,
      "outputs": [
        {
          "output_type": "stream",
          "name": "stdout",
          "text": [
            "Epoch: 1\t Train_Loss:1.1246\t Train_Acc:75.8460\t Test_Loss:1.5187\t Test_Acc:63.6300\n",
            "Epoch: 2\t Train_Loss:1.0815\t Train_Acc:77.5200\t Test_Loss:1.5073\t Test_Acc:64.4900\n",
            "Epoch: 3\t Train_Loss:1.0240\t Train_Acc:77.4460\t Test_Loss:1.4803\t Test_Acc:64.4600\n",
            "Epoch: 4\t Train_Loss:0.9688\t Train_Acc:78.8800\t Test_Loss:1.4475\t Test_Acc:65.1400\n",
            "Epoch: 5\t Train_Loss:0.8795\t Train_Acc:80.9940\t Test_Loss:1.4195\t Test_Acc:66.3600\n",
            "Epoch: 6\t Train_Loss:0.9608\t Train_Acc:79.7540\t Test_Loss:1.4527\t Test_Acc:65.9900\n",
            "Epoch: 7\t Train_Loss:0.9325\t Train_Acc:80.1680\t Test_Loss:1.4379\t Test_Acc:65.5000\n",
            "Epoch: 8\t Train_Loss:0.8624\t Train_Acc:80.5520\t Test_Loss:1.4211\t Test_Acc:65.9200\n",
            "Epoch: 9\t Train_Loss:0.9322\t Train_Acc:79.3200\t Test_Loss:1.4591\t Test_Acc:65.2200\n",
            "Epoch:10\t Train_Loss:0.7955\t Train_Acc:82.8620\t Test_Loss:1.3725\t Test_Acc:67.3700\n",
            "time: 26min 55s (started: 2021-09-20 22:16:55 +00:00)\n"
          ]
        }
      ]
    },
    {
      "cell_type": "code",
      "metadata": {
        "colab": {
          "base_uri": "https://localhost:8080/"
        },
        "id": "CYAMzjzfo6t_",
        "outputId": "41489b8b-10cf-455d-9107-2ed7997e7ccb"
      },
      "source": [
        "sgd_optimizer = torch.optim.SGD(stp_model.parameters(), lr = 0.001, momentum = 0.9)\n",
        "epochs = 10\n",
        "stp_model = stp_model.to(device)\n",
        "\n",
        "for epoch in range(epochs):\n",
        "  #Fit model\n",
        "  fit(stp_model, train_dataloader, sgd_optimizer, criterion)\n",
        "\n",
        "  #Train validation\n",
        "  trn_acc, trn_lss = evaluate(stp_model, train_dataloader)\n",
        "\n",
        "  #Test validation\n",
        "  tst_acc, tst_lss = evaluate(stp_model, test_dataloader)\n",
        "\n",
        "  print(f'Epoch:{epoch+11:2.0f}\\t Train_Loss:{trn_lss:2.4f}\\t Train_Acc:{trn_acc:2.4f}\\t Test_Loss:{tst_lss:2.4f}\\t Test_Acc:{tst_acc:2.4f}')"
      ],
      "execution_count": 49,
      "outputs": [
        {
          "output_type": "stream",
          "name": "stdout",
          "text": [
            "Epoch:11\t Train_Loss:0.8838\t Train_Acc:81.1440\t Test_Loss:1.4257\t Test_Acc:66.3200\n",
            "Epoch:12\t Train_Loss:0.8733\t Train_Acc:80.6080\t Test_Loss:1.4603\t Test_Acc:65.4700\n",
            "Epoch:13\t Train_Loss:0.7653\t Train_Acc:83.1300\t Test_Loss:1.3879\t Test_Acc:66.8400\n",
            "Epoch:14\t Train_Loss:0.8025\t Train_Acc:82.7200\t Test_Loss:1.4141\t Test_Acc:66.7600\n",
            "Epoch:15\t Train_Loss:0.7645\t Train_Acc:83.6300\t Test_Loss:1.4034\t Test_Acc:67.1100\n",
            "Epoch:16\t Train_Loss:0.7638\t Train_Acc:82.4880\t Test_Loss:1.4078\t Test_Acc:66.5500\n",
            "Epoch:17\t Train_Loss:0.7685\t Train_Acc:83.8540\t Test_Loss:1.3992\t Test_Acc:66.5300\n",
            "Epoch:18\t Train_Loss:0.7446\t Train_Acc:84.1040\t Test_Loss:1.3703\t Test_Acc:67.1700\n",
            "Epoch:19\t Train_Loss:0.7591\t Train_Acc:83.9820\t Test_Loss:1.4110\t Test_Acc:66.8000\n",
            "Epoch:20\t Train_Loss:0.7283\t Train_Acc:84.1960\t Test_Loss:1.4195\t Test_Acc:66.3300\n",
            "time: 26min 34s (started: 2021-09-20 22:44:28 +00:00)\n"
          ]
        }
      ]
    },
    {
      "cell_type": "code",
      "metadata": {
        "colab": {
          "base_uri": "https://localhost:8080/"
        },
        "id": "zEl8agQLc3yg",
        "outputId": "259ebf80-1fbc-4053-e332-7a842fc0c7b8"
      },
      "source": [
        "sgd_optimizer = torch.optim.SGD(stp_model.parameters(), lr = 0.0001, momentum = 0.9)\n",
        "epochs = 10\n",
        "stp_model = stp_model.to(device)\n",
        "\n",
        "for epoch in range(epochs):\n",
        "  #Fit model\n",
        "  fit(stp_model, train_dataloader, sgd_optimizer, criterion)\n",
        "\n",
        "  #Train validation\n",
        "  trn_acc, trn_lss = evaluate(stp_model, train_dataloader)\n",
        "\n",
        "  #Test validation\n",
        "  tst_acc, tst_lss = evaluate(stp_model, test_dataloader)\n",
        "\n",
        "  print(f'Epoch:{epoch+21:2.0f}\\t Train_Loss:{trn_lss:2.4f}\\t Train_Acc:{trn_acc:2.4f}\\t Test_Loss:{tst_lss:2.4f}\\t Test_Acc:{tst_acc:2.4f}')"
      ],
      "execution_count": 50,
      "outputs": [
        {
          "output_type": "stream",
          "name": "stdout",
          "text": [
            "Epoch:21\t Train_Loss:0.5267\t Train_Acc:88.6980\t Test_Loss:1.2794\t Test_Acc:69.4500\n",
            "Epoch:22\t Train_Loss:0.5088\t Train_Acc:89.0960\t Test_Loss:1.2766\t Test_Acc:69.4900\n",
            "Epoch:23\t Train_Loss:0.4916\t Train_Acc:89.4540\t Test_Loss:1.2661\t Test_Acc:69.9600\n",
            "Epoch:24\t Train_Loss:0.4848\t Train_Acc:89.3520\t Test_Loss:1.2718\t Test_Acc:69.7200\n",
            "Epoch:25\t Train_Loss:0.4720\t Train_Acc:89.6780\t Test_Loss:1.2759\t Test_Acc:69.9700\n",
            "Epoch:26\t Train_Loss:0.4699\t Train_Acc:89.4980\t Test_Loss:1.2839\t Test_Acc:69.5200\n",
            "Epoch:27\t Train_Loss:0.4611\t Train_Acc:89.9620\t Test_Loss:1.2763\t Test_Acc:69.9100\n",
            "Epoch:28\t Train_Loss:0.4521\t Train_Acc:89.9520\t Test_Loss:1.2830\t Test_Acc:69.9900\n",
            "Epoch:29\t Train_Loss:0.4512\t Train_Acc:90.0140\t Test_Loss:1.2826\t Test_Acc:69.7000\n",
            "Epoch:30\t Train_Loss:0.4425\t Train_Acc:90.2080\t Test_Loss:1.2875\t Test_Acc:69.8300\n",
            "time: 26min 57s (started: 2021-09-20 23:11:04 +00:00)\n"
          ]
        }
      ]
    },
    {
      "cell_type": "code",
      "metadata": {
        "colab": {
          "base_uri": "https://localhost:8080/"
        },
        "id": "tVibAkxAk0f7",
        "outputId": "09d01ebd-dcbd-440e-bb5c-aa544ed3cc20"
      },
      "source": [
        "sgd_optimizer = torch.optim.SGD(stp_model.parameters(), lr = 0.00001, momentum = 0.9)\n",
        "epochs = 5\n",
        "stp_model = stp_model.to(device)\n",
        "\n",
        "for epoch in range(epochs):\n",
        "  #Fit model\n",
        "  fit(stp_model, train_dataloader, sgd_optimizer, criterion)\n",
        "\n",
        "  #Train validation\n",
        "  trn_acc, trn_lss = evaluate(stp_model, train_dataloader)\n",
        "\n",
        "  #Test validation\n",
        "  tst_acc, tst_lss = evaluate(stp_model, test_dataloader)\n",
        "\n",
        "  print(f'Epoch:{epoch+31:2.0f}\\t Train_Loss:{trn_lss:2.4f}\\t Train_Acc:{trn_acc:2.4f}\\t Test_Loss:{tst_lss:2.4f}\\t Test_Acc:{tst_acc:2.4f}')"
      ],
      "execution_count": 54,
      "outputs": [
        {
          "output_type": "stream",
          "name": "stdout",
          "text": [
            "Epoch:31\t Train_Loss:0.4336\t Train_Acc:90.3460\t Test_Loss:1.2791\t Test_Acc:69.9200\n",
            "Epoch:32\t Train_Loss:0.4293\t Train_Acc:90.5520\t Test_Loss:1.2778\t Test_Acc:69.9800\n",
            "Epoch:33\t Train_Loss:0.4275\t Train_Acc:90.6640\t Test_Loss:1.2777\t Test_Acc:69.9600\n",
            "Epoch:34\t Train_Loss:0.4272\t Train_Acc:90.6860\t Test_Loss:1.2763\t Test_Acc:70.0600\n",
            "Epoch:35\t Train_Loss:0.4266\t Train_Acc:90.5700\t Test_Loss:1.2756\t Test_Acc:70.1500\n",
            "time: 13min 23s (started: 2021-09-20 23:38:46 +00:00)\n"
          ]
        }
      ]
    },
    {
      "cell_type": "markdown",
      "metadata": {
        "id": "SXcpPwuh8M4x"
      },
      "source": [
        "# Testing"
      ]
    },
    {
      "cell_type": "code",
      "metadata": {
        "id": "L_maO7dZ8PgB",
        "colab": {
          "base_uri": "https://localhost:8080/"
        },
        "outputId": "78db38e0-50be-456c-94c4-6cabed5980e7"
      },
      "source": [
        "acc, loss = evaluate(stp_model, test_dataloader)\n",
        "print('Accuracy : ',acc , '\\tLoss : ', loss)"
      ],
      "execution_count": 55,
      "outputs": [
        {
          "output_type": "stream",
          "name": "stdout",
          "text": [
            "Accuracy :  70.15 \tLoss :  1.2756433906448874\n",
            "time: 10.4 s (started: 2021-09-20 23:52:10 +00:00)\n"
          ]
        }
      ]
    },
    {
      "cell_type": "markdown",
      "metadata": {
        "id": "cWto6VCu2DDz"
      },
      "source": [
        "# Save Pruned Model"
      ]
    },
    {
      "cell_type": "code",
      "metadata": {
        "id": "VYdb1xC82Cfs",
        "colab": {
          "base_uri": "https://localhost:8080/"
        },
        "outputId": "e91e109f-9bb5-43cf-ec00-8926abf70998"
      },
      "source": [
        "torch.save(stp_model, 'PrunedModel_V4.pt')"
      ],
      "execution_count": 56,
      "outputs": [
        {
          "output_type": "stream",
          "name": "stdout",
          "text": [
            "time: 29.6 ms (started: 2021-09-20 23:52:20 +00:00)\n"
          ]
        }
      ]
    }
  ]
}