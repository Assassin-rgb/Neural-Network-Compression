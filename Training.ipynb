{
  "nbformat": 4,
  "nbformat_minor": 0,
  "metadata": {
    "accelerator": "GPU",
    "colab": {
      "name": "VGG16(SGD-0.003).ipynb",
      "provenance": [],
      "collapsed_sections": []
    },
    "kernelspec": {
      "display_name": "Python 3",
      "language": "python",
      "name": "python3"
    },
    "language_info": {
      "codemirror_mode": {
        "name": "ipython",
        "version": 3
      },
      "file_extension": ".py",
      "mimetype": "text/x-python",
      "name": "python",
      "nbconvert_exporter": "python",
      "pygments_lexer": "ipython3",
      "version": "3.8.6"
    }
  },
  "cells": [
    {
      "cell_type": "code",
      "metadata": {
        "id": "78kB_7YjHjn0",
        "colab": {
          "base_uri": "https://localhost:8080/"
        },
        "outputId": "d6634206-f81b-42aa-f0b7-9bd11519b34b"
      },
      "source": [
        "!pip install ipython-autotime"
      ],
      "execution_count": 16,
      "outputs": [
        {
          "output_type": "stream",
          "name": "stdout",
          "text": [
            "Requirement already satisfied: ipython-autotime in /usr/local/lib/python3.7/dist-packages (0.3.1)\n",
            "Requirement already satisfied: ipython in /usr/local/lib/python3.7/dist-packages (from ipython-autotime) (5.5.0)\n",
            "Requirement already satisfied: pickleshare in /usr/local/lib/python3.7/dist-packages (from ipython->ipython-autotime) (0.7.5)\n",
            "Requirement already satisfied: pexpect in /usr/local/lib/python3.7/dist-packages (from ipython->ipython-autotime) (4.8.0)\n",
            "Requirement already satisfied: pygments in /usr/local/lib/python3.7/dist-packages (from ipython->ipython-autotime) (2.6.1)\n",
            "Requirement already satisfied: prompt-toolkit<2.0.0,>=1.0.4 in /usr/local/lib/python3.7/dist-packages (from ipython->ipython-autotime) (1.0.18)\n",
            "Requirement already satisfied: decorator in /usr/local/lib/python3.7/dist-packages (from ipython->ipython-autotime) (4.4.2)\n",
            "Requirement already satisfied: simplegeneric>0.8 in /usr/local/lib/python3.7/dist-packages (from ipython->ipython-autotime) (0.8.1)\n",
            "Requirement already satisfied: traitlets>=4.2 in /usr/local/lib/python3.7/dist-packages (from ipython->ipython-autotime) (5.0.5)\n",
            "Requirement already satisfied: setuptools>=18.5 in /usr/local/lib/python3.7/dist-packages (from ipython->ipython-autotime) (57.4.0)\n",
            "Requirement already satisfied: six>=1.9.0 in /usr/local/lib/python3.7/dist-packages (from prompt-toolkit<2.0.0,>=1.0.4->ipython->ipython-autotime) (1.15.0)\n",
            "Requirement already satisfied: wcwidth in /usr/local/lib/python3.7/dist-packages (from prompt-toolkit<2.0.0,>=1.0.4->ipython->ipython-autotime) (0.2.5)\n",
            "Requirement already satisfied: ipython-genutils in /usr/local/lib/python3.7/dist-packages (from traitlets>=4.2->ipython->ipython-autotime) (0.2.0)\n",
            "Requirement already satisfied: ptyprocess>=0.5 in /usr/local/lib/python3.7/dist-packages (from pexpect->ipython->ipython-autotime) (0.7.0)\n",
            "time: 3.18 s (started: 2021-09-04 23:20:44 +00:00)\n"
          ]
        }
      ]
    },
    {
      "cell_type": "code",
      "metadata": {
        "colab": {
          "base_uri": "https://localhost:8080/"
        },
        "id": "bnsyueTmRuFr",
        "outputId": "63a54465-9225-4358-b1f4-9834ee1798af"
      },
      "source": [
        "import numpy as np\n",
        "import torch\n",
        "from torch.utils.data import DataLoader\n",
        "import torch.optim as optim\n",
        "import torch.nn as nn\n",
        "from torchvision import models,transforms,datasets\n",
        "\n",
        "%load_ext autotime"
      ],
      "execution_count": 17,
      "outputs": [
        {
          "output_type": "stream",
          "name": "stdout",
          "text": [
            "The autotime extension is already loaded. To reload it, use:\n",
            "  %reload_ext autotime\n",
            "time: 3.51 ms (started: 2021-09-04 23:20:47 +00:00)\n"
          ]
        }
      ]
    },
    {
      "cell_type": "code",
      "metadata": {
        "colab": {
          "base_uri": "https://localhost:8080/"
        },
        "id": "XpLwZxqnkIvs",
        "outputId": "16b59e02-5c9c-4836-846d-242e44180364"
      },
      "source": [
        "device = torch.device('cuda' if torch.cuda.is_available() else 'cpu')\n",
        "device"
      ],
      "execution_count": 18,
      "outputs": [
        {
          "output_type": "execute_result",
          "data": {
            "text/plain": [
              "device(type='cuda')"
            ]
          },
          "metadata": {},
          "execution_count": 18
        },
        {
          "output_type": "stream",
          "name": "stdout",
          "text": [
            "time: 9.42 ms (started: 2021-09-04 23:20:47 +00:00)\n"
          ]
        }
      ]
    },
    {
      "cell_type": "markdown",
      "metadata": {
        "id": "7JU1Mfvde2AG"
      },
      "source": [
        "# Import CIFAR-100 and Resize"
      ]
    },
    {
      "cell_type": "code",
      "metadata": {
        "colab": {
          "base_uri": "https://localhost:8080/"
        },
        "id": "_b0GiF4QUIqL",
        "outputId": "2a1aadd5-71ed-45d4-d40d-a187b1b860c9"
      },
      "source": [
        "train_transform = transforms.Compose([transforms.Resize(64),\n",
        "                                   transforms.RandomHorizontalFlip(),\n",
        "                                   transforms.RandomRotation(15),\n",
        "                                   transforms.ToTensor(),\n",
        "                                   transforms.Normalize((0.48,0.4593,0.4155),(0.2774,0.2794,0.2794))])\n",
        "\n",
        "test_transform = transforms.Compose([transforms.Resize(64),\n",
        "                                  transforms.ToTensor(),\n",
        "                                  transforms.Normalize((0.48,0.4593,0.4155),(0.2774,0.2794,0.2794))])"
      ],
      "execution_count": 19,
      "outputs": [
        {
          "output_type": "stream",
          "name": "stdout",
          "text": [
            "time: 6.3 ms (started: 2021-09-04 23:20:47 +00:00)\n"
          ]
        }
      ]
    },
    {
      "cell_type": "code",
      "metadata": {
        "colab": {
          "base_uri": "https://localhost:8080/"
        },
        "id": "A9nbu4BoSSj_",
        "outputId": "3aebccd5-d601-4300-b19d-9f152943f4f4"
      },
      "source": [
        "train_set = datasets.CIFAR100(root = \"CIFAR100\", train = True, download = True, transform = train_transform)"
      ],
      "execution_count": 20,
      "outputs": [
        {
          "output_type": "stream",
          "name": "stdout",
          "text": [
            "Files already downloaded and verified\n",
            "time: 993 ms (started: 2021-09-04 23:20:47 +00:00)\n"
          ]
        }
      ]
    },
    {
      "cell_type": "code",
      "metadata": {
        "colab": {
          "base_uri": "https://localhost:8080/"
        },
        "id": "HrYMgq0mSXIP",
        "outputId": "03f5947a-1ae8-4885-beea-9284844b6c64"
      },
      "source": [
        "test_set = datasets.CIFAR100(root = \"CIFAR100\", train = False, download = True, transform = test_transform)"
      ],
      "execution_count": 21,
      "outputs": [
        {
          "output_type": "stream",
          "name": "stdout",
          "text": [
            "Files already downloaded and verified\n",
            "time: 839 ms (started: 2021-09-04 23:20:48 +00:00)\n"
          ]
        }
      ]
    },
    {
      "cell_type": "code",
      "metadata": {
        "colab": {
          "base_uri": "https://localhost:8080/"
        },
        "id": "i5bLuLgL7zrF",
        "outputId": "0b8c327e-a109-4435-fc49-b61a5ebfea01"
      },
      "source": [
        "train_set[0][0].shape"
      ],
      "execution_count": 22,
      "outputs": [
        {
          "output_type": "execute_result",
          "data": {
            "text/plain": [
              "torch.Size([3, 64, 64])"
            ]
          },
          "metadata": {},
          "execution_count": 22
        },
        {
          "output_type": "stream",
          "name": "stdout",
          "text": [
            "time: 9.68 ms (started: 2021-09-04 23:20:49 +00:00)\n"
          ]
        }
      ]
    },
    {
      "cell_type": "code",
      "metadata": {
        "colab": {
          "base_uri": "https://localhost:8080/"
        },
        "id": "02RU0eKt73KQ",
        "outputId": "e047130d-1e6c-4c38-974e-322ebdfefee3"
      },
      "source": [
        "test_set[0][0].shape"
      ],
      "execution_count": 23,
      "outputs": [
        {
          "output_type": "execute_result",
          "data": {
            "text/plain": [
              "torch.Size([3, 64, 64])"
            ]
          },
          "metadata": {},
          "execution_count": 23
        },
        {
          "output_type": "stream",
          "name": "stdout",
          "text": [
            "time: 6.44 ms (started: 2021-09-04 23:20:49 +00:00)\n"
          ]
        }
      ]
    },
    {
      "cell_type": "markdown",
      "metadata": {
        "id": "2g65SO2tfYES"
      },
      "source": [
        "# VGG16"
      ]
    },
    {
      "cell_type": "code",
      "metadata": {
        "colab": {
          "base_uri": "https://localhost:8080/"
        },
        "id": "0PJxLwDRvpPA",
        "outputId": "45074646-715f-4052-e249-8d053016edc5"
      },
      "source": [
        "# Number of classes in the dataset\n",
        "num_classes = 100\n",
        "\n",
        "# Batch size for training\n",
        "batch_size = 64\n",
        "\n",
        "# Number of epochs\n",
        "num_epochs = 15"
      ],
      "execution_count": 24,
      "outputs": [
        {
          "output_type": "stream",
          "name": "stdout",
          "text": [
            "time: 2.65 ms (started: 2021-09-04 23:20:49 +00:00)\n"
          ]
        }
      ]
    },
    {
      "cell_type": "code",
      "metadata": {
        "colab": {
          "base_uri": "https://localhost:8080/"
        },
        "id": "MdBM_c17kXNx",
        "outputId": "3be8fc0e-f695-469b-b226-8db3ab9fcc90"
      },
      "source": [
        "vgg16_model = models.vgg16(pretrained = True) #130million+ parameters\n",
        "\n",
        "#set_parameter_requires_grad for classifier layers\n",
        "'''\n",
        "for param in vgg16_model.parameters():\n",
        "  param.requires_grad=False\n",
        "'''\n",
        "\n",
        "#Modify last layer out classes\n",
        "vgg16_model.classifier[6].out_features = num_classes\n",
        "\n",
        "vgg16_model = vgg16_model.to(device)"
      ],
      "execution_count": 25,
      "outputs": [
        {
          "output_type": "stream",
          "name": "stdout",
          "text": [
            "time: 1.76 s (started: 2021-09-04 23:20:49 +00:00)\n"
          ]
        }
      ]
    },
    {
      "cell_type": "code",
      "metadata": {
        "colab": {
          "base_uri": "https://localhost:8080/"
        },
        "id": "KlCn31Vefi1e",
        "outputId": "590b1863-48e4-4c76-c599-2fe375eb8626"
      },
      "source": [
        "print(vgg16_model)"
      ],
      "execution_count": 26,
      "outputs": [
        {
          "output_type": "stream",
          "name": "stdout",
          "text": [
            "VGG(\n",
            "  (features): Sequential(\n",
            "    (0): Conv2d(3, 64, kernel_size=(3, 3), stride=(1, 1), padding=(1, 1))\n",
            "    (1): ReLU(inplace=True)\n",
            "    (2): Conv2d(64, 64, kernel_size=(3, 3), stride=(1, 1), padding=(1, 1))\n",
            "    (3): ReLU(inplace=True)\n",
            "    (4): MaxPool2d(kernel_size=2, stride=2, padding=0, dilation=1, ceil_mode=False)\n",
            "    (5): Conv2d(64, 128, kernel_size=(3, 3), stride=(1, 1), padding=(1, 1))\n",
            "    (6): ReLU(inplace=True)\n",
            "    (7): Conv2d(128, 128, kernel_size=(3, 3), stride=(1, 1), padding=(1, 1))\n",
            "    (8): ReLU(inplace=True)\n",
            "    (9): MaxPool2d(kernel_size=2, stride=2, padding=0, dilation=1, ceil_mode=False)\n",
            "    (10): Conv2d(128, 256, kernel_size=(3, 3), stride=(1, 1), padding=(1, 1))\n",
            "    (11): ReLU(inplace=True)\n",
            "    (12): Conv2d(256, 256, kernel_size=(3, 3), stride=(1, 1), padding=(1, 1))\n",
            "    (13): ReLU(inplace=True)\n",
            "    (14): Conv2d(256, 256, kernel_size=(3, 3), stride=(1, 1), padding=(1, 1))\n",
            "    (15): ReLU(inplace=True)\n",
            "    (16): MaxPool2d(kernel_size=2, stride=2, padding=0, dilation=1, ceil_mode=False)\n",
            "    (17): Conv2d(256, 512, kernel_size=(3, 3), stride=(1, 1), padding=(1, 1))\n",
            "    (18): ReLU(inplace=True)\n",
            "    (19): Conv2d(512, 512, kernel_size=(3, 3), stride=(1, 1), padding=(1, 1))\n",
            "    (20): ReLU(inplace=True)\n",
            "    (21): Conv2d(512, 512, kernel_size=(3, 3), stride=(1, 1), padding=(1, 1))\n",
            "    (22): ReLU(inplace=True)\n",
            "    (23): MaxPool2d(kernel_size=2, stride=2, padding=0, dilation=1, ceil_mode=False)\n",
            "    (24): Conv2d(512, 512, kernel_size=(3, 3), stride=(1, 1), padding=(1, 1))\n",
            "    (25): ReLU(inplace=True)\n",
            "    (26): Conv2d(512, 512, kernel_size=(3, 3), stride=(1, 1), padding=(1, 1))\n",
            "    (27): ReLU(inplace=True)\n",
            "    (28): Conv2d(512, 512, kernel_size=(3, 3), stride=(1, 1), padding=(1, 1))\n",
            "    (29): ReLU(inplace=True)\n",
            "    (30): MaxPool2d(kernel_size=2, stride=2, padding=0, dilation=1, ceil_mode=False)\n",
            "  )\n",
            "  (avgpool): AdaptiveAvgPool2d(output_size=(7, 7))\n",
            "  (classifier): Sequential(\n",
            "    (0): Linear(in_features=25088, out_features=4096, bias=True)\n",
            "    (1): ReLU(inplace=True)\n",
            "    (2): Dropout(p=0.5, inplace=False)\n",
            "    (3): Linear(in_features=4096, out_features=4096, bias=True)\n",
            "    (4): ReLU(inplace=True)\n",
            "    (5): Dropout(p=0.5, inplace=False)\n",
            "    (6): Linear(in_features=4096, out_features=100, bias=True)\n",
            "  )\n",
            ")\n",
            "time: 1.35 ms (started: 2021-09-04 23:20:51 +00:00)\n"
          ]
        }
      ]
    },
    {
      "cell_type": "markdown",
      "metadata": {
        "id": "jqx8S8jIe_pM"
      },
      "source": [
        "# Training"
      ]
    },
    {
      "cell_type": "code",
      "metadata": {
        "colab": {
          "base_uri": "https://localhost:8080/"
        },
        "id": "nR8nsYZ_px8S",
        "outputId": "0387cbdf-7485-4251-f71c-5bd420a2adf5"
      },
      "source": [
        "criterion = nn.CrossEntropyLoss()\n",
        "sgd_optimizer = optim.SGD(vgg16_model.parameters(), lr = 0.003, momentum = 0.9)\n",
        "lr_scheduler = optim.lr_scheduler.StepLR(sgd_optimizer, step_size = 15, gamma = 0.1)\n",
        "\n",
        "train_dataloader = DataLoader(train_set, batch_size = batch_size, shuffle = True)\n",
        "test_dataloader = DataLoader(test_set, batch_size = batch_size, shuffle = True)"
      ],
      "execution_count": 27,
      "outputs": [
        {
          "output_type": "stream",
          "name": "stdout",
          "text": [
            "time: 4.63 ms (started: 2021-09-04 23:20:51 +00:00)\n"
          ]
        }
      ]
    },
    {
      "cell_type": "code",
      "metadata": {
        "colab": {
          "base_uri": "https://localhost:8080/"
        },
        "id": "M58bUMju28j4",
        "outputId": "80f822ff-af8b-4c88-ea81-b05936f7eecc"
      },
      "source": [
        "def fit(model, dataset, optimizer, scheduler, criterion):\n",
        "  #Set model to training mode\n",
        "  model.train()\n",
        "  scheduler.step()\n",
        "  #Iterate over data\n",
        "  for data, targets in dataset:\n",
        "    data = data.to(device)\n",
        "    targets = targets.to(device)\n",
        "    #Reset the gradients\n",
        "    optimizer.zero_grad()\n",
        "    # Generate predictions\n",
        "    out = model(data)\n",
        "    # Calculate loss\n",
        "    loss = criterion(out, targets)\n",
        "    # Backpropagation\n",
        "    loss.backward()\n",
        "    # Update model parameters\n",
        "    optimizer.step()"
      ],
      "execution_count": 28,
      "outputs": [
        {
          "output_type": "stream",
          "name": "stdout",
          "text": [
            "time: 8.25 ms (started: 2021-09-04 23:20:51 +00:00)\n"
          ]
        }
      ]
    },
    {
      "cell_type": "code",
      "metadata": {
        "colab": {
          "base_uri": "https://localhost:8080/"
        },
        "id": "ZSPUrB5mperN",
        "outputId": "7eb7eae8-a310-4e0f-ea21-f3bda8fadae0"
      },
      "source": [
        "def validate(model, dataset, criterion):\n",
        "  #set model to evaluation mode\n",
        "  model.eval()\n",
        "  acc = 0\n",
        "  loss = []\n",
        "  for data, targets in dataset:\n",
        "    data = data.to(device)\n",
        "    targets = targets.to(device)\n",
        "    out = model(data)\n",
        "    #Get loss\n",
        "    l = criterion(out, targets)\n",
        "    loss.append(l.item())\n",
        "    #Get index of class label\n",
        "    _,preds = torch.max(out.data,1)\n",
        "    #Get accuracy\n",
        "    acc += torch.sum(preds == targets).item()\n",
        "\n",
        "  return 100*acc/len(dataset.dataset), np.mean(np.array(loss))"
      ],
      "execution_count": 29,
      "outputs": [
        {
          "output_type": "stream",
          "name": "stdout",
          "text": [
            "time: 11.5 ms (started: 2021-09-04 23:20:51 +00:00)\n"
          ]
        }
      ]
    },
    {
      "cell_type": "code",
      "metadata": {
        "colab": {
          "base_uri": "https://localhost:8080/"
        },
        "id": "vCp8TFGSfzYx",
        "outputId": "353fea5b-3f0d-4fca-edfa-608100fe21db"
      },
      "source": [
        "train_loss = []\n",
        "train_acc = []\n",
        "test_loss = []\n",
        "test_acc = []\n",
        "\n",
        "#Loop for num_epochs\n",
        "for epoch in range(num_epochs):\n",
        "  #Fit model\n",
        "  fit(vgg16_model, train_dataloader, sgd_optimizer, lr_scheduler, criterion)\n",
        "\n",
        "  #Train validation\n",
        "  trn_acc, trn_lss = validate(vgg16_model, train_dataloader, criterion)\n",
        "  train_loss.append(trn_lss)\n",
        "  train_acc.append(trn_acc)\n",
        "\n",
        "  #Test validation\n",
        "  tst_acc, tst_lss = validate(vgg16_model, test_dataloader, criterion)\n",
        "  test_loss.append(tst_lss)\n",
        "  test_acc.append(tst_acc)\n",
        "\n",
        "  print(f'Epoch:{epoch+1:2.0f}\\t Train_Loss:{train_loss[-1]:.4f}\\t Train_Acc:{train_acc[-1]:.4f}\\t Test_Loss:{test_loss[-1]:.4f}\\t Test_Acc:{test_acc[-1]:.4f}')\n"
      ],
      "execution_count": 30,
      "outputs": [
        {
          "output_type": "stream",
          "name": "stdout",
          "text": [
            "Epoch: 1\t Train_Loss:2.6165\t Train_Acc:29.1160\t Test_Loss:2.6036\t Test_Acc:29.8900\n",
            "Epoch: 2\t Train_Loss:1.7860\t Train_Acc:49.4560\t Test_Loss:1.8008\t Test_Acc:49.0100\n",
            "Epoch: 3\t Train_Loss:1.3836\t Train_Acc:60.4160\t Test_Loss:1.4705\t Test_Acc:57.4100\n",
            "Epoch: 4\t Train_Loss:1.1918\t Train_Acc:64.6220\t Test_Loss:1.3559\t Test_Acc:60.7700\n",
            "Epoch: 5\t Train_Loss:1.0223\t Train_Acc:70.1380\t Test_Loss:1.2664\t Test_Acc:64.4300\n",
            "Epoch: 6\t Train_Loss:0.8891\t Train_Acc:73.6700\t Test_Loss:1.1874\t Test_Acc:66.1600\n",
            "Epoch: 7\t Train_Loss:0.7656\t Train_Acc:76.9820\t Test_Loss:1.1402\t Test_Acc:67.9100\n",
            "Epoch: 8\t Train_Loss:0.6762\t Train_Acc:79.5380\t Test_Loss:1.1100\t Test_Acc:69.2200\n",
            "Epoch: 9\t Train_Loss:0.6017\t Train_Acc:81.6420\t Test_Loss:1.0874\t Test_Acc:70.3600\n",
            "Epoch:10\t Train_Loss:0.5797\t Train_Acc:82.6300\t Test_Loss:1.0845\t Test_Acc:70.4200\n",
            "Epoch:11\t Train_Loss:0.5090\t Train_Acc:84.2100\t Test_Loss:1.1006\t Test_Acc:70.1500\n",
            "Epoch:12\t Train_Loss:0.4783\t Train_Acc:85.2940\t Test_Loss:1.1588\t Test_Acc:70.1600\n",
            "Epoch:13\t Train_Loss:0.4701\t Train_Acc:85.6920\t Test_Loss:1.1556\t Test_Acc:69.8200\n",
            "Epoch:14\t Train_Loss:0.3914\t Train_Acc:87.9840\t Test_Loss:1.1518\t Test_Acc:71.6400\n",
            "Epoch:15\t Train_Loss:0.1878\t Train_Acc:94.0980\t Test_Loss:1.0356\t Test_Acc:74.9900\n",
            "time: 1h 19min 43s (started: 2021-09-04 23:20:51 +00:00)\n"
          ]
        }
      ]
    },
    {
      "cell_type": "markdown",
      "metadata": {
        "id": "k-3zSFVjlwcS"
      },
      "source": [
        "# Save Model"
      ]
    },
    {
      "cell_type": "code",
      "metadata": {
        "colab": {
          "base_uri": "https://localhost:8080/"
        },
        "id": "3igyCBlZl2A-",
        "outputId": "53e8be1e-23d8-45e1-c8b5-8c51ead9feff"
      },
      "source": [
        "torch.save(vgg16_model.state_dict(), 'VGG16(SGD)')"
      ],
      "execution_count": 31,
      "outputs": [
        {
          "output_type": "stream",
          "name": "stdout",
          "text": [
            "time: 1.87 s (started: 2021-09-05 00:40:35 +00:00)\n"
          ]
        }
      ]
    }
  ]
}