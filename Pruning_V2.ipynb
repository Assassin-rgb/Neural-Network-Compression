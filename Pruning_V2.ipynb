{
  "nbformat": 4,
  "nbformat_minor": 0,
  "metadata": {
    "accelerator": "GPU",
    "colab": {
      "name": "Pruning_V2.ipynb",
      "provenance": [],
      "collapsed_sections": [
        "i1_UyaYherMo",
        "IXZCMJu-s0xf",
        "UF5cXKwxc2mZ",
        "BnSK_srGc5sz",
        "q_Spz6ttbBa8",
        "WusryuiSW0sT"
      ]
    },
    "kernelspec": {
      "display_name": "Python 3",
      "name": "python3"
    },
    "language_info": {
      "name": "python"
    },
    "widgets": {
      "application/vnd.jupyter.widget-state+json": {
        "43ad968a0b8d4a87ad56564aec41299d": {
          "model_module": "@jupyter-widgets/controls",
          "model_name": "HBoxModel",
          "model_module_version": "1.5.0",
          "state": {
            "_view_name": "HBoxView",
            "_dom_classes": [],
            "_model_name": "HBoxModel",
            "_view_module": "@jupyter-widgets/controls",
            "_model_module_version": "1.5.0",
            "_view_count": null,
            "_view_module_version": "1.5.0",
            "box_style": "",
            "layout": "IPY_MODEL_e84315e7f88b46509729ccf756a11260",
            "_model_module": "@jupyter-widgets/controls",
            "children": [
              "IPY_MODEL_fa98a774c9264b19b5d72a4887332dd7",
              "IPY_MODEL_4d6cedde961444ac894b1a1085b6422e",
              "IPY_MODEL_528e3ce666234f4b8c22feee8212b7f5"
            ]
          }
        },
        "e84315e7f88b46509729ccf756a11260": {
          "model_module": "@jupyter-widgets/base",
          "model_name": "LayoutModel",
          "model_module_version": "1.2.0",
          "state": {
            "_view_name": "LayoutView",
            "grid_template_rows": null,
            "right": null,
            "justify_content": null,
            "_view_module": "@jupyter-widgets/base",
            "overflow": null,
            "_model_module_version": "1.2.0",
            "_view_count": null,
            "flex_flow": null,
            "width": null,
            "min_width": null,
            "border": null,
            "align_items": null,
            "bottom": null,
            "_model_module": "@jupyter-widgets/base",
            "top": null,
            "grid_column": null,
            "overflow_y": null,
            "overflow_x": null,
            "grid_auto_flow": null,
            "grid_area": null,
            "grid_template_columns": null,
            "flex": null,
            "_model_name": "LayoutModel",
            "justify_items": null,
            "grid_row": null,
            "max_height": null,
            "align_content": null,
            "visibility": null,
            "align_self": null,
            "height": null,
            "min_height": null,
            "padding": null,
            "grid_auto_rows": null,
            "grid_gap": null,
            "max_width": null,
            "order": null,
            "_view_module_version": "1.2.0",
            "grid_template_areas": null,
            "object_position": null,
            "object_fit": null,
            "grid_auto_columns": null,
            "margin": null,
            "display": null,
            "left": null
          }
        },
        "fa98a774c9264b19b5d72a4887332dd7": {
          "model_module": "@jupyter-widgets/controls",
          "model_name": "HTMLModel",
          "model_module_version": "1.5.0",
          "state": {
            "_view_name": "HTMLView",
            "style": "IPY_MODEL_dc10925e999143dd90cfdc13f2acc644",
            "_dom_classes": [],
            "description": "",
            "_model_name": "HTMLModel",
            "placeholder": "​",
            "_view_module": "@jupyter-widgets/controls",
            "_model_module_version": "1.5.0",
            "value": "",
            "_view_count": null,
            "_view_module_version": "1.5.0",
            "description_tooltip": null,
            "_model_module": "@jupyter-widgets/controls",
            "layout": "IPY_MODEL_9f6522f14eb6413ab894c3a8a160d6ce"
          }
        },
        "4d6cedde961444ac894b1a1085b6422e": {
          "model_module": "@jupyter-widgets/controls",
          "model_name": "FloatProgressModel",
          "model_module_version": "1.5.0",
          "state": {
            "_view_name": "ProgressView",
            "style": "IPY_MODEL_25ce8e0d6b254effbf6e80681890df47",
            "_dom_classes": [],
            "description": "",
            "_model_name": "FloatProgressModel",
            "bar_style": "success",
            "max": 169001437,
            "_view_module": "@jupyter-widgets/controls",
            "_model_module_version": "1.5.0",
            "value": 169001437,
            "_view_count": null,
            "_view_module_version": "1.5.0",
            "orientation": "horizontal",
            "min": 0,
            "description_tooltip": null,
            "_model_module": "@jupyter-widgets/controls",
            "layout": "IPY_MODEL_cd2473f19dbc46c5bf1a5914d6ccd532"
          }
        },
        "528e3ce666234f4b8c22feee8212b7f5": {
          "model_module": "@jupyter-widgets/controls",
          "model_name": "HTMLModel",
          "model_module_version": "1.5.0",
          "state": {
            "_view_name": "HTMLView",
            "style": "IPY_MODEL_48ce36378e9d48fd9f6b086651ea3c7a",
            "_dom_classes": [],
            "description": "",
            "_model_name": "HTMLModel",
            "placeholder": "​",
            "_view_module": "@jupyter-widgets/controls",
            "_model_module_version": "1.5.0",
            "value": " 169001984/? [00:03&lt;00:00, 48286030.67it/s]",
            "_view_count": null,
            "_view_module_version": "1.5.0",
            "description_tooltip": null,
            "_model_module": "@jupyter-widgets/controls",
            "layout": "IPY_MODEL_6a39b2f8b9f34639929d57f5230a87f5"
          }
        },
        "dc10925e999143dd90cfdc13f2acc644": {
          "model_module": "@jupyter-widgets/controls",
          "model_name": "DescriptionStyleModel",
          "model_module_version": "1.5.0",
          "state": {
            "_view_name": "StyleView",
            "_model_name": "DescriptionStyleModel",
            "description_width": "",
            "_view_module": "@jupyter-widgets/base",
            "_model_module_version": "1.5.0",
            "_view_count": null,
            "_view_module_version": "1.2.0",
            "_model_module": "@jupyter-widgets/controls"
          }
        },
        "9f6522f14eb6413ab894c3a8a160d6ce": {
          "model_module": "@jupyter-widgets/base",
          "model_name": "LayoutModel",
          "model_module_version": "1.2.0",
          "state": {
            "_view_name": "LayoutView",
            "grid_template_rows": null,
            "right": null,
            "justify_content": null,
            "_view_module": "@jupyter-widgets/base",
            "overflow": null,
            "_model_module_version": "1.2.0",
            "_view_count": null,
            "flex_flow": null,
            "width": null,
            "min_width": null,
            "border": null,
            "align_items": null,
            "bottom": null,
            "_model_module": "@jupyter-widgets/base",
            "top": null,
            "grid_column": null,
            "overflow_y": null,
            "overflow_x": null,
            "grid_auto_flow": null,
            "grid_area": null,
            "grid_template_columns": null,
            "flex": null,
            "_model_name": "LayoutModel",
            "justify_items": null,
            "grid_row": null,
            "max_height": null,
            "align_content": null,
            "visibility": null,
            "align_self": null,
            "height": null,
            "min_height": null,
            "padding": null,
            "grid_auto_rows": null,
            "grid_gap": null,
            "max_width": null,
            "order": null,
            "_view_module_version": "1.2.0",
            "grid_template_areas": null,
            "object_position": null,
            "object_fit": null,
            "grid_auto_columns": null,
            "margin": null,
            "display": null,
            "left": null
          }
        },
        "25ce8e0d6b254effbf6e80681890df47": {
          "model_module": "@jupyter-widgets/controls",
          "model_name": "ProgressStyleModel",
          "model_module_version": "1.5.0",
          "state": {
            "_view_name": "StyleView",
            "_model_name": "ProgressStyleModel",
            "description_width": "",
            "_view_module": "@jupyter-widgets/base",
            "_model_module_version": "1.5.0",
            "_view_count": null,
            "_view_module_version": "1.2.0",
            "bar_color": null,
            "_model_module": "@jupyter-widgets/controls"
          }
        },
        "cd2473f19dbc46c5bf1a5914d6ccd532": {
          "model_module": "@jupyter-widgets/base",
          "model_name": "LayoutModel",
          "model_module_version": "1.2.0",
          "state": {
            "_view_name": "LayoutView",
            "grid_template_rows": null,
            "right": null,
            "justify_content": null,
            "_view_module": "@jupyter-widgets/base",
            "overflow": null,
            "_model_module_version": "1.2.0",
            "_view_count": null,
            "flex_flow": null,
            "width": null,
            "min_width": null,
            "border": null,
            "align_items": null,
            "bottom": null,
            "_model_module": "@jupyter-widgets/base",
            "top": null,
            "grid_column": null,
            "overflow_y": null,
            "overflow_x": null,
            "grid_auto_flow": null,
            "grid_area": null,
            "grid_template_columns": null,
            "flex": null,
            "_model_name": "LayoutModel",
            "justify_items": null,
            "grid_row": null,
            "max_height": null,
            "align_content": null,
            "visibility": null,
            "align_self": null,
            "height": null,
            "min_height": null,
            "padding": null,
            "grid_auto_rows": null,
            "grid_gap": null,
            "max_width": null,
            "order": null,
            "_view_module_version": "1.2.0",
            "grid_template_areas": null,
            "object_position": null,
            "object_fit": null,
            "grid_auto_columns": null,
            "margin": null,
            "display": null,
            "left": null
          }
        },
        "48ce36378e9d48fd9f6b086651ea3c7a": {
          "model_module": "@jupyter-widgets/controls",
          "model_name": "DescriptionStyleModel",
          "model_module_version": "1.5.0",
          "state": {
            "_view_name": "StyleView",
            "_model_name": "DescriptionStyleModel",
            "description_width": "",
            "_view_module": "@jupyter-widgets/base",
            "_model_module_version": "1.5.0",
            "_view_count": null,
            "_view_module_version": "1.2.0",
            "_model_module": "@jupyter-widgets/controls"
          }
        },
        "6a39b2f8b9f34639929d57f5230a87f5": {
          "model_module": "@jupyter-widgets/base",
          "model_name": "LayoutModel",
          "model_module_version": "1.2.0",
          "state": {
            "_view_name": "LayoutView",
            "grid_template_rows": null,
            "right": null,
            "justify_content": null,
            "_view_module": "@jupyter-widgets/base",
            "overflow": null,
            "_model_module_version": "1.2.0",
            "_view_count": null,
            "flex_flow": null,
            "width": null,
            "min_width": null,
            "border": null,
            "align_items": null,
            "bottom": null,
            "_model_module": "@jupyter-widgets/base",
            "top": null,
            "grid_column": null,
            "overflow_y": null,
            "overflow_x": null,
            "grid_auto_flow": null,
            "grid_area": null,
            "grid_template_columns": null,
            "flex": null,
            "_model_name": "LayoutModel",
            "justify_items": null,
            "grid_row": null,
            "max_height": null,
            "align_content": null,
            "visibility": null,
            "align_self": null,
            "height": null,
            "min_height": null,
            "padding": null,
            "grid_auto_rows": null,
            "grid_gap": null,
            "max_width": null,
            "order": null,
            "_view_module_version": "1.2.0",
            "grid_template_areas": null,
            "object_position": null,
            "object_fit": null,
            "grid_auto_columns": null,
            "margin": null,
            "display": null,
            "left": null
          }
        }
      }
    }
  },
  "cells": [
    {
      "cell_type": "markdown",
      "metadata": {
        "id": "i1_UyaYherMo"
      },
      "source": [
        "# Import Library"
      ]
    },
    {
      "cell_type": "code",
      "metadata": {
        "colab": {
          "base_uri": "https://localhost:8080/"
        },
        "id": "KbGX_Okzb5y3",
        "outputId": "2afefbb9-34c9-4904-e252-446881985999"
      },
      "source": [
        "!pip install ipython-autotime"
      ],
      "execution_count": 2,
      "outputs": [
        {
          "output_type": "stream",
          "name": "stdout",
          "text": [
            "Collecting ipython-autotime\n",
            "  Downloading ipython_autotime-0.3.1-py2.py3-none-any.whl (6.8 kB)\n",
            "Requirement already satisfied: ipython in /usr/local/lib/python3.7/dist-packages (from ipython-autotime) (5.5.0)\n",
            "Requirement already satisfied: pickleshare in /usr/local/lib/python3.7/dist-packages (from ipython->ipython-autotime) (0.7.5)\n",
            "Requirement already satisfied: simplegeneric>0.8 in /usr/local/lib/python3.7/dist-packages (from ipython->ipython-autotime) (0.8.1)\n",
            "Requirement already satisfied: pygments in /usr/local/lib/python3.7/dist-packages (from ipython->ipython-autotime) (2.6.1)\n",
            "Requirement already satisfied: setuptools>=18.5 in /usr/local/lib/python3.7/dist-packages (from ipython->ipython-autotime) (57.4.0)\n",
            "Requirement already satisfied: prompt-toolkit<2.0.0,>=1.0.4 in /usr/local/lib/python3.7/dist-packages (from ipython->ipython-autotime) (1.0.18)\n",
            "Requirement already satisfied: pexpect in /usr/local/lib/python3.7/dist-packages (from ipython->ipython-autotime) (4.8.0)\n",
            "Requirement already satisfied: traitlets>=4.2 in /usr/local/lib/python3.7/dist-packages (from ipython->ipython-autotime) (5.1.0)\n",
            "Requirement already satisfied: decorator in /usr/local/lib/python3.7/dist-packages (from ipython->ipython-autotime) (4.4.2)\n",
            "Requirement already satisfied: wcwidth in /usr/local/lib/python3.7/dist-packages (from prompt-toolkit<2.0.0,>=1.0.4->ipython->ipython-autotime) (0.2.5)\n",
            "Requirement already satisfied: six>=1.9.0 in /usr/local/lib/python3.7/dist-packages (from prompt-toolkit<2.0.0,>=1.0.4->ipython->ipython-autotime) (1.15.0)\n",
            "Requirement already satisfied: ptyprocess>=0.5 in /usr/local/lib/python3.7/dist-packages (from pexpect->ipython->ipython-autotime) (0.7.0)\n",
            "Installing collected packages: ipython-autotime\n",
            "Successfully installed ipython-autotime-0.3.1\n"
          ]
        }
      ]
    },
    {
      "cell_type": "code",
      "metadata": {
        "colab": {
          "base_uri": "https://localhost:8080/"
        },
        "id": "Row9Vdu7Xo5w",
        "outputId": "f89d4b62-b7b9-45e9-822c-7f1e1bfdf37e"
      },
      "source": [
        "!pip install torch_pruning"
      ],
      "execution_count": 3,
      "outputs": [
        {
          "output_type": "stream",
          "name": "stdout",
          "text": [
            "Collecting torch_pruning\n",
            "  Downloading torch_pruning-0.2.7-py3-none-any.whl (14 kB)\n",
            "Requirement already satisfied: torch in /usr/local/lib/python3.7/dist-packages (from torch_pruning) (1.9.0+cu102)\n",
            "Requirement already satisfied: typing-extensions in /usr/local/lib/python3.7/dist-packages (from torch->torch_pruning) (3.7.4.3)\n",
            "Installing collected packages: torch-pruning\n",
            "Successfully installed torch-pruning-0.2.7\n"
          ]
        }
      ]
    },
    {
      "cell_type": "code",
      "metadata": {
        "colab": {
          "base_uri": "https://localhost:8080/"
        },
        "id": "g6ZxiTs1cGGW",
        "outputId": "a0386b94-3815-4711-8a04-e02f800433c8"
      },
      "source": [
        "import numpy as np\n",
        "import matplotlib.pyplot as plt\n",
        "import torch\n",
        "import torch.nn as nn\n",
        "from torch.utils.data import DataLoader\n",
        "from torchvision import models,transforms,datasets\n",
        "import torch.nn.utils.prune as prune\n",
        "from copy import deepcopy\n",
        "import torch_pruning as tp\n",
        "\n",
        "%load_ext autotime"
      ],
      "execution_count": 4,
      "outputs": [
        {
          "output_type": "stream",
          "name": "stdout",
          "text": [
            "time: 88.6 µs (started: 2021-09-20 20:18:05 +00:00)\n"
          ]
        }
      ]
    },
    {
      "cell_type": "code",
      "metadata": {
        "colab": {
          "base_uri": "https://localhost:8080/"
        },
        "id": "6VGYy7LKeKIr",
        "outputId": "27b6c769-e1e8-4c2f-fbb2-5a6bdc536dfc"
      },
      "source": [
        "num_classes = 100\n",
        "batch_size = 64"
      ],
      "execution_count": 5,
      "outputs": [
        {
          "output_type": "stream",
          "name": "stdout",
          "text": [
            "time: 827 µs (started: 2021-09-20 20:18:05 +00:00)\n"
          ]
        }
      ]
    },
    {
      "cell_type": "code",
      "metadata": {
        "colab": {
          "base_uri": "https://localhost:8080/"
        },
        "id": "nwyHLnPtdcIP",
        "outputId": "b7ba4b97-6fc5-4556-80ed-e112787d47be"
      },
      "source": [
        "device = torch.device('cuda' if torch.cuda.is_available() else 'cpu')\n",
        "print(device)"
      ],
      "execution_count": 6,
      "outputs": [
        {
          "output_type": "stream",
          "name": "stdout",
          "text": [
            "cuda\n",
            "time: 83.6 ms (started: 2021-09-20 20:18:05 +00:00)\n"
          ]
        }
      ]
    },
    {
      "cell_type": "markdown",
      "metadata": {
        "id": "IXZCMJu-s0xf"
      },
      "source": [
        "# Important Functions"
      ]
    },
    {
      "cell_type": "code",
      "metadata": {
        "colab": {
          "base_uri": "https://localhost:8080/"
        },
        "id": "_3uShyiPeGI7",
        "outputId": "5eaee4c2-e029-4f74-9f52-ec865b01ff41"
      },
      "source": [
        "def get_total_parameters(model):\n",
        "    return sum(p.numel() for p in model.parameters() if p.requires_grad)\n",
        "\n",
        "\n",
        "def get_pruned_parameters(pruned_model):\n",
        "    params = 0\n",
        "    for param in pruned_model.parameters():\n",
        "        if param is not None:\n",
        "            params += torch.nonzero(param).size(0)\n",
        "    return params"
      ],
      "execution_count": 7,
      "outputs": [
        {
          "output_type": "stream",
          "name": "stdout",
          "text": [
            "time: 7.81 ms (started: 2021-09-20 20:18:05 +00:00)\n"
          ]
        }
      ]
    },
    {
      "cell_type": "code",
      "metadata": {
        "colab": {
          "base_uri": "https://localhost:8080/"
        },
        "id": "huG_LHkaXYXx",
        "outputId": "dee6c8bb-61aa-4bc6-c1e8-f375f5322f26"
      },
      "source": [
        "def measure_module_sparsity(module, weight=True, bias=False, use_mask=False):\n",
        "    num_zeros = 0\n",
        "    num_elements = 0\n",
        "    if use_mask == True:\n",
        "        for buffer_name, buffer in module.named_buffers():\n",
        "            if \"weight_mask\" in buffer_name and weight == True:\n",
        "                num_zeros += torch.sum(buffer == 0).item()\n",
        "                num_elements += buffer.nelement()\n",
        "            if \"bias_mask\" in buffer_name and bias == True:\n",
        "                num_zeros += torch.sum(buffer == 0).item()\n",
        "                num_elements += buffer.nelement()\n",
        "    else:\n",
        "        for param_name, param in module.named_parameters():\n",
        "            if \"weight\" in param_name and weight == True:\n",
        "                num_zeros += torch.sum(param == 0).item()\n",
        "                num_elements += param.nelement()\n",
        "            if \"bias\" in param_name and bias == True:\n",
        "                num_zeros += torch.sum(param == 0).item()\n",
        "                num_elements += param.nelement()\n",
        "\n",
        "    sparsity = num_zeros / num_elements\n",
        "\n",
        "    return num_zeros, num_elements, sparsity"
      ],
      "execution_count": 8,
      "outputs": [
        {
          "output_type": "stream",
          "name": "stdout",
          "text": [
            "time: 16.8 ms (started: 2021-09-20 20:18:05 +00:00)\n"
          ]
        }
      ]
    },
    {
      "cell_type": "code",
      "metadata": {
        "colab": {
          "base_uri": "https://localhost:8080/"
        },
        "id": "ZrwAHE5je3zj",
        "outputId": "77f5c0da-50c2-463f-a6f7-9b7bf67e39ce"
      },
      "source": [
        "def measure_global_sparsity(model,\n",
        "                            weight=True,\n",
        "                            bias=False,\n",
        "                            conv2d_use_mask=False,\n",
        "                            linear_use_mask=False):\n",
        "\n",
        "    num_zeros = 0\n",
        "    num_elements = 0\n",
        "\n",
        "    for module_name, module in model.named_modules():\n",
        "\n",
        "        if isinstance(module, torch.nn.Conv2d):\n",
        "\n",
        "            module_num_zeros, module_num_elements, _ = measure_module_sparsity(\n",
        "                module, weight=weight, bias=bias, use_mask=conv2d_use_mask)\n",
        "            num_zeros += module_num_zeros\n",
        "            num_elements += module_num_elements\n",
        "\n",
        "        elif isinstance(module, torch.nn.Linear):\n",
        "\n",
        "            module_num_zeros, module_num_elements, _ = measure_module_sparsity(\n",
        "                module, weight=weight, bias=bias, use_mask=linear_use_mask)\n",
        "            num_zeros += module_num_zeros\n",
        "            num_elements += module_num_elements\n",
        "\n",
        "    sparsity = num_zeros / num_elements\n",
        "\n",
        "    return num_zeros, num_elements, sparsity"
      ],
      "execution_count": 9,
      "outputs": [
        {
          "output_type": "stream",
          "name": "stdout",
          "text": [
            "time: 16.3 ms (started: 2021-09-20 20:18:05 +00:00)\n"
          ]
        }
      ]
    },
    {
      "cell_type": "code",
      "metadata": {
        "colab": {
          "base_uri": "https://localhost:8080/"
        },
        "id": "QQwrIpKDZWE6",
        "outputId": "4108ac1c-e72c-49a1-a3ca-1eaab4417516"
      },
      "source": [
        "def remove_parameters(model):\n",
        "    for module_name, module in model.named_modules():\n",
        "        if isinstance(module, torch.nn.Conv2d):\n",
        "            try:\n",
        "                prune.remove(module, \"weight\")\n",
        "            except:\n",
        "                pass\n",
        "            try:\n",
        "                prune.remove(module, \"bias\")\n",
        "            except:\n",
        "                pass\n",
        "        elif isinstance(module, torch.nn.Linear):\n",
        "            try:\n",
        "                prune.remove(module, \"weight\")\n",
        "            except:\n",
        "                pass\n",
        "            try:\n",
        "                prune.remove(module, \"bias\")\n",
        "            except:\n",
        "                pass\n",
        "    return model"
      ],
      "execution_count": 10,
      "outputs": [
        {
          "output_type": "stream",
          "name": "stdout",
          "text": [
            "time: 17.4 ms (started: 2021-09-20 20:18:05 +00:00)\n"
          ]
        }
      ]
    },
    {
      "cell_type": "code",
      "metadata": {
        "colab": {
          "base_uri": "https://localhost:8080/"
        },
        "id": "wgJyj6r0tjFq",
        "outputId": "3f931607-5452-4629-ce3b-7e5a39e3db34"
      },
      "source": [
        "def fit(model, dataset, optimizer, criterion):\n",
        "  #Set model to training mode\n",
        "  model.train()\n",
        "  #Iterate over data\n",
        "  for data, targets in dataset:\n",
        "    data = data.to(device)\n",
        "    targets = targets.to(device)\n",
        "    #Reset the gradients\n",
        "    optimizer.zero_grad()\n",
        "    # Generate predictions\n",
        "    out = model(data)\n",
        "    # Calculate loss\n",
        "    loss = criterion(out, targets)\n",
        "    # Backpropagation\n",
        "    loss.backward()\n",
        "    # Update model parameters\n",
        "    optimizer.step()"
      ],
      "execution_count": 11,
      "outputs": [
        {
          "output_type": "stream",
          "name": "stdout",
          "text": [
            "time: 6.7 ms (started: 2021-09-20 20:18:05 +00:00)\n"
          ]
        }
      ]
    },
    {
      "cell_type": "code",
      "metadata": {
        "colab": {
          "base_uri": "https://localhost:8080/"
        },
        "id": "iRZSs3SNdYGm",
        "outputId": "37090d8e-20f1-4525-b869-c4627b837b51"
      },
      "source": [
        "def evaluate(model, dataloader):\n",
        "  model.eval()\n",
        "  acc = 0\n",
        "  loss = []\n",
        "  for data, targets in dataloader:\n",
        "    data = data.to(device)\n",
        "    targets = targets.to(device)\n",
        "    out = model(data)\n",
        "    #Get loss\n",
        "    l = criterion(out, targets)\n",
        "    loss.append(l.item())\n",
        "    #Get index of class label\n",
        "    _,preds = torch.max(out.data,1)\n",
        "    #Get accuracy\n",
        "    acc += torch.sum(preds == targets).item()\n",
        "\n",
        "  return 100*acc/len(dataloader.dataset), np.mean(np.array(loss))"
      ],
      "execution_count": 12,
      "outputs": [
        {
          "output_type": "stream",
          "name": "stdout",
          "text": [
            "time: 25.1 ms (started: 2021-09-20 20:18:05 +00:00)\n"
          ]
        }
      ]
    },
    {
      "cell_type": "code",
      "metadata": {
        "colab": {
          "base_uri": "https://localhost:8080/"
        },
        "id": "EAt4s81pw5KW",
        "outputId": "f3d1e56b-f569-4573-ebb1-26e013addbad"
      },
      "source": [
        "def unstructured_global_pruning(model, amount):\n",
        "  pruning_model = deepcopy(model)\n",
        "  pruning_model = pruning_model.to(device)\n",
        "\n",
        "  parameters_to_prune = []\n",
        "  for module_name, module in pruning_model.named_modules():\n",
        "      if isinstance(module, torch.nn.Conv2d) or isinstance(module, torch.nn.Linear):\n",
        "          parameters_to_prune.append((module, \"weight\"))\n",
        "  parameters_to_prune = parameters_to_prune[:-1]\n",
        "\n",
        "  prune.global_unstructured(\n",
        "      parameters = parameters_to_prune,\n",
        "      pruning_method = prune.L1Unstructured,\n",
        "      amount = amount)\n",
        "\n",
        "  pruning_model = remove_parameters(model = pruning_model)\n",
        "\n",
        "  return pruning_model"
      ],
      "execution_count": 13,
      "outputs": [
        {
          "output_type": "stream",
          "name": "stdout",
          "text": [
            "time: 11.8 ms (started: 2021-09-20 20:18:05 +00:00)\n"
          ]
        }
      ]
    },
    {
      "cell_type": "code",
      "metadata": {
        "colab": {
          "base_uri": "https://localhost:8080/"
        },
        "id": "wxemDv7Mw68v",
        "outputId": "1f826515-b312-44ee-d2fa-e51ee4d9a485"
      },
      "source": [
        "def structured_pruning(model, sparsity_layer):\n",
        "  prune_model = deepcopy(model)\n",
        "  prune_model = prune_model.to(device)\n",
        "\n",
        "  prunable_module_type = (nn.Conv2d, nn.Linear)\n",
        "  prunable_modules = [ m for m in prune_model.modules() if isinstance(m, prunable_module_type) ]\n",
        "  prunable_modules = prunable_modules[:-1]\n",
        "\n",
        "  strategy = tp.strategy.L1Strategy()\n",
        "  DG = tp.DependencyGraph().build_dependency(prune_model, example_inputs = torch.randn(1,3,64,64))\n",
        "\n",
        "  i = 0\n",
        "  for layer_to_prune in prunable_modules:\n",
        "    if isinstance( layer_to_prune, nn.Conv2d ):\n",
        "        prune_fn = tp.prune_conv\n",
        "    elif isinstance(layer_to_prune, nn.Linear):\n",
        "        prune_fn = tp.prune_linear\n",
        "    \n",
        "    pruning_idxs = strategy(layer_to_prune.weight, amount = sparsity_layer[i])\n",
        "    plan = DG.get_pruning_plan( layer_to_prune, prune_fn, pruning_idxs)\n",
        "\n",
        "    i += 1\n",
        "\n",
        "    plan.exec()\n",
        "  \n",
        "  return prune_model"
      ],
      "execution_count": 14,
      "outputs": [
        {
          "output_type": "stream",
          "name": "stdout",
          "text": [
            "time: 15.2 ms (started: 2021-09-20 20:18:05 +00:00)\n"
          ]
        }
      ]
    },
    {
      "cell_type": "markdown",
      "metadata": {
        "id": "UF5cXKwxc2mZ"
      },
      "source": [
        "# Import Data"
      ]
    },
    {
      "cell_type": "code",
      "metadata": {
        "colab": {
          "base_uri": "https://localhost:8080/",
          "height": 0,
          "referenced_widgets": [
            "43ad968a0b8d4a87ad56564aec41299d",
            "e84315e7f88b46509729ccf756a11260",
            "fa98a774c9264b19b5d72a4887332dd7",
            "4d6cedde961444ac894b1a1085b6422e",
            "528e3ce666234f4b8c22feee8212b7f5",
            "dc10925e999143dd90cfdc13f2acc644",
            "9f6522f14eb6413ab894c3a8a160d6ce",
            "25ce8e0d6b254effbf6e80681890df47",
            "cd2473f19dbc46c5bf1a5914d6ccd532",
            "48ce36378e9d48fd9f6b086651ea3c7a",
            "6a39b2f8b9f34639929d57f5230a87f5"
          ]
        },
        "id": "lHYlQYfStda_",
        "outputId": "efb3f277-c2ce-4c83-cd26-db770a4a255a"
      },
      "source": [
        "train_transform = transforms.Compose([transforms.Resize(64),\n",
        "                                   transforms.RandomHorizontalFlip(),\n",
        "                                   transforms.RandomRotation(15),\n",
        "                                   transforms.ToTensor(),\n",
        "                                   transforms.Normalize((0.48,0.4593,0.4155),(0.2774,0.2794,0.2794))])\n",
        "\n",
        "train_set = datasets.CIFAR100(root = \"CIFAR100\", train = True, download = True, transform = train_transform)"
      ],
      "execution_count": 15,
      "outputs": [
        {
          "output_type": "stream",
          "name": "stdout",
          "text": [
            "Downloading https://www.cs.toronto.edu/~kriz/cifar-100-python.tar.gz to CIFAR100/cifar-100-python.tar.gz\n"
          ]
        },
        {
          "output_type": "display_data",
          "data": {
            "application/vnd.jupyter.widget-view+json": {
              "model_id": "43ad968a0b8d4a87ad56564aec41299d",
              "version_minor": 0,
              "version_major": 2
            },
            "text/plain": [
              "  0%|          | 0/169001437 [00:00<?, ?it/s]"
            ]
          },
          "metadata": {}
        },
        {
          "output_type": "stream",
          "name": "stdout",
          "text": [
            "Extracting CIFAR100/cifar-100-python.tar.gz to CIFAR100\n",
            "time: 6.59 s (started: 2021-09-20 20:18:05 +00:00)\n"
          ]
        }
      ]
    },
    {
      "cell_type": "code",
      "metadata": {
        "colab": {
          "base_uri": "https://localhost:8080/"
        },
        "id": "brD9lhn7cwKy",
        "outputId": "d98b3374-dde6-4f6d-e6a3-2f01472b228d"
      },
      "source": [
        "test_transform = transforms.Compose([transforms.Resize(64),\n",
        "                                  transforms.ToTensor(),\n",
        "                                  transforms.Normalize((0.48,0.4593,0.4155),(0.2774,0.2794,0.2794))])\n",
        "\n",
        "test_set = datasets.CIFAR100(root = \"CIFAR100\", train = False, download = True, transform = test_transform)"
      ],
      "execution_count": 16,
      "outputs": [
        {
          "output_type": "stream",
          "name": "stdout",
          "text": [
            "Files already downloaded and verified\n",
            "time: 804 ms (started: 2021-09-20 20:18:12 +00:00)\n"
          ]
        }
      ]
    },
    {
      "cell_type": "code",
      "metadata": {
        "colab": {
          "base_uri": "https://localhost:8080/"
        },
        "id": "wP2R-821dqQZ",
        "outputId": "66bc7473-832c-4f4a-de85-3ca99abb9e8f"
      },
      "source": [
        "train_dataloader = DataLoader(train_set, batch_size = batch_size, shuffle = True)\n",
        "test_dataloader = DataLoader(test_set, batch_size = batch_size)"
      ],
      "execution_count": 17,
      "outputs": [
        {
          "output_type": "stream",
          "name": "stdout",
          "text": [
            "time: 3.68 ms (started: 2021-09-20 20:18:13 +00:00)\n"
          ]
        }
      ]
    },
    {
      "cell_type": "code",
      "metadata": {
        "colab": {
          "base_uri": "https://localhost:8080/"
        },
        "id": "2ZrNyPVStxNw",
        "outputId": "7afc0246-6d1d-42ce-d259-97d4ea813234"
      },
      "source": [
        "criterion = nn.CrossEntropyLoss()"
      ],
      "execution_count": 18,
      "outputs": [
        {
          "output_type": "stream",
          "name": "stdout",
          "text": [
            "time: 3.32 ms (started: 2021-09-20 20:18:13 +00:00)\n"
          ]
        }
      ]
    },
    {
      "cell_type": "markdown",
      "metadata": {
        "id": "BnSK_srGc5sz"
      },
      "source": [
        "# Import Model to be Pruned"
      ]
    },
    {
      "cell_type": "code",
      "metadata": {
        "colab": {
          "base_uri": "https://localhost:8080/"
        },
        "id": "GjAXLxMTcdds",
        "outputId": "7af7c66c-f2bb-4c48-dc64-564c4855c517"
      },
      "source": [
        "model = torch.load('/content/drive/MyDrive/CV Systems/Project1/Pruning/VGG16/PrunedModel.pt')"
      ],
      "execution_count": null,
      "outputs": [
        {
          "name": "stdout",
          "output_type": "stream",
          "text": [
            "time: 9.64 s (started: 2021-09-15 18:50:30 +00:00)\n"
          ]
        }
      ]
    },
    {
      "cell_type": "code",
      "metadata": {
        "colab": {
          "base_uri": "https://localhost:8080/"
        },
        "id": "HM_6N0mThlB2",
        "outputId": "64ee165e-6b40-4ef8-cbc5-fa76c9bc2c8d"
      },
      "source": [
        "print(model)"
      ],
      "execution_count": null,
      "outputs": [
        {
          "name": "stdout",
          "output_type": "stream",
          "text": [
            "VGG(\n",
            "  (features): Sequential(\n",
            "    (0): Conv2d(3, 63, kernel_size=(3, 3), stride=(1, 1), padding=(1, 1))\n",
            "    (1): ReLU(inplace=True)\n",
            "    (2): Conv2d(63, 55, kernel_size=(3, 3), stride=(1, 1), padding=(1, 1))\n",
            "    (3): ReLU(inplace=True)\n",
            "    (4): MaxPool2d(kernel_size=2, stride=2, padding=0, dilation=1, ceil_mode=False)\n",
            "    (5): Conv2d(55, 108, kernel_size=(3, 3), stride=(1, 1), padding=(1, 1))\n",
            "    (6): ReLU(inplace=True)\n",
            "    (7): Conv2d(108, 104, kernel_size=(3, 3), stride=(1, 1), padding=(1, 1))\n",
            "    (8): ReLU(inplace=True)\n",
            "    (9): MaxPool2d(kernel_size=2, stride=2, padding=0, dilation=1, ceil_mode=False)\n",
            "    (10): Conv2d(104, 200, kernel_size=(3, 3), stride=(1, 1), padding=(1, 1))\n",
            "    (11): ReLU(inplace=True)\n",
            "    (12): Conv2d(200, 187, kernel_size=(3, 3), stride=(1, 1), padding=(1, 1))\n",
            "    (13): ReLU(inplace=True)\n",
            "    (14): Conv2d(187, 190, kernel_size=(3, 3), stride=(1, 1), padding=(1, 1))\n",
            "    (15): ReLU(inplace=True)\n",
            "    (16): MaxPool2d(kernel_size=2, stride=2, padding=0, dilation=1, ceil_mode=False)\n",
            "    (17): Conv2d(190, 354, kernel_size=(3, 3), stride=(1, 1), padding=(1, 1))\n",
            "    (18): ReLU(inplace=True)\n",
            "    (19): Conv2d(354, 318, kernel_size=(3, 3), stride=(1, 1), padding=(1, 1))\n",
            "    (20): ReLU(inplace=True)\n",
            "    (21): Conv2d(318, 313, kernel_size=(3, 3), stride=(1, 1), padding=(1, 1))\n",
            "    (22): ReLU(inplace=True)\n",
            "    (23): MaxPool2d(kernel_size=2, stride=2, padding=0, dilation=1, ceil_mode=False)\n",
            "    (24): Conv2d(313, 323, kernel_size=(3, 3), stride=(1, 1), padding=(1, 1))\n",
            "    (25): ReLU(inplace=True)\n",
            "    (26): Conv2d(323, 323, kernel_size=(3, 3), stride=(1, 1), padding=(1, 1))\n",
            "    (27): ReLU(inplace=True)\n",
            "    (28): Conv2d(323, 303, kernel_size=(3, 3), stride=(1, 1), padding=(1, 1))\n",
            "    (29): ReLU(inplace=True)\n",
            "    (30): MaxPool2d(kernel_size=2, stride=2, padding=0, dilation=1, ceil_mode=False)\n",
            "  )\n",
            "  (avgpool): AdaptiveAvgPool2d(output_size=(7, 7))\n",
            "  (classifier): Sequential(\n",
            "    (0): Linear(in_features=14847, out_features=410, bias=True)\n",
            "    (1): ReLU(inplace=True)\n",
            "    (2): Dropout(p=0.5, inplace=False)\n",
            "    (3): Linear(in_features=410, out_features=1639, bias=True)\n",
            "    (4): ReLU(inplace=True)\n",
            "    (5): Dropout(p=0.5, inplace=False)\n",
            "    (6): Linear(in_features=1639, out_features=100, bias=True)\n",
            "  )\n",
            ")\n",
            "time: 1.36 ms (started: 2021-09-15 18:50:40 +00:00)\n"
          ]
        }
      ]
    },
    {
      "cell_type": "markdown",
      "metadata": {
        "id": "q_Spz6ttbBa8"
      },
      "source": [
        "# Unstructured Pruning"
      ]
    },
    {
      "cell_type": "code",
      "metadata": {
        "colab": {
          "base_uri": "https://localhost:8080/"
        },
        "id": "0Z3kdi6SiCj0",
        "outputId": "72c0b9f6-66b7-4da1-e126-17d57abf13a6"
      },
      "source": [
        "ustp_model = unstructured_global_pruning(model, 0.5)"
      ],
      "execution_count": null,
      "outputs": [
        {
          "name": "stdout",
          "output_type": "stream",
          "text": [
            "time: 756 ms (started: 2021-09-15 19:04:47 +00:00)\n"
          ]
        }
      ]
    },
    {
      "cell_type": "code",
      "metadata": {
        "colab": {
          "base_uri": "https://localhost:8080/"
        },
        "id": "cOMgxIUI58Vb",
        "outputId": "4a3beb02-47a3-4e57-8475-9ea977e71863"
      },
      "source": [
        "acc, loss = evaluate(ustp_model, test_dataloader)\n",
        "print('Accuracy : ',acc , '\\tLoss : ', loss)"
      ],
      "execution_count": null,
      "outputs": [
        {
          "name": "stdout",
          "output_type": "stream",
          "text": [
            "Accuracy :  73.65 \tLoss :  1.0088575296341233\n",
            "time: 14.7 s (started: 2021-09-15 18:50:52 +00:00)\n"
          ]
        }
      ]
    },
    {
      "cell_type": "code",
      "metadata": {
        "colab": {
          "base_uri": "https://localhost:8080/"
        },
        "id": "6vxBPg2xoE9c",
        "outputId": "93be4f51-24bf-4973-b792-4b67531c0c5d"
      },
      "source": [
        "num_zeros, num_elements, sparsity = measure_global_sparsity(\n",
        "            ustp_model,\n",
        "            weight=True,\n",
        "            bias=False,\n",
        "            conv2d_use_mask=False,\n",
        "            linear_use_mask=False)\n",
        "\n",
        "print(\"Global Sparsity:\")\n",
        "print(\"{:.2f}\".format(sparsity))"
      ],
      "execution_count": null,
      "outputs": [
        {
          "name": "stdout",
          "output_type": "stream",
          "text": [
            "Global Sparsity:\n",
            "0.49\n",
            "time: 13.6 ms (started: 2021-09-15 19:04:48 +00:00)\n"
          ]
        }
      ]
    },
    {
      "cell_type": "code",
      "metadata": {
        "colab": {
          "base_uri": "https://localhost:8080/"
        },
        "id": "6_kxpO_NYh1L",
        "outputId": "0cd0ea05-2976-4584-c23a-d58225009ada"
      },
      "source": [
        "sparsity_layer = []\n",
        "i = 0\n",
        "for module_name, module in ustp_model.named_modules():\n",
        "  if isinstance(module, torch.nn.Conv2d) or isinstance(module, torch.nn.Linear):\n",
        "    num_zeros, num_elements, sparsity = measure_module_sparsity(module, weight=True, bias=False, use_mask=False)\n",
        "    print('Layer', i , num_zeros, num_elements, sparsity)\n",
        "    sparsity_layer.append(sparsity)\n",
        "    i+= 1"
      ],
      "execution_count": null,
      "outputs": [
        {
          "name": "stdout",
          "output_type": "stream",
          "text": [
            "Layer 0 30 1701 0.01763668430335097\n",
            "Layer 1 2945 31185 0.0944364277697611\n",
            "Layer 2 4243 53460 0.0793677515899738\n",
            "Layer 3 9858 101088 0.09751899335232668\n",
            "Layer 4 23455 187200 0.12529380341880342\n",
            "Layer 5 53990 336600 0.16039809863339274\n",
            "Layer 6 46109 319770 0.14419426462770116\n",
            "Layer 7 104703 605340 0.17296560610565964\n",
            "Layer 8 231774 1013148 0.22876618223596157\n",
            "Layer 9 203450 895806 0.22711390635918938\n",
            "Layer 10 234236 909891 0.25743303318749167\n",
            "Layer 11 273627 938961 0.29141465939479916\n",
            "Layer 12 278287 880821 0.31594046917591656\n",
            "Layer 13 4854214 6087270 0.7974369462829807\n",
            "Layer 14 196195 671990 0.2919611898986592\n",
            "Layer 15 0 163900 0.0\n",
            "time: 51.8 ms (started: 2021-09-15 19:04:50 +00:00)\n"
          ]
        }
      ]
    },
    {
      "cell_type": "code",
      "metadata": {
        "colab": {
          "base_uri": "https://localhost:8080/"
        },
        "id": "ONNvvMsxouET",
        "outputId": "2f1a04e6-6ff7-4a08-a00a-015f12691441"
      },
      "source": [
        "sparsity_layer = [ max(round(round(i,2)-0.01,2),0) for i in sparsity_layer]\n",
        "sparsity_layer"
      ],
      "execution_count": null,
      "outputs": [
        {
          "data": {
            "text/plain": [
              "[0.01,\n",
              " 0.08,\n",
              " 0.07,\n",
              " 0.09,\n",
              " 0.12,\n",
              " 0.15,\n",
              " 0.13,\n",
              " 0.16,\n",
              " 0.22,\n",
              " 0.22,\n",
              " 0.25,\n",
              " 0.28,\n",
              " 0.31,\n",
              " 0.79,\n",
              " 0.28,\n",
              " 0]"
            ]
          },
          "execution_count": 34,
          "metadata": {},
          "output_type": "execute_result"
        },
        {
          "name": "stdout",
          "output_type": "stream",
          "text": [
            "time: 9.05 ms (started: 2021-09-15 19:04:52 +00:00)\n"
          ]
        }
      ]
    },
    {
      "cell_type": "markdown",
      "metadata": {
        "id": "WusryuiSW0sT"
      },
      "source": [
        "# Structured Pruning"
      ]
    },
    {
      "cell_type": "code",
      "metadata": {
        "colab": {
          "base_uri": "https://localhost:8080/"
        },
        "id": "3XewNQW8X21O",
        "outputId": "394ee6dd-af5a-4601-b53c-ee3cea9a6972"
      },
      "source": [
        "stp_model = structured_pruning(ustp_model, sparsity_layer)"
      ],
      "execution_count": null,
      "outputs": [
        {
          "name": "stdout",
          "output_type": "stream",
          "text": [
            "time: 217 ms (started: 2021-09-15 19:04:54 +00:00)\n"
          ]
        }
      ]
    },
    {
      "cell_type": "code",
      "metadata": {
        "colab": {
          "base_uri": "https://localhost:8080/"
        },
        "id": "jlNrqlQpXRP-",
        "outputId": "6191632b-d435-49e7-97e2-84339af150a5"
      },
      "source": [
        "tp.utils.count_params(stp_model)"
      ],
      "execution_count": null,
      "outputs": [
        {
          "data": {
            "text/plain": [
              "5070779"
            ]
          },
          "execution_count": 36,
          "metadata": {},
          "output_type": "execute_result"
        },
        {
          "name": "stdout",
          "output_type": "stream",
          "text": [
            "time: 13.6 ms (started: 2021-09-15 19:04:56 +00:00)\n"
          ]
        }
      ]
    },
    {
      "cell_type": "code",
      "metadata": {
        "colab": {
          "base_uri": "https://localhost:8080/"
        },
        "id": "WrmxkvD3XVbB",
        "outputId": "944095b1-aabf-4bfe-8f4c-4b2f3045bf59"
      },
      "source": [
        "print(stp_model)"
      ],
      "execution_count": null,
      "outputs": [
        {
          "name": "stdout",
          "output_type": "stream",
          "text": [
            "VGG(\n",
            "  (features): Sequential(\n",
            "    (0): Conv2d(3, 63, kernel_size=(3, 3), stride=(1, 1), padding=(1, 1))\n",
            "    (1): ReLU(inplace=True)\n",
            "    (2): Conv2d(63, 51, kernel_size=(3, 3), stride=(1, 1), padding=(1, 1))\n",
            "    (3): ReLU(inplace=True)\n",
            "    (4): MaxPool2d(kernel_size=2, stride=2, padding=0, dilation=1, ceil_mode=False)\n",
            "    (5): Conv2d(51, 101, kernel_size=(3, 3), stride=(1, 1), padding=(1, 1))\n",
            "    (6): ReLU(inplace=True)\n",
            "    (7): Conv2d(101, 95, kernel_size=(3, 3), stride=(1, 1), padding=(1, 1))\n",
            "    (8): ReLU(inplace=True)\n",
            "    (9): MaxPool2d(kernel_size=2, stride=2, padding=0, dilation=1, ceil_mode=False)\n",
            "    (10): Conv2d(95, 176, kernel_size=(3, 3), stride=(1, 1), padding=(1, 1))\n",
            "    (11): ReLU(inplace=True)\n",
            "    (12): Conv2d(176, 159, kernel_size=(3, 3), stride=(1, 1), padding=(1, 1))\n",
            "    (13): ReLU(inplace=True)\n",
            "    (14): Conv2d(159, 166, kernel_size=(3, 3), stride=(1, 1), padding=(1, 1))\n",
            "    (15): ReLU(inplace=True)\n",
            "    (16): MaxPool2d(kernel_size=2, stride=2, padding=0, dilation=1, ceil_mode=False)\n",
            "    (17): Conv2d(166, 298, kernel_size=(3, 3), stride=(1, 1), padding=(1, 1))\n",
            "    (18): ReLU(inplace=True)\n",
            "    (19): Conv2d(298, 249, kernel_size=(3, 3), stride=(1, 1), padding=(1, 1))\n",
            "    (20): ReLU(inplace=True)\n",
            "    (21): Conv2d(249, 245, kernel_size=(3, 3), stride=(1, 1), padding=(1, 1))\n",
            "    (22): ReLU(inplace=True)\n",
            "    (23): MaxPool2d(kernel_size=2, stride=2, padding=0, dilation=1, ceil_mode=False)\n",
            "    (24): Conv2d(245, 243, kernel_size=(3, 3), stride=(1, 1), padding=(1, 1))\n",
            "    (25): ReLU(inplace=True)\n",
            "    (26): Conv2d(243, 233, kernel_size=(3, 3), stride=(1, 1), padding=(1, 1))\n",
            "    (27): ReLU(inplace=True)\n",
            "    (28): Conv2d(233, 210, kernel_size=(3, 3), stride=(1, 1), padding=(1, 1))\n",
            "    (29): ReLU(inplace=True)\n",
            "    (30): MaxPool2d(kernel_size=2, stride=2, padding=0, dilation=1, ceil_mode=False)\n",
            "  )\n",
            "  (avgpool): AdaptiveAvgPool2d(output_size=(7, 7))\n",
            "  (classifier): Sequential(\n",
            "    (0): Linear(in_features=10290, out_features=87, bias=True)\n",
            "    (1): ReLU(inplace=True)\n",
            "    (2): Dropout(p=0.5, inplace=False)\n",
            "    (3): Linear(in_features=87, out_features=1181, bias=True)\n",
            "    (4): ReLU(inplace=True)\n",
            "    (5): Dropout(p=0.5, inplace=False)\n",
            "    (6): Linear(in_features=1181, out_features=100, bias=True)\n",
            "  )\n",
            ")\n",
            "time: 3.6 ms (started: 2021-09-15 19:04:57 +00:00)\n"
          ]
        }
      ]
    },
    {
      "cell_type": "code",
      "metadata": {
        "colab": {
          "base_uri": "https://localhost:8080/"
        },
        "id": "MrzP-UEFjYdc",
        "outputId": "80f81b88-61e3-4ca6-c75f-a5106c527fae"
      },
      "source": [
        "stp_model = stp_model.to(device)\n",
        "acc, loss = evaluate(stp_model, test_dataloader)\n",
        "print('Accuracy : ',acc , '\\tLoss : ', loss)"
      ],
      "execution_count": null,
      "outputs": [
        {
          "name": "stdout",
          "output_type": "stream",
          "text": [
            "Accuracy :  22.55 \tLoss :  3.691333208873773\n",
            "time: 11.8 s (started: 2021-09-15 18:51:25 +00:00)\n"
          ]
        }
      ]
    },
    {
      "cell_type": "markdown",
      "metadata": {
        "id": "rMZXk1PhaxaP"
      },
      "source": [
        "# Fine Tuning"
      ]
    },
    {
      "cell_type": "code",
      "metadata": {
        "colab": {
          "base_uri": "https://localhost:8080/"
        },
        "id": "uBWA6KHyveuk",
        "outputId": "c2867cb8-6a65-4a63-93d8-8ca72bab0932"
      },
      "source": [
        "sgd_optimizer = torch.optim.SGD(stp_model.parameters(), lr = 0.001, momentum = 0.9)\n",
        "epochs = 5\n",
        "stp_model = stp_model.to(device)\n",
        "\n",
        "for epoch in range(epochs):\n",
        "  #Fit model\n",
        "  fit(stp_model, train_dataloader, sgd_optimizer, criterion)\n",
        "\n",
        "  #Train validation\n",
        "  trn_acc, trn_lss = evaluate(stp_model, train_dataloader)\n",
        "\n",
        "  #Test validation\n",
        "  tst_acc, tst_lss = evaluate(stp_model, test_dataloader)\n",
        "\n",
        "  print(f'Epoch:{epoch+1:2.0f}\\t Train_Loss:{trn_lss:.4f}\\t Train_Acc:{trn_acc:.4f}\\t Test_Loss:{tst_lss:.4f}\\t Test_Acc:{tst_acc:.4f}')"
      ],
      "execution_count": null,
      "outputs": [
        {
          "name": "stdout",
          "output_type": "stream",
          "text": [
            "Epoch: 1\t Train_Loss:0.7550\t Train_Acc:77.7100\t Test_Loss:1.2360\t Test_Acc:66.9100\n",
            "Epoch: 2\t Train_Loss:0.6192\t Train_Acc:81.6400\t Test_Loss:1.1803\t Test_Acc:68.8000\n",
            "Epoch: 3\t Train_Loss:0.5873\t Train_Acc:82.6380\t Test_Loss:1.1991\t Test_Acc:69.2300\n",
            "Epoch: 4\t Train_Loss:0.5924\t Train_Acc:82.4600\t Test_Loss:1.2134\t Test_Acc:69.1100\n",
            "Epoch: 5\t Train_Loss:0.5021\t Train_Acc:85.1320\t Test_Loss:1.1732\t Test_Acc:70.2100\n",
            "time: 15min 37s (started: 2021-09-15 19:05:02 +00:00)\n"
          ]
        }
      ]
    },
    {
      "cell_type": "code",
      "metadata": {
        "colab": {
          "base_uri": "https://localhost:8080/"
        },
        "id": "HFi1sMt2ONd2",
        "outputId": "0e962da4-55a9-4374-cfe6-6c9571a664e4"
      },
      "source": [
        "sgd_optimizer = torch.optim.SGD(stp_model.parameters(), lr = 0.0001, momentum = 0.9)\n",
        "epochs = 5\n",
        "\n",
        "for epoch in range(epochs):\n",
        "  #Fit model\n",
        "  fit(stp_model, train_dataloader, sgd_optimizer, criterion)\n",
        "\n",
        "  #Train validation\n",
        "  trn_acc, trn_lss = evaluate(stp_model, train_dataloader)\n",
        "\n",
        "  #Test validation\n",
        "  tst_acc, tst_lss = evaluate(stp_model, test_dataloader)\n",
        "\n",
        "  print(f'Epoch:{epoch+6:2.0f}\\t Train_Loss:{trn_lss:.4f}\\t Train_Acc:{trn_acc:.4f}\\t Test_Loss:{tst_lss:.4f}\\t Test_Acc:{tst_acc:.4f}')"
      ],
      "execution_count": null,
      "outputs": [
        {
          "name": "stdout",
          "output_type": "stream",
          "text": [
            "Epoch: 6\t Train_Loss:0.3602\t Train_Acc:89.0500\t Test_Loss:1.1275\t Test_Acc:72.7000\n",
            "Epoch: 7\t Train_Loss:0.3511\t Train_Acc:89.2980\t Test_Loss:1.1235\t Test_Acc:72.9000\n",
            "Epoch: 8\t Train_Loss:0.3340\t Train_Acc:89.6360\t Test_Loss:1.1497\t Test_Acc:72.9500\n",
            "Epoch: 9\t Train_Loss:0.3223\t Train_Acc:89.9640\t Test_Loss:1.1454\t Test_Acc:72.7900\n",
            "Epoch:10\t Train_Loss:0.3139\t Train_Acc:90.3260\t Test_Loss:1.1333\t Test_Acc:73.0900\n",
            "time: 15min 39s (started: 2021-09-15 19:22:54 +00:00)\n"
          ]
        }
      ]
    },
    {
      "cell_type": "code",
      "metadata": {
        "colab": {
          "base_uri": "https://localhost:8080/"
        },
        "id": "u76Mcs1S20Ko",
        "outputId": "989c89a8-0dbb-4117-a42f-682e8cc9801a"
      },
      "source": [
        "sgd_optimizer = torch.optim.SGD(stp_model.parameters(), lr = 0.00001, momentum = 0.9)\n",
        "epochs = 5\n",
        "\n",
        "for epoch in range(epochs):\n",
        "  #Fit model\n",
        "  fit(stp_model, train_dataloader, sgd_optimizer, criterion)\n",
        "\n",
        "  #Train validation\n",
        "  trn_acc, trn_lss = evaluate(stp_model, train_dataloader)\n",
        "\n",
        "  #Test validation\n",
        "  tst_acc, tst_lss = evaluate(stp_model, test_dataloader)\n",
        "\n",
        "  print(f'Epoch:{epoch+11:2.0f}\\t Train_Loss:{trn_lss:.4f}\\t Train_Acc:{trn_acc:.4f}\\t Test_Loss:{tst_lss:.4f}\\t Test_Acc:{tst_acc:.4f}')"
      ],
      "execution_count": 20,
      "outputs": [
        {
          "output_type": "stream",
          "name": "stdout",
          "text": [
            "Epoch:11\t Train_Loss:0.2683\t Train_Acc:91.6420\t Test_Loss:1.1819\t Test_Acc:73.2200\n",
            "Epoch:12\t Train_Loss:0.2665\t Train_Acc:91.7580\t Test_Loss:1.1863\t Test_Acc:73.2500\n",
            "Epoch:13\t Train_Loss:0.2649\t Train_Acc:91.7240\t Test_Loss:1.1833\t Test_Acc:73.1100\n",
            "Epoch:14\t Train_Loss:0.2628\t Train_Acc:91.7820\t Test_Loss:1.1886\t Test_Acc:73.4000\n",
            "Epoch:15\t Train_Loss:0.2626\t Train_Acc:91.8920\t Test_Loss:1.1903\t Test_Acc:73.3800\n",
            "time: 15min 53s (started: 2021-09-20 20:18:23 +00:00)\n"
          ]
        }
      ]
    },
    {
      "cell_type": "markdown",
      "metadata": {
        "id": "SXcpPwuh8M4x"
      },
      "source": [
        "# Testing"
      ]
    },
    {
      "cell_type": "code",
      "metadata": {
        "colab": {
          "base_uri": "https://localhost:8080/"
        },
        "id": "L_maO7dZ8PgB",
        "outputId": "f4c2c6f0-538e-4cf3-ca96-d9934f6a5abd"
      },
      "source": [
        "acc, loss = evaluate(stp_model, test_dataloader)\n",
        "print('Accuracy : ',acc , '\\tLoss : ', loss)"
      ],
      "execution_count": 21,
      "outputs": [
        {
          "output_type": "stream",
          "name": "stdout",
          "text": [
            "Accuracy :  73.38 \tLoss :  1.1903043569652898\n",
            "time: 12.3 s (started: 2021-09-20 20:34:38 +00:00)\n"
          ]
        }
      ]
    },
    {
      "cell_type": "markdown",
      "metadata": {
        "id": "cWto6VCu2DDz"
      },
      "source": [
        "# Save Pruned Model"
      ]
    },
    {
      "cell_type": "code",
      "metadata": {
        "colab": {
          "base_uri": "https://localhost:8080/"
        },
        "id": "VYdb1xC82Cfs",
        "outputId": "5c5739bf-a3bf-4d50-b41e-9f668b0a3c6c"
      },
      "source": [
        "torch.save(stp_model, 'PrunedModel_V2.pt')"
      ],
      "execution_count": 22,
      "outputs": [
        {
          "output_type": "stream",
          "name": "stdout",
          "text": [
            "time: 53.9 ms (started: 2021-09-20 20:34:50 +00:00)\n"
          ]
        }
      ]
    }
  ]
}